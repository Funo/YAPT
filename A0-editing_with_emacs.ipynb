{
 "cells": [
  {
   "cell_type": "markdown",
   "metadata": {
    "deletable": true,
    "editable": true
   },
   "source": [
    "# Python editting"
   ]
  },
  {
   "cell_type": "markdown",
   "metadata": {
    "deletable": true,
    "editable": true
   },
   "source": [
    "## 1. Install [GNU Emacs](https://www.gnu.org/software/emacs/)"
   ]
  },
  {
   "cell_type": "markdown",
   "metadata": {
    "deletable": true,
    "editable": true
   },
   "source": [
    "### OS X\n",
    "Run:\n",
    "```\n",
    "brew update                     # Synchronize the local Homebrew database\n",
    "brew install emacs --with-cocoa # Allows to start Emacs from the launchpad or from Spotlight\n",
    "brew linkapps emacs             # To symlink Emacs to \"/Applications\"\n",
    "```"
   ]
  },
  {
   "cell_type": "markdown",
   "metadata": {
    "deletable": true,
    "editable": true
   },
   "source": [
    "### Ubuntu\n",
    "Run:\n",
    "```\n",
    "apt-get install emacs\n",
    "```"
   ]
  },
  {
   "cell_type": "markdown",
   "metadata": {
    "deletable": true,
    "editable": true
   },
   "source": [
    "### Windows\n",
    "Download it from \"http://ftp.gnu.org/gnu/emacs/windows/ and install it.\n"
   ]
  },
  {
   "cell_type": "markdown",
   "metadata": {
    "deletable": true,
    "editable": true
   },
   "source": [
    "## 2. Install [ELPY](https://github.com/jorgenschaefer/elpy/wiki)"
   ]
  },
  {
   "cell_type": "markdown",
   "metadata": {
    "deletable": true,
    "editable": true
   },
   "source": [
    "Original documentation: https://elpy.readthedocs.io/en/latest/introduction.html#installation"
   ]
  },
  {
   "cell_type": "markdown",
   "metadata": {
    "deletable": true,
    "editable": true
   },
   "source": [
    "### Include the URL of the Elpy repository"
   ]
  },
  {
   "cell_type": "markdown",
   "metadata": {
    "deletable": true,
    "editable": true
   },
   "source": [
    "Add this Elisp code to the `~/.emacs` file ... and restart Emacs:"
   ]
  },
  {
   "cell_type": "markdown",
   "metadata": {
    "deletable": true,
    "editable": true
   },
   "source": [
    "```\n",
    "(require 'package)\n",
    "(add-to-list 'package-archives\n",
    "             '(\"elpy\" . \"http://jorgenschaefer.github.io/packages/\"))\n",
    "```"
   ]
  },
  {
   "cell_type": "markdown",
   "metadata": {
    "deletable": true,
    "editable": true
   },
   "source": [
    "### Load the Emac's Elpy package"
   ]
  },
  {
   "cell_type": "markdown",
   "metadata": {
    "deletable": true,
    "editable": true
   },
   "source": [
    "```\n",
    "Key in: M-x package-install RET elpy RET\n",
    "Note: you can select a package to be deleted by pressing the key \"d\" when it is highlighted and deselect it with the key \"u\".\n",
    "```"
   ]
  },
  {
   "cell_type": "markdown",
   "metadata": {
    "deletable": true,
    "editable": true
   },
   "source": [
    "### Enable Elpy by default (optional):"
   ]
  },
  {
   "cell_type": "markdown",
   "metadata": {
    "deletable": true,
    "editable": true
   },
   "source": [
    "Add this Elisp code to the `~/.emacs` file ... and restart emacs."
   ]
  },
  {
   "cell_type": "markdown",
   "metadata": {
    "deletable": true,
    "editable": true
   },
   "source": [
    "```\n",
    "(package-initialize)\n",
    "(elpy-enable)\n",
    "```"
   ]
  },
  {
   "cell_type": "markdown",
   "metadata": {
    "deletable": true,
    "editable": true
   },
   "source": [
    "### Configure Elpy:"
   ]
  },
  {
   "cell_type": "markdown",
   "metadata": {
    "deletable": true,
    "editable": true
   },
   "source": [
    "In Emacs, key-in:"
   ]
  },
  {
   "cell_type": "markdown",
   "metadata": {
    "deletable": true,
    "editable": true
   },
   "source": [
    "```\n",
    "M-x elpy-config\n",
    "```"
   ]
  },
  {
   "cell_type": "markdown",
   "metadata": {
    "deletable": true,
    "editable": true
   },
   "source": [
    "Elpy will check the Elpy-related Python packages which are available and will display a summary. At this moment, the following packages should be missing (and therefore, installed). After that, Emacs need to be reset (closed and open):"
   ]
  },
  {
   "cell_type": "markdown",
   "metadata": {
    "deletable": true,
    "editable": true
   },
   "source": [
    "1. [Jedi](https://pypi.python.org/pypi/jedi/), an autocompletion tool for Python that can be used for text editors:\n",
    "```\n",
    "pip install jedi\n",
    "```\n",
    "2. [Rope](https://pypi.python.org/pypi/rope_py3k), a Python [refactoring](https://en.wikipedia.org/wiki/Code_refactoring):\n",
    "```\n",
    "pip install rope_py3k # This is the Python3 version of rope\n",
    "```\n",
    "3. [Import Magick](https://pypi.python.org/pypi/importmagic), add, remove and manage imports:\n",
    "```\n",
    "pip install importmagic\n",
    "```\n",
    "4. [autopep8](https://pypi.python.org/pypi/autopep8), automatically formats Python code to conform to the [PEP 8 style guide](https://www.python.org/dev/peps/pep-0008/):\n",
    "```\n",
    "pip install autopep8\n",
    "```\n",
    "5. [YAPF](https://pypi.python.org/pypi/yapf), formats Python code to conform the [clang-format style guide](http://clang.llvm.org/docs/ClangFormatStyleOptions.html):\n",
    "```\n",
    "pip install yapf\n",
    "```\n",
    "6. [Flake8](https://pypi.python.org/pypi/flake8), a source code checker:\n",
    "```\n",
    "pip install flake8\n",
    "```"
   ]
  },
  {
   "cell_type": "markdown",
   "metadata": {},
   "source": [
    "## Jedi directly from Emacs\n",
    "\n",
    "In the shell:\n",
    "```\n",
    "pip install epc\n",
    "```\n",
    "\n",
    "In emacs:\n",
    "```\n",
    "M-x package-install RET jedi RET\n",
    "```"
   ]
  },
  {
   "cell_type": "code",
   "execution_count": null,
   "metadata": {
    "collapsed": true
   },
   "outputs": [],
   "source": []
  }
 ],
 "metadata": {
  "kernelspec": {
   "display_name": "Python 3",
   "language": "python",
   "name": "python3"
  },
  "language_info": {
   "codemirror_mode": {
    "name": "ipython",
    "version": 3
   },
   "file_extension": ".py",
   "mimetype": "text/x-python",
   "name": "python",
   "nbconvert_exporter": "python",
   "pygments_lexer": "ipython3",
   "version": "3.6.2"
  }
 },
 "nbformat": 4,
 "nbformat_minor": 1
}
