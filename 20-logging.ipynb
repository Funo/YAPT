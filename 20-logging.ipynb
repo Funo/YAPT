{
 "cells": [
  {
   "cell_type": "markdown",
   "metadata": {},
   "source": [
    "# Logging\n",
    "Useful for checking what is happening (or happened) with the execution of a Python program. "
   ]
  },
  {
   "cell_type": "code",
   "execution_count": 1,
   "metadata": {
    "collapsed": false
   },
   "outputs": [
    {
     "name": "stdout",
     "output_type": "stream",
     "text": [
      "This is a Unix machine\n",
      "Logging to /Users/vruiz/test.log\n"
     ]
    }
   ],
   "source": [
    "# https://python.swaroopch.com/stdlib.html\n",
    "\n",
    "import os\n",
    "import platform\n",
    "import logging\n",
    "\n",
    "if platform.platform().startswith('Windows'):\n",
    "    logging_file = os.path.join(os.getenv('HOMEDRIVE'),\n",
    "                                os.getenv('HOMEPATH'),\n",
    "                                'test.log')\n",
    "    print('This is a Windows machine')\n",
    "else:\n",
    "    logging_file = os.path.join(os.getenv('HOME'),\n",
    "                                'test.log')\n",
    "    print('This is a Unix machine')\n",
    "\n",
    "print(\"Logging to\", logging_file)\n",
    "\n",
    "logging.basicConfig(\n",
    "    level=logging.INFO, # DEBUG > INFO > WARNING\n",
    "    format='%(asctime)s : %(levelname)s : %(message)s',\n",
    "    filename=logging_file,\n",
    "    filemode='w',\n",
    ")\n",
    "\n",
    "logging.debug(\"This is a debugging message\")\n",
    "logging.warning(\"This is a warning message\")\n",
    "logging.info(\"This is a information message\")"
   ]
  },
  {
   "cell_type": "code",
   "execution_count": 2,
   "metadata": {
    "collapsed": false
   },
   "outputs": [
    {
     "name": "stdout",
     "output_type": "stream",
     "text": [
      "2017-03-13 17:57:20,188 : WARNING : This is a warning message\r\n",
      "2017-03-13 17:57:20,189 : INFO : This is a information message\r\n"
     ]
    }
   ],
   "source": [
    "! cat $HOME/test.log"
   ]
  },
  {
   "cell_type": "code",
   "execution_count": 3,
   "metadata": {
    "collapsed": false
   },
   "outputs": [
    {
     "name": "stdout",
     "output_type": "stream",
     "text": [
      "2017-03-13 17:57:20,189 : INFO : This is a information message\r\n"
     ]
    }
   ],
   "source": [
    "! cat $HOME/test.log | grep INFO"
   ]
  }
 ],
 "metadata": {
  "kernelspec": {
   "display_name": "Python 3",
   "language": "python",
   "name": "python3"
  },
  "language_info": {
   "codemirror_mode": {
    "name": "ipython",
    "version": 3
   },
   "file_extension": ".py",
   "mimetype": "text/x-python",
   "name": "python",
   "nbconvert_exporter": "python",
   "pygments_lexer": "ipython3",
   "version": "3.6.0"
  }
 },
 "nbformat": 4,
 "nbformat_minor": 1
}
