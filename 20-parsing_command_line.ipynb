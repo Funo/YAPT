{
 "cells": [
  {
   "cell_type": "markdown",
   "metadata": {
    "deletable": true,
    "editable": true
   },
   "source": [
    "# Parsing the command-line\n",
    "Useful for running modules from the shell."
   ]
  },
  {
   "cell_type": "markdown",
   "metadata": {
    "deletable": true,
    "editable": true
   },
   "source": [
    "## 1. [1] Using `argparse`"
   ]
  },
  {
   "cell_type": "code",
   "execution_count": null,
   "metadata": {
    "collapsed": false,
    "deletable": true,
    "editable": true
   },
   "outputs": [],
   "source": [
    "%%writefile parsing_command_line.py\n",
    "import argparse\n",
    "\n",
    "try:\n",
    "    import argcomplete  # Bash tab completion for argparse in Unixes\n",
    "except ImportError:\n",
    "    pass\n",
    "\n",
    "parser = argparse.ArgumentParser(description='A command-line parser')\n",
    "\n",
    "arg_1 = 'default value'\n",
    "arg_2 = 10\n",
    "\n",
    "parser.add_argument('--arg_1', help='This is the first argument ({})'.format(arg_1))\n",
    "parser.add_argument('--arg_2', help='This is the second argument ({})'.format(arg_2))\n",
    "parser.add_argument('--option', action='store_true', help='This is an option')\n",
    "\n",
    "try:\n",
    "    argcomplete.autocomplete(parser)\n",
    "except:\n",
    "    pass\n",
    "\n",
    "args = parser.parse_known_args()[0]\n",
    "#args = parser.parse_args()\n",
    "\n",
    "if args.arg_1:\n",
    "    arg_1 = args.arg_1\n",
    "if args.arg_2:\n",
    "    arg_2 = args.arg_2\n",
    "\n",
    "print('arg_1 = {}'.format(arg_1))\n",
    "print('arg_2 = {}'.format(arg_2))\n",
    "\n",
    "if args.option:\n",
    "    print('option enabled')"
   ]
  },
  {
   "cell_type": "code",
   "execution_count": null,
   "metadata": {
    "collapsed": false,
    "deletable": true,
    "editable": true
   },
   "outputs": [],
   "source": [
    "! python parsing_command_line.py -h"
   ]
  },
  {
   "cell_type": "code",
   "execution_count": null,
   "metadata": {
    "collapsed": false,
    "deletable": true,
    "editable": true
   },
   "outputs": [],
   "source": [
    "! python parsing_command_line.py --option"
   ]
  },
  {
   "cell_type": "code",
   "execution_count": null,
   "metadata": {
    "collapsed": false,
    "deletable": true,
    "editable": true
   },
   "outputs": [],
   "source": [
    "! python parsing_command_line.py --option --arg_1=20 --arg_2=\"hello world!\""
   ]
  },
  {
   "cell_type": "markdown",
   "metadata": {
    "deletable": true,
    "editable": true
   },
   "source": [
    "## 2. [0] Using `fire`:\n",
    "```\n",
    "pip install fire\n",
    "```"
   ]
  },
  {
   "cell_type": "code",
   "execution_count": null,
   "metadata": {
    "collapsed": false,
    "deletable": true,
    "editable": true
   },
   "outputs": [],
   "source": [
    "%%writefile using_fire.py\n",
    "import fire\n",
    "\n",
    "class A():\n",
    "    def do_something(self, x, y):\n",
    "        print('Doing something with:', y, x)\n",
    "        \n",
    "fire.Fire(A)"
   ]
  },
  {
   "cell_type": "code",
   "execution_count": null,
   "metadata": {
    "collapsed": false,
    "deletable": true,
    "editable": true
   },
   "outputs": [],
   "source": [
    "!python3 using_fire.py"
   ]
  },
  {
   "cell_type": "code",
   "execution_count": null,
   "metadata": {
    "collapsed": false,
    "deletable": true,
    "editable": true
   },
   "outputs": [],
   "source": [
    "!python using_fire.py do-something hola caracola"
   ]
  }
 ],
 "metadata": {
  "kernelspec": {
   "display_name": "yapt",
   "language": "python",
   "name": "yapt"
  },
  "language_info": {
   "codemirror_mode": {
    "name": "ipython",
    "version": 3
   },
   "file_extension": ".py",
   "mimetype": "text/x-python",
   "name": "python",
   "nbconvert_exporter": "python",
   "pygments_lexer": "ipython3",
   "version": "3.5.2"
  }
 },
 "nbformat": 4,
 "nbformat_minor": 1
}
