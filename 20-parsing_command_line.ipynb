{
 "cells": [
  {
   "cell_type": "markdown",
   "metadata": {},
   "source": [
    "# Parsing the command-line\n",
    "Useful for running modules from the shell."
   ]
  },
  {
   "cell_type": "code",
   "execution_count": 19,
   "metadata": {
    "collapsed": false
   },
   "outputs": [
    {
     "name": "stdout",
     "output_type": "stream",
     "text": [
      "Overwriting parsing_command_line.py\n"
     ]
    }
   ],
   "source": [
    "%%writefile parsing_command_line.py\n",
    "import argparse\n",
    "import argparse\n",
    "try:\n",
    "    import argcomplete  # Bash tab completion for argparse in Unixes\n",
    "except ImportError:\n",
    "    pass\n",
    "\n",
    "parser = argparse.ArgumentParser(description='A command-line parser')\n",
    "\n",
    "arg_1 = 'default value'\n",
    "arg_2 = 10\n",
    "\n",
    "parser.add_argument('--arg_1', help='This is the first argument ({})'.format(arg_1))\n",
    "parser.add_argument('--arg_2', help='This is the second argument ({})'.format(arg_2))\n",
    "parser.add_argument('--option', action='store_true', help='This is an option')\n",
    "\n",
    "try:\n",
    "    argcomplete.autocomplete(parser)\n",
    "except:\n",
    "    pass\n",
    "\n",
    "args = parser.parse_known_args()[0]\n",
    "#args = parser.parse_args()\n",
    "\n",
    "if args.arg_1:\n",
    "    arg_1 = args.arg_1\n",
    "if args.arg_2:\n",
    "    arg_2 = args.arg_2\n",
    "\n",
    "print('arg_1 = {}'.format(arg_1))\n",
    "print('arg_2 = {}'.format(arg_2))\n",
    "\n",
    "if args.option:\n",
    "    print('option enabled')"
   ]
  },
  {
   "cell_type": "code",
   "execution_count": 20,
   "metadata": {
    "collapsed": false
   },
   "outputs": [
    {
     "name": "stdout",
     "output_type": "stream",
     "text": [
      "usage: parsing_command_line.py [-h] [--arg_1 ARG_1] [--arg_2 ARG_2] [--option]\r\n",
      "\r\n",
      "A command-line parser\r\n",
      "\r\n",
      "optional arguments:\r\n",
      "  -h, --help     show this help message and exit\r\n",
      "  --arg_1 ARG_1  This is the first argument (default value)\r\n",
      "  --arg_2 ARG_2  This is the second argument (10)\r\n",
      "  --option       This is an option\r\n"
     ]
    }
   ],
   "source": [
    "! python parsing_command_line.py -h"
   ]
  },
  {
   "cell_type": "code",
   "execution_count": 16,
   "metadata": {
    "collapsed": false
   },
   "outputs": [
    {
     "name": "stdout",
     "output_type": "stream",
     "text": [
      "arg_1 = default vaule\r\n",
      "arg_2 = 10\r\n",
      "option enabled\r\n"
     ]
    }
   ],
   "source": [
    "! python parsing_command_line.py --option"
   ]
  },
  {
   "cell_type": "code",
   "execution_count": 17,
   "metadata": {
    "collapsed": false
   },
   "outputs": [
    {
     "name": "stdout",
     "output_type": "stream",
     "text": [
      "arg_1 = 20\r\n",
      "arg_2 = hello world!\r\n",
      "option enabled\r\n"
     ]
    }
   ],
   "source": [
    "! python parsing_command_line.py --option --arg_1=20 --arg_2=\"hello world!\""
   ]
  }
 ],
 "metadata": {
  "kernelspec": {
   "display_name": "Python 3",
   "language": "python",
   "name": "python3"
  },
  "language_info": {
   "codemirror_mode": {
    "name": "ipython",
    "version": 3
   },
   "file_extension": ".py",
   "mimetype": "text/x-python",
   "name": "python",
   "nbconvert_exporter": "python",
   "pygments_lexer": "ipython3",
   "version": "3.5.2"
  }
 },
 "nbformat": 4,
 "nbformat_minor": 1
}
