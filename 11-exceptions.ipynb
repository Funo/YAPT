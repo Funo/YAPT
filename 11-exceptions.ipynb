{
 "cells": [
  {
   "cell_type": "markdown",
   "metadata": {},
   "source": [
    "# Exceptions\n",
    "An exception is an event which occurs during the execution of a program and that disrupts the normal flow of the program's instructions. When a Python script raises an exception, it must either handle the exception immediately. Otherwise it terminates and quits."
   ]
  },
  {
   "cell_type": "markdown",
   "metadata": {},
   "source": [
    "## 1. Handling (solving) exceptions"
   ]
  },
  {
   "cell_type": "markdown",
   "metadata": {},
   "source": [
    "### 1.1. Catching exceptions\n",
    "Exceptions are used for handle errors or inusual situations. "
   ]
  },
  {
   "cell_type": "code",
   "execution_count": 1,
   "metadata": {
    "collapsed": false
   },
   "outputs": [
    {
     "name": "stdout",
     "output_type": "stream",
     "text": [
      "Sorry, something wrong happened :-(\n"
     ]
    },
    {
     "ename": "NameError",
     "evalue": "name 'text' is not defined",
     "output_type": "error",
     "traceback": [
      "\u001b[0;31m---------------------------------------------------------------------------\u001b[0m",
      "\u001b[0;31mNameError\u001b[0m                                 Traceback (most recent call last)",
      "\u001b[0;32m<ipython-input-1-cffe0bdc1b39>\u001b[0m in \u001b[0;36m<module>\u001b[0;34m()\u001b[0m\n\u001b[1;32m      6\u001b[0m \u001b[0;34m\u001b[0m\u001b[0m\n\u001b[1;32m      7\u001b[0m \u001b[0;31m# This command never should be executed if you didn't provide an input\u001b[0m\u001b[0;34m\u001b[0m\u001b[0;34m\u001b[0m\u001b[0m\n\u001b[0;32m----> 8\u001b[0;31m \u001b[0mprint\u001b[0m\u001b[0;34m(\u001b[0m\u001b[0;34m'You entered \"{}\".'\u001b[0m\u001b[0;34m.\u001b[0m\u001b[0mformat\u001b[0m\u001b[0;34m(\u001b[0m\u001b[0mtext\u001b[0m\u001b[0;34m)\u001b[0m\u001b[0;34m)\u001b[0m\u001b[0;34m\u001b[0m\u001b[0m\n\u001b[0m",
      "\u001b[0;31mNameError\u001b[0m: name 'text' is not defined"
     ]
    }
   ],
   "source": [
    "# Note: You must interrupt the kernel (see the menu) in order to simulate <ctrl>+c.\n",
    "try:\n",
    "    text = input('Please, enter something: ')\n",
    "except:\n",
    "    print('Sorry, something wrong happened :-(')\n",
    "    \n",
    "# This command never should be executed if you didn't provide an input\n",
    "print('You entered \"{}\".'.format(text))"
   ]
  },
  {
   "cell_type": "markdown",
   "metadata": {},
   "source": [
    "### 1.2. Defining alternatives with `else`\n",
    "The `else` statement solves the previous problem (run code incorrectly)."
   ]
  },
  {
   "cell_type": "code",
   "execution_count": 2,
   "metadata": {
    "collapsed": false
   },
   "outputs": [
    {
     "name": "stdout",
     "output_type": "stream",
     "text": [
      "Sorry, something wrong happened :-(\n"
     ]
    }
   ],
   "source": [
    "try:\n",
    "    text = input('Please, enter something: ')\n",
    "except:\n",
    "    print('Sorry, something wrong happened :-(')\n",
    "else:\n",
    "    # Now this statement is executed only if you provided an input\n",
    "    print('You entered \"{}\".'.format(text))"
   ]
  },
  {
   "cell_type": "markdown",
   "metadata": {},
   "source": [
    "### 1.3. The `finally` code is executed yes or yes\n",
    "No matter what happend in the rest of sections of the `try` statement (even if an exception is thrown in these sections)."
   ]
  },
  {
   "cell_type": "code",
   "execution_count": 3,
   "metadata": {
    "collapsed": false
   },
   "outputs": [
    {
     "name": "stdout",
     "output_type": "stream",
     "text": [
      "Sorry, something wrong happened :-(\n",
      "Thanks for your interaction!\n"
     ]
    }
   ],
   "source": [
    "try:\n",
    "    text = input('Please, enter something: ')\n",
    "except:\n",
    "    print('Sorry, something wrong happened :-(')\n",
    "else:\n",
    "    print('You entered \"{}\".'.format(text))\n",
    "finally:\n",
    "    # This will always executed, with exception or not.\n",
    "    print('Thanks for your interaction!')"
   ]
  },
  {
   "cell_type": "markdown",
   "metadata": {},
   "source": [
    "### 1.4. Discriminating exceptions"
   ]
  },
  {
   "cell_type": "markdown",
   "metadata": {},
   "source": [
    "The `except` statement accepts the type of exception as an argument. This is suitable to refine the exception handling."
   ]
  },
  {
   "cell_type": "code",
   "execution_count": 13,
   "metadata": {
    "collapsed": false
   },
   "outputs": [
    {
     "name": "stdout",
     "output_type": "stream",
     "text": [
      "Sorry, you cancelled the input (<ctrl>+c) :-(\n",
      "Thanks for your interaction!\n"
     ]
    }
   ],
   "source": [
    "try:\n",
    "    text = input('Please, enter something: ')\n",
    "except EOFError: # Exception specific for input()\n",
    "    print('Sorry, you didn\\'t enter anything (<ctrl>+d) :-(')\n",
    "except KeyboardInterrupt: # Exception raised when a program is interrupted\n",
    "    print('Sorry, you cancelled the input (<ctrl>+c) :-(')\n",
    "else:\n",
    "    print('You entered \"{}\".'.format(text))\n",
    "finally:\n",
    "    print('Thanks for your interaction!')"
   ]
  },
  {
   "cell_type": "markdown",
   "metadata": {},
   "source": [
    "## 2. Raising exceptions\n",
    "Sometimes we don't want or know how to manage an exception in the current function (or method). In this case, the exception can be *propagated* upwards the code called (directly or indirectly) by the exception. Exceptions generated by a statement are documented and accesible through the built-in `help()` function."
   ]
  },
  {
   "cell_type": "code",
   "execution_count": 4,
   "metadata": {
    "collapsed": false
   },
   "outputs": [
    {
     "name": "stdout",
     "output_type": "stream",
     "text": [
      "Sorry, you can't cancel the input :-(\n",
      "Please, try again\n",
      "Please, enter something: 4\n"
     ]
    }
   ],
   "source": [
    "def keyboard_input():\n",
    "    try:\n",
    "        text = input('Please, enter something: ')\n",
    "    except KeyboardInterrupt: # Exception raised when a program is interrupted\n",
    "        print(\"Sorry, you can't cancel the input :-(\")\n",
    "        raise\n",
    "\n",
    "while True:\n",
    "    try:\n",
    "        keyboard_input()\n",
    "        break\n",
    "    except KeyboardInterrupt:\n",
    "        print('Please, try again')"
   ]
  },
  {
   "cell_type": "markdown",
   "metadata": {},
   "source": [
    "## 3. Creating (new type of) exceptions\n",
    "Exceptions can be created, for example, to increase the functionality of an existing one. All exceptions must be derived (directly or indirectly) from the `Exception` class."
   ]
  },
  {
   "cell_type": "code",
   "execution_count": 1,
   "metadata": {
    "collapsed": false
   },
   "outputs": [
    {
     "name": "stdout",
     "output_type": "stream",
     "text": [
      "0\n",
      "1\n",
      "2\n",
      "3\n",
      "4\n",
      "5\n",
      "6\n",
      "7\n",
      "8\n",
      "9\n",
      "The stack is full. i=10\n",
      "0 9\n",
      "1 8\n",
      "2 7\n",
      "3 6\n",
      "4 5\n",
      "5 4\n",
      "6 3\n",
      "7 2\n",
      "8 1\n",
      "9 0\n",
      "The stack is empty. i=10\n"
     ]
    }
   ],
   "source": [
    "class SmallStackFull(Exception):\n",
    "    pass\n",
    "    \n",
    "class SmallStackEmpty(Exception):\n",
    "    pass\n",
    "\n",
    "class SmallStack():\n",
    "    '''A stack structure with 10 slots.'''\n",
    "    \n",
    "    def __init__(self):\n",
    "        '''Create the stack.'''\n",
    "        self.stack = [None]*10\n",
    "        self.counter = 0\n",
    "        \n",
    "    def push(self, x)->None:\n",
    "        '''Put \"x\" on the stack.\n",
    "        \n",
    "        Raises SmallStackFull upon fullness.\n",
    "        '''\n",
    "        if self.counter < 10:\n",
    "            self.stack[self.counter] = x\n",
    "            self.counter += 1\n",
    "        else:\n",
    "            raise SmallStackFull\n",
    "        \n",
    "    def pop(self)->object:\n",
    "        '''Remove the last element inserter in the stack.\n",
    "        \n",
    "        Raises SmallStackEmpty upon emptyness.\n",
    "        '''\n",
    "        if self.counter > 0:\n",
    "            self.counter -= 1\n",
    "            return self.stack[self.counter]\n",
    "        else:\n",
    "            raise SmallStackEmpty\n",
    "\n",
    "s = SmallStack()\n",
    "\n",
    "try:\n",
    "    for i in range(100):\n",
    "        s.push(i)\n",
    "        print(i)\n",
    "except SmallStackFull:\n",
    "    print('The stack is full. i={}'.format(i))\n",
    "    \n",
    "try:\n",
    "    for i in range(100):\n",
    "        print(i, s.pop())\n",
    "except SmallStackEmpty:\n",
    "    print('The stack is empty. i={}'.format(i))\n"
   ]
  },
  {
   "cell_type": "markdown",
   "metadata": {
    "collapsed": true
   },
   "source": [
    "## 4. Asserting\n",
    "Assertions are statements that throw an exception (`AssertionError`) when some condition is true. For this reason they are used in testing time. Assertions are ignored when the interpreter is invoked in release mode (using the `-O` flag)."
   ]
  },
  {
   "cell_type": "code",
   "execution_count": 27,
   "metadata": {
    "collapsed": false
   },
   "outputs": [
    {
     "name": "stdout",
     "output_type": "stream",
     "text": [
      "def divide(a,b):\r\n",
      "    assert(b>0), 'Error! (b == {})'.format(b)\r\n",
      "    return a/b\r\n",
      "    \r\n",
      "try:\r\n",
      "    print(divide(1,0))\r\n",
      "except AssertionError as e:\r\n",
      "    print(e)\r\n",
      "    \r\n",
      "try:\r\n",
      "    print(divide(1,2))\r\n",
      "except AssertionError as e:\r\n",
      "    print(e)\r\n"
     ]
    }
   ],
   "source": [
    "! cat testing_assertions.py"
   ]
  },
  {
   "cell_type": "code",
   "execution_count": 29,
   "metadata": {
    "collapsed": false
   },
   "outputs": [
    {
     "name": "stdout",
     "output_type": "stream",
     "text": [
      "Error! (b == 0)\r\n",
      "0\r\n"
     ]
    }
   ],
   "source": [
    "! python testing_assertions.py"
   ]
  },
  {
   "cell_type": "code",
   "execution_count": 30,
   "metadata": {
    "collapsed": false
   },
   "outputs": [
    {
     "name": "stdout",
     "output_type": "stream",
     "text": [
      "Traceback (most recent call last):\r\n",
      "  File \"testing_assertions.py\", line 6, in <module>\r\n",
      "    print(divide(1,0))\r\n",
      "  File \"testing_assertions.py\", line 3, in divide\r\n",
      "    return a/b\r\n",
      "ZeroDivisionError: integer division or modulo by zero\r\n"
     ]
    }
   ],
   "source": [
    "! python -O testing_assertions.py"
   ]
  }
 ],
 "metadata": {
  "kernelspec": {
   "display_name": "Python 3",
   "language": "python",
   "name": "python3"
  },
  "language_info": {
   "codemirror_mode": {
    "name": "ipython",
    "version": 3
   },
   "file_extension": ".py",
   "mimetype": "text/x-python",
   "name": "python",
   "nbconvert_exporter": "python",
   "pygments_lexer": "ipython3",
   "version": "3.6.0"
  }
 },
 "nbformat": 4,
 "nbformat_minor": 1
}
