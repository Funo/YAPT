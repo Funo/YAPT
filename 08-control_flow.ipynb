{
 "cells": [
  {
   "cell_type": "markdown",
   "metadata": {},
   "source": [
    "# Control flow"
   ]
  },
  {
   "cell_type": "markdown",
   "metadata": {},
   "source": [
    "##  Conditional execution"
   ]
  },
  {
   "cell_type": "markdown",
   "metadata": {},
   "source": [
    "### Using `if` ... `elif` ... `else`"
   ]
  },
  {
   "cell_type": "markdown",
   "metadata": {},
   "source": [
    "A simple example:"
   ]
  },
  {
   "cell_type": "code",
   "execution_count": 137,
   "metadata": {
    "collapsed": true
   },
   "outputs": [],
   "source": [
    "# Some functions\n",
    "def _1():\n",
    "    return 'You entered one'\n",
    "\n",
    "def _2():\n",
    "    return 'You entered two'\n",
    "\n",
    "def different():\n",
    "    return 'You dit not enter one or two'"
   ]
  },
  {
   "cell_type": "code",
   "execution_count": 138,
   "metadata": {
    "collapsed": false
   },
   "outputs": [
    {
     "name": "stdout",
     "output_type": "stream",
     "text": [
      "Please, enter a natural number: 1\n",
      "You entered one\n"
     ]
    }
   ],
   "source": [
    "a = int(input('Please, enter a natural number: '))\n",
    "if a == 1:\n",
    "    print(_1())\n",
    "elif a == 2:\n",
    "    print(_2())\n",
    "else:\n",
    "    print(different())"
   ]
  },
  {
   "cell_type": "markdown",
   "metadata": {},
   "source": [
    "### Using a dictionary"
   ]
  },
  {
   "cell_type": "markdown",
   "metadata": {},
   "source": [
    "We use a dictionary which stores functions:"
   ]
  },
  {
   "cell_type": "code",
   "execution_count": 139,
   "metadata": {
    "collapsed": false
   },
   "outputs": [
    {
     "name": "stdout",
     "output_type": "stream",
     "text": [
      "Please, enter a natural number: 1\n",
      "You entered one\n"
     ]
    }
   ],
   "source": [
    "a = int(input('Please, enter a natural number: '))\n",
    "switcher = {\n",
    "    1: _1,\n",
    "    2: _2\n",
    "}\n",
    "print(switcher.get(a, different)())"
   ]
  },
  {
   "cell_type": "markdown",
   "metadata": {},
   "source": [
    "A different version that at run-time evaluates the \"values\" (functions) indexed by the dictionary:"
   ]
  },
  {
   "cell_type": "code",
   "execution_count": 140,
   "metadata": {
    "collapsed": false
   },
   "outputs": [
    {
     "name": "stdout",
     "output_type": "stream",
     "text": [
      "Please, enter a natural number: 1\n",
      "You entered one\n"
     ]
    }
   ],
   "source": [
    "a = int(input('Please, enter a natural number: '))\n",
    "switcher = {\n",
    "    1: _1(),\n",
    "    2: _2()\n",
    "}\n",
    "print(switcher.get(a, different()))"
   ]
  },
  {
   "cell_type": "markdown",
   "metadata": {},
   "source": [
    "### Building a function call at run-time"
   ]
  },
  {
   "cell_type": "markdown",
   "metadata": {},
   "source": [
    "Using a $\\lambda$-function:"
   ]
  },
  {
   "cell_type": "code",
   "execution_count": 142,
   "metadata": {
    "collapsed": false
   },
   "outputs": [
    {
     "name": "stdout",
     "output_type": "stream",
     "text": [
      "Please, enter a natural number: 1\n",
      "You entered one\n"
     ]
    }
   ],
   "source": [
    "a = int(input('Please, enter a natural number: ')) \n",
    "function = lambda x:eval(x)()\n",
    "try:\n",
    "    print(function('_' + str(a)))\n",
    "except:\n",
    "    print(different())"
   ]
  },
  {
   "cell_type": "markdown",
   "metadata": {},
   "source": [
    "Using a class:"
   ]
  },
  {
   "cell_type": "code",
   "execution_count": 154,
   "metadata": {
    "collapsed": false
   },
   "outputs": [
    {
     "name": "stdout",
     "output_type": "stream",
     "text": [
      "Please, enter a natural number: 0\n",
      "You dit not enter one or two\n"
     ]
    }
   ],
   "source": [
    "class Switcher(object):\n",
    "    def run(self, argument):\n",
    "        method = getattr(self, '_' + str(argument), different)\n",
    "        return method()\n",
    "\n",
    "    def _1(self):\n",
    "        return _1()\n",
    "\n",
    "    def _2(self):\n",
    "        return _2()\n",
    "\n",
    "a = int(input('Please, enter a natural number: ')) \n",
    "print(Switcher().run(a))"
   ]
  },
  {
   "cell_type": "markdown",
   "metadata": {},
   "source": [
    "## Looping"
   ]
  },
  {
   "cell_type": "markdown",
   "metadata": {},
   "source": [
    "With `while`:"
   ]
  },
  {
   "cell_type": "code",
   "execution_count": 160,
   "metadata": {
    "collapsed": false
   },
   "outputs": [
    {
     "name": "stdout",
     "output_type": "stream",
     "text": [
      "(Try 1) Please, enter a number between 1 and 10: 5\n",
      "Wrong number. Try a bigger one!\n",
      "(Try 2) Please, enter a number between 1 and 10: 7\n",
      "Wrong number. Try a smaller one!\n",
      "(Try 3) Please, enter a number between 1 and 10: 6\n",
      "Congratulations!\n",
      "You have guessed my number :-)\n"
     ]
    }
   ],
   "source": [
    "import random\n",
    "\n",
    "unknown = int(random.uniform(1, 10)) # A random number betweem 1 and 10\n",
    "counter = 0\n",
    "\n",
    "while(True):\n",
    "    counter += 1\n",
    "    \n",
    "    print('(Try {}) Please, enter a number between 1 and 10: '.format(counter), end='')\n",
    "    a = int(input())\n",
    "\n",
    "    if a == unknown:\n",
    "        print('Congratulations!\\nYou have guessed my number :-)')\n",
    "        break\n",
    "    else:\n",
    "        print('Wrong number. ', end='')\n",
    "        if a > unknown:\n",
    "            print('Try a smaller one!')\n",
    "        else:\n",
    "            print('Try a bigger one!')"
   ]
  },
  {
   "cell_type": "markdown",
   "metadata": {},
   "source": [
    "With `for`:"
   ]
  },
  {
   "cell_type": "code",
   "execution_count": 27,
   "metadata": {
    "collapsed": false
   },
   "outputs": [
    {
     "name": "stdout",
     "output_type": "stream",
     "text": [
      "p y t h o n "
     ]
    }
   ],
   "source": [
    "for i in 'python': # Iterating over a string\n",
    "    print(i, end=' ')"
   ]
  },
  {
   "cell_type": "code",
   "execution_count": 23,
   "metadata": {
    "collapsed": false
   },
   "outputs": [
    {
     "name": "stdout",
     "output_type": "stream",
     "text": [
      "1 2 3 4 "
     ]
    }
   ],
   "source": [
    "for i in [1, 2, 3, 4]: # Interating over a list\n",
    "    print(i, end=' ')"
   ]
  },
  {
   "cell_type": "code",
   "execution_count": 25,
   "metadata": {
    "collapsed": false
   },
   "outputs": [
    {
     "name": "stdout",
     "output_type": "stream",
     "text": [
      "1 2 3 4 "
     ]
    }
   ],
   "source": [
    "for i in (1, 2, 3, 4): # Iterating over a tuple\n",
    "    print(i, end=' ')"
   ]
  },
  {
   "cell_type": "code",
   "execution_count": 161,
   "metadata": {
    "collapsed": false
   },
   "outputs": [
    {
     "name": "stdout",
     "output_type": "stream",
     "text": [
      "Pyton"
     ]
    }
   ],
   "source": [
    "for letter in 'Python': # Using continue\n",
    "    if letter == 'h':\n",
    "        continue\n",
    "    print(letter, end='')"
   ]
  },
  {
   "cell_type": "code",
   "execution_count": 34,
   "metadata": {
    "collapsed": false
   },
   "outputs": [
    {
     "name": "stdout",
     "output_type": "stream",
     "text": [
      "(1, 'a') <class 'tuple'>\n",
      "(2, 'b') <class 'tuple'>\n",
      "(3, 'c') <class 'tuple'>\n"
     ]
    }
   ],
   "source": [
    "for i in {1:'a', 2:'b', 3:'c'}.items(): # Iterating over a dictionary\n",
    "    print(i, end=' ')\n",
    "    print(type(i))"
   ]
  },
  {
   "cell_type": "code",
   "execution_count": 35,
   "metadata": {
    "collapsed": false
   },
   "outputs": [
    {
     "name": "stdout",
     "output_type": "stream",
     "text": [
      "print(\"Hello world!\")\n"
     ]
    }
   ],
   "source": [
    "for i in open('hello_world.py'): # Iterating over a file\n",
    "    print(i, end='')"
   ]
  },
  {
   "cell_type": "code",
   "execution_count": 10,
   "metadata": {
    "collapsed": false
   },
   "outputs": [
    {
     "name": "stdout",
     "output_type": "stream",
     "text": [
      "0 1 2 3 4 5 6 7 8 9 "
     ]
    }
   ],
   "source": [
    "for i in range(10): # Iterating over a iterator\n",
    "    print(i, end=' ')"
   ]
  },
  {
   "cell_type": "code",
   "execution_count": 9,
   "metadata": {
    "collapsed": false
   },
   "outputs": [
    {
     "name": "stdout",
     "output_type": "stream",
     "text": [
      "1 2 3 4 5 6 7 8 9 10 "
     ]
    }
   ],
   "source": [
    "for i in range(1,11): # Iterating over a iterator\n",
    "    print(i, end=' ')"
   ]
  },
  {
   "cell_type": "markdown",
   "metadata": {},
   "source": [
    "A word about iterators:"
   ]
  },
  {
   "cell_type": "code",
   "execution_count": 165,
   "metadata": {
    "collapsed": false,
    "scrolled": true
   },
   "outputs": [
    {
     "name": "stdout",
     "output_type": "stream",
     "text": [
      "<class 'range'>\n"
     ]
    }
   ],
   "source": [
    "print(type(range(10)))"
   ]
  },
  {
   "cell_type": "code",
   "execution_count": 166,
   "metadata": {
    "collapsed": false,
    "scrolled": true
   },
   "outputs": [
    {
     "data": {
      "text/plain": [
       "['__class__',\n",
       " '__contains__',\n",
       " '__delattr__',\n",
       " '__dir__',\n",
       " '__doc__',\n",
       " '__eq__',\n",
       " '__format__',\n",
       " '__ge__',\n",
       " '__getattribute__',\n",
       " '__getitem__',\n",
       " '__gt__',\n",
       " '__hash__',\n",
       " '__init__',\n",
       " '__init_subclass__',\n",
       " '__iter__',\n",
       " '__le__',\n",
       " '__len__',\n",
       " '__lt__',\n",
       " '__ne__',\n",
       " '__new__',\n",
       " '__reduce__',\n",
       " '__reduce_ex__',\n",
       " '__repr__',\n",
       " '__reversed__',\n",
       " '__setattr__',\n",
       " '__sizeof__',\n",
       " '__str__',\n",
       " '__subclasshook__',\n",
       " 'count',\n",
       " 'index',\n",
       " 'start',\n",
       " 'step',\n",
       " 'stop']"
      ]
     },
     "execution_count": 166,
     "metadata": {},
     "output_type": "execute_result"
    }
   ],
   "source": [
    "dir(range(10))"
   ]
  },
  {
   "cell_type": "code",
   "execution_count": 167,
   "metadata": {
    "collapsed": false
   },
   "outputs": [
    {
     "data": {
      "text/plain": [
       "[0, 1, 2, 3, 4, 5, 6, 7, 8, 9]"
      ]
     },
     "execution_count": 167,
     "metadata": {},
     "output_type": "execute_result"
    }
   ],
   "source": [
    "list(range(10))"
   ]
  }
 ],
 "metadata": {
  "kernelspec": {
   "display_name": "Python 3",
   "language": "python",
   "name": "python3"
  },
  "language_info": {
   "codemirror_mode": {
    "name": "ipython",
    "version": 3
   },
   "file_extension": ".py",
   "mimetype": "text/x-python",
   "name": "python",
   "nbconvert_exporter": "python",
   "pygments_lexer": "ipython3",
   "version": "3.6.0"
  }
 },
 "nbformat": 4,
 "nbformat_minor": 1
}
