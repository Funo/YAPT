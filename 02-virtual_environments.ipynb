{
 "cells": [
  {
   "cell_type": "markdown",
   "metadata": {},
   "source": [
    "# [0] Virtual environments\n",
    "\n",
    "[Python virtual environments]((http://docs.python-guide.org/en/latest/dev/virtualenvs/) allow to have a set of different Python configurations in the same host. This can be useful in the following situations:\n",
    "\n",
    "1. When two or more Python projects, that run in the same host, requires different configurations of the used packages.\n",
    "2. If you don't have administrative privilegies to install packages.\n",
    "3. To keep organized the Python stuff in the file system.\n",
    "\n",
    "The environments can be created in two different ways:\n",
    "\n",
    "1. Using a different environment for each [Python project](http://docs.python-guide.org/en/latest/writing/structure/). This functionality is provided by the [`virtualenv`](https://pypi.python.org/pypi/virtualenv) tool.\n",
    "2. Using a different environment for each different Python's working context. In this case, we also will need [`virtualenvwrapper`](https://virtualenvwrapper.readthedocs.io/en/latest/).\n",
    "\n",
    "Both tools can be provided by [`pip`](https://pypi.python.org/pypi/pip), the recomended Python packages installer."
   ]
  },
  {
   "cell_type": "markdown",
   "metadata": {},
   "source": [
    "## 1. `virtualenv`"
   ]
  },
  {
   "cell_type": "markdown",
   "metadata": {},
   "source": [
    "### 1.1. Installation of `virtualenv`\n",
    "\n",
    "```\n",
    "sudo pip install virtualenv\n",
    "```"
   ]
  },
  {
   "cell_type": "markdown",
   "metadata": {},
   "source": [
    "### 1.2. Use of `virtualenv`"
   ]
  },
  {
   "cell_type": "markdown",
   "metadata": {},
   "source": [
    "### 1.2.1. Creation of the environment\n",
    "\n",
    "```\n",
    "$ mkdir myproject\n",
    "$ cd myproject\n",
    "```"
   ]
  },
  {
   "cell_type": "markdown",
   "metadata": {},
   "source": [
    "If we want to use the default Python interpreter:\n",
    "\n",
    "```\n",
    "$ virtualenv env # \"env\" is the name of the directory containing the environment\n",
    "```"
   ]
  },
  {
   "cell_type": "markdown",
   "metadata": {},
   "source": [
    "If we want to use a specific Python interpreter:\n",
    "\n",
    "```\n",
    "$ virtualenv -p path/to/the/interpreter env\n",
    "```"
   ]
  },
  {
   "cell_type": "markdown",
   "metadata": {},
   "source": [
    "### 1.2.2. Activation of the environment\n",
    "\n",
    "```\n",
    "$ cd myproject\n",
    "$ . env/bin/activate\n",
    "```"
   ]
  },
  {
   "cell_type": "markdown",
   "metadata": {},
   "source": [
    "And your [prompt](http://www.webopedia.com/TERM/P/prompt.html) becomes (something similar to):\n",
    "\n",
    "```\n",
    "(env) $\n",
    "```"
   ]
  },
  {
   "cell_type": "markdown",
   "metadata": {},
   "source": [
    "### 1.2.3. Deactivation of the environment\n",
    "\n",
    "```\n",
    "deactivate\n",
    "```"
   ]
  },
  {
   "cell_type": "markdown",
   "metadata": {},
   "source": [
    "And your prompt becomes (something similar to):\n",
    "\n",
    "```\n",
    "$\n",
    "```"
   ]
  },
  {
   "cell_type": "markdown",
   "metadata": {},
   "source": [
    "### 1.2.4. Deletion of the environment\n",
    "\n",
    "```\n",
    "$ ls env/\n",
    "bin\t\t\tlib\n",
    "include\t\t\tpip-selfcheck.json\n",
    "$ rm -rf env\n",
    "```"
   ]
  },
  {
   "cell_type": "markdown",
   "metadata": {},
   "source": [
    "## 2. `virtualenvwrapper`"
   ]
  },
  {
   "cell_type": "markdown",
   "metadata": {},
   "source": [
    "### 2.1. Installation of `virtualenvwrapper`\n",
    "\n",
    "```\n",
    "sudo pip install virtualenvwrapper # requires \"virtualenv\"\n",
    "```"
   ]
  },
  {
   "cell_type": "markdown",
   "metadata": {},
   "source": [
    "### 2.2. Use of `virtualenvwrapper`"
   ]
  },
  {
   "cell_type": "markdown",
   "metadata": {},
   "source": [
    "### 2.2.1. Configuration of the environments directory\n",
    "\n",
    "```\n",
    "$ export VIRTUALENVWRAPPER_PYTHON=`which python3`\n",
    "$ export WORKON_HOME=$HOME/.python_environments\n",
    "$ source `which virtualenvwrapper.sh`\n",
    "```\n",
    "It's a good idea to store these commands in a file that is read by the shell when this is executed (in the case of Bash, `.bashrc` which is run by \"non-login shells\" or `.bash_profile` that is run by \"login shells\"). To use this right now, include that information in the corresponding file and \"source\" it. Example:\n",
    "```\n",
    "$ source ~/.bashrc\n",
    "```"
   ]
  },
  {
   "cell_type": "markdown",
   "metadata": {},
   "source": [
    "### 2.2.2. Creation of a environment\n",
    "\n",
    "```\n",
    "$ mkvirtualenv -p <interpreter> <name_of_the_environment>\n",
    "$ # Example: mkvirtualenv -p python3 YAPT\n",
    "```"
   ]
  },
  {
   "cell_type": "markdown",
   "metadata": {},
   "source": [
    "### 2.2.3. Determination of the virtual environment"
   ]
  },
  {
   "cell_type": "markdown",
   "metadata": {},
   "source": [
    "The Python environment must be activated before using it. After running `mkvirtualenv`, the environment should be active and this is reflected in the command line prompt. This can also checked by:\n",
    "\n",
    "```\n",
    "$ echo $VIRTUAL_ENV\n",
    "```"
   ]
  },
  {
   "cell_type": "markdown",
   "metadata": {},
   "source": [
    "### 2.2.4. Activation of a environment\n",
    "\n",
    "```\n",
    "$ workon <name_of_the_environment>\n",
    "$ # Example: workon yapt\n",
    "(yapt) $\n",
    "```"
   ]
  },
  {
   "cell_type": "markdown",
   "metadata": {},
   "source": [
    "### 2.2.5. Deactivation of a environment\n",
    "\n",
    "```\n",
    "(yapt) $ deactivate\n",
    "```"
   ]
  },
  {
   "cell_type": "markdown",
   "metadata": {},
   "source": [
    "### 2.2.6. Get (through the `stdout`) the current \"state\" of the environmen\n",
    "\n",
    "```\n",
    "(yapt) $ pip freeze\n",
    "appnope==0.1.0\n",
    "cycler==0.10.0\n",
    "decorator==4.0.11\n",
    "ffmpy==0.2.2\n",
    "ipdb==0.10.2\n",
    "ipython==5.2.0\n",
    "ipython-genutils==0.1.0\n",
    "matplotlib==2.0.0\n",
    "mcdwt==1.0\n",
    "numpy==1.12.0\n",
    "pexpect==4.2.1\n",
    "pickleshare==0.7.4\n",
    "prompt-toolkit==1.0.9\n",
    "ptyprocess==0.5.1\n",
    "Pygments==2.2.0\n",
    "pyparsing==2.1.10\n",
    "pypng==0.0.18\n",
    "python-dateutil==2.6.0\n",
    "pytz==2016.10\n",
    "PyWavelets==0.5.1\n",
    "scipy==0.18.1\n",
    "simplegeneric==0.8.1\n",
    "six==1.10.0\n",
    "traitlets==4.3.1\n",
    "wcwidth==0.1.7\n",
    "\n",
    "```"
   ]
  },
  {
   "cell_type": "markdown",
   "metadata": {},
   "source": [
    "You can redirect the list of Python packages currently installed in the virtual environment to a file to remember a \"state\". Example:\n",
    "\n",
    "```\n",
    "$ pip freeze > environment_state.txt\n",
    "```"
   ]
  },
  {
   "cell_type": "markdown",
   "metadata": {},
   "source": [
    "### 2.2.7. Copy an environment\n",
    "\n",
    "```\n",
    "(old-env) $ pip freeze > /tmp/environment_state.txt\n",
    "(old-env) $ deactivate\n",
    "$ mkvirtualenv -p python3 new-env\n",
    "(new-env) $ pip install -r /tmp/environment_state.txt\n",
    "```"
   ]
  },
  {
   "cell_type": "markdown",
   "metadata": {},
   "source": [
    "### 2.2.8. Deletion of a environment\n",
    "\n",
    "```\n",
    "$ rmvirtualenv <name_of_the_environment>\n",
    "$ # Example: rmvirtualenv old-env\n",
    "```"
   ]
  },
  {
   "cell_type": "markdown",
   "metadata": {},
   "source": [
    "### 2.2.9. List the environments\n",
    "\n",
    "```\n",
    "$ lsvirtualenv\n",
    "```"
   ]
  },
  {
   "cell_type": "markdown",
   "metadata": {},
   "source": [
    "### 2.2.10. Navigate into the directory of the currently activated virtual environment\n",
    "\n",
    "```\n",
    "$ cdvirtualenv\n",
    "```"
   ]
  }
 ],
 "metadata": {
  "kernelspec": {
   "display_name": "Python 3",
   "language": "python",
   "name": "python3"
  },
  "language_info": {
   "codemirror_mode": {
    "name": "ipython",
    "version": 3
   },
   "file_extension": ".py",
   "mimetype": "text/x-python",
   "name": "python",
   "nbconvert_exporter": "python",
   "pygments_lexer": "ipython3",
   "version": "3.5.2"
  }
 },
 "nbformat": 4,
 "nbformat_minor": 1
}
