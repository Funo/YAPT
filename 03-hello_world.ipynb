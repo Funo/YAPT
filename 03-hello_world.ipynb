{
 "cells": [
  {
   "cell_type": "markdown",
   "metadata": {
    "deletable": true,
    "editable": true
   },
   "source": [
    "# [0] Hello world!\n",
    "\n",
    "The beginning of almost everything in computer programming :-)\n",
    "\n",
    "Let's see how we can run Python code."
   ]
  },
  {
   "cell_type": "markdown",
   "metadata": {
    "deletable": true,
    "editable": true
   },
   "source": [
    "## 1. Interacting with Jupyter Notebook\n",
    "\n",
    "This interface (what you are reading now) is know as [Jupyter Notebook](http://jupyter.org/), an interactive document, mixture of [Markdown](https://daringfireball.net/projects/markdown/) and [Python](https://www.python.org/) code:"
   ]
  },
  {
   "cell_type": "code",
   "execution_count": 1,
   "metadata": {
    "collapsed": false,
    "deletable": true,
    "editable": true
   },
   "outputs": [
    {
     "name": "stdout",
     "output_type": "stream",
     "text": [
      "Hello world!\n"
     ]
    }
   ],
   "source": [
    "print(\"Hello world!\") # Modify me and push <SHIFT> + <RETURN>"
   ]
  },
  {
   "cell_type": "markdown",
   "metadata": {
    "deletable": true,
    "editable": true
   },
   "source": [
    "## 2. Interacting with the Python interpreter\n",
    "Run `python` in a shell and type: `print(\"Hello world!\") <enter> quit()`."
   ]
  },
  {
   "cell_type": "markdown",
   "metadata": {
    "deletable": true,
    "editable": true
   },
   "source": [
    "```\n",
    "$ python\n",
    "Python 2.7.10 (default, Oct 23 2015, 19:19:21) \n",
    "[GCC 4.2.1 Compatible Apple LLVM 7.0.0 (clang-700.0.59.5)] on darwin\n",
    "Type \"help\", \"copyright\", \"credits\" or \"license\" for more information.\n",
    ">>> print(\"Hello world!\")\n",
    "Hello world!\n",
    ">>> quit()\n",
    "$\n",
    "```"
   ]
  },
  {
   "cell_type": "markdown",
   "metadata": {
    "deletable": true,
    "editable": true
   },
   "source": [
    "Alternatively, instead of `python` we can use `ipython`, which provides [dynamic object introspection](https://ipython.org/ipython-doc/3/overview.html), [command completion](https://ipython.org/ipython-doc/3/interactive/tutorial.html#tab-completion), [access to the system shell](https://ipython.org/ipython-doc/3/interactive/tutorial.html#system-shell-commands), etc."
   ]
  },
  {
   "cell_type": "markdown",
   "metadata": {
    "deletable": true,
    "editable": true
   },
   "source": [
    "```\n",
    "$ ipython\n",
    "Python 3.5.1rc1 (v3.5.1rc1:948ef16a6951, Nov 22 2015, 11:29:13) \n",
    "Type \"copyright\", \"credits\" or \"license\" for more information.\n",
    "\n",
    "IPython 5.1.0 -- An enhanced Interactive Python.\n",
    "?         -> Introduction and overview of IPython's features.\n",
    "%quickref -> Quick reference.\n",
    "help      -> Python's own help system.\n",
    "object?   -> Details about 'object', use 'object??' for extra details.\n",
    "\n",
    "In [1]: print(\"Hello world!\")\n",
    "Hello world!\n",
    "\n",
    "In [2]: help(print)\n",
    "Help on built-in function print in module builtins:\n",
    "\n",
    "print(...)\n",
    "    print(value, ..., sep=' ', end='\\n', file=sys.stdout, flush=False)\n",
    "    \n",
    "    Prints the values to a stream, or to sys.stdout by default.\n",
    "    Optional keyword arguments:\n",
    "    file:  a file-like object (stream); defaults to the current sys.stdout.\n",
    "    sep:   string inserted between values, default a space.\n",
    "    end:   string appended after the last value, default a newline.\n",
    "    flush: whether to forcibly flush the stream.\n",
    "    \n",
    "(type: <q> to exit)\n",
    "\n",
    "In [3]: quit() # <ctrl> + <d> also works in Unixes\n",
    "$\n",
    "```"
   ]
  },
  {
   "cell_type": "markdown",
   "metadata": {
    "deletable": true,
    "editable": true
   },
   "source": [
    "### Interpreted?"
   ]
  },
  {
   "cell_type": "markdown",
   "metadata": {
    "deletable": true,
    "editable": true
   },
   "source": [
    "[Python is an interpreted programming language](http://www.devshed.com/c/a/python/how-python-runs-programs/). When we run a [Python program](http://www.learnpython.org/en/Modules_and_Packages), we are executing the translation to [bytecode](https://docs.python.org/3/glossary.html#term-bytecode) of each Python statement of our program over the [Python Virtual Machine (PVM)](http://www.ics.uci.edu/~brgallar/week9_3.html). The `.pyc` files that appear after running a collection of [modules](https://docs.python.org/3/tutorial/modules.html) as a script for the first time, contains the bytecode of such modules. This is used by Python to speed up their future executions."
   ]
  },
  {
   "cell_type": "code",
   "execution_count": 2,
   "metadata": {
    "collapsed": false,
    "deletable": true,
    "editable": true
   },
   "outputs": [
    {
     "name": "stdout",
     "output_type": "stream",
     "text": [
      "  2           0 LOAD_GLOBAL              0 (print)\n",
      "              3 LOAD_CONST               1 ('Hello world!')\n",
      "              6 CALL_FUNCTION            1 (1 positional, 0 keyword pair)\n",
      "              9 POP_TOP\n",
      "             10 LOAD_CONST               0 (None)\n",
      "             13 RETURN_VALUE\n"
     ]
    }
   ],
   "source": [
    "def hello():\n",
    "    print('Hello world!')\n",
    "import dis\n",
    "\n",
    "dis.dis(hello)"
   ]
  },
  {
   "cell_type": "markdown",
   "metadata": {
    "deletable": true,
    "editable": true
   },
   "source": [
    "## 3. Running Python programs (modules) as scripts"
   ]
  },
  {
   "cell_type": "code",
   "execution_count": 1,
   "metadata": {
    "collapsed": false,
    "deletable": true,
    "editable": true
   },
   "outputs": [
    {
     "name": "stdout",
     "output_type": "stream",
     "text": [
      "#!/usr/bin/env python\r\n",
      "print(\"Hello world!\")\r\n"
     ]
    }
   ],
   "source": [
    "!cat hello_world.py"
   ]
  },
  {
   "cell_type": "code",
   "execution_count": 2,
   "metadata": {
    "collapsed": false,
    "deletable": true,
    "editable": true
   },
   "outputs": [
    {
     "name": "stdout",
     "output_type": "stream",
     "text": [
      "Hello world!\r\n"
     ]
    }
   ],
   "source": [
    "!./hello_world.py"
   ]
  },
  {
   "cell_type": "code",
   "execution_count": 3,
   "metadata": {
    "collapsed": false,
    "deletable": true,
    "editable": true
   },
   "outputs": [
    {
     "name": "stdout",
     "output_type": "stream",
     "text": [
      "Hello world!\r\n"
     ]
    }
   ],
   "source": [
    "!python hello_world.py"
   ]
  },
  {
   "cell_type": "code",
   "execution_count": 4,
   "metadata": {
    "collapsed": false,
    "deletable": true,
    "editable": true
   },
   "outputs": [
    {
     "name": "stdout",
     "output_type": "stream",
     "text": [
      "Hello world!\r\n"
     ]
    }
   ],
   "source": [
    "!python -c \"print('Hello world!')\""
   ]
  },
  {
   "cell_type": "code",
   "execution_count": 6,
   "metadata": {
    "collapsed": false
   },
   "outputs": [
    {
     "name": "stdout",
     "output_type": "stream",
     "text": [
      "Hello world!\n"
     ]
    }
   ],
   "source": [
    "%run hello_world.py # Specific of Ipython"
   ]
  },
  {
   "cell_type": "markdown",
   "metadata": {
    "deletable": true,
    "editable": true
   },
   "source": [
    "### Python implementations"
   ]
  },
  {
   "cell_type": "markdown",
   "metadata": {
    "deletable": true,
    "editable": true
   },
   "source": [
    "There are several Python bytecode compilers and PVMs. The most comprehensive is [CPython](https://en.wikipedia.org/wiki/CPython) (C refers to the interpreter is written in the [C programming language](https://en.wikipedia.org/wiki/C_(programming_language)). Other implementations are [Jython](https://en.wikipedia.org/wiki/Jython) (written in [Java](https://en.wikipedia.org/wiki/Java_(programming_language)), [PyPy](https://en.wikipedia.org/wiki/PyPy) (written in [RPython](https://en.wikipedia.org/wiki/PyPy#RPython), a restricted subset of Python that incorporates [Psyco](https://en.wikipedia.org/wiki/Psyco), a [JIT compiler](https://en.wikipedia.org/wiki/Just-in-time_compilation)) and [IronPython](https://en.wikipedia.org/wiki/IronPython) (written in [C#](https://en.wikipedia.org/wiki/C_Sharp_(programming_language))."
   ]
  }
 ],
 "metadata": {
  "kernelspec": {
   "display_name": "Python 3",
   "language": "python",
   "name": "python3"
  },
  "language_info": {
   "codemirror_mode": {
    "name": "ipython",
    "version": 3
   },
   "file_extension": ".py",
   "mimetype": "text/x-python",
   "name": "python",
   "nbconvert_exporter": "python",
   "pygments_lexer": "ipython3",
   "version": "3.5.1rc1"
  }
 },
 "nbformat": 4,
 "nbformat_minor": 1
}
