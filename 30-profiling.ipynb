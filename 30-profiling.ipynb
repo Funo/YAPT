{
 "cells": [
  {
   "cell_type": "markdown",
   "metadata": {},
   "source": [
    "# Profiling with [IPython](http://ipython.readthedocs.io/en/stable/index.html)\n",
    "Interactive Python provides some [Built-in magic commands](http://ipython.readthedocs.io/en/stable/interactive/magics.html) that can help up when developing code."
   ]
  },
  {
   "cell_type": "markdown",
   "metadata": {},
   "source": [
    "### `?`\n",
    "IPython's help."
   ]
  },
  {
   "cell_type": "code",
   "execution_count": null,
   "metadata": {},
   "outputs": [],
   "source": [
    "?"
   ]
  },
  {
   "cell_type": "markdown",
   "metadata": {},
   "source": [
    "### `%quickref`\n",
    "Quick reference."
   ]
  },
  {
   "cell_type": "code",
   "execution_count": null,
   "metadata": {},
   "outputs": [],
   "source": [
    "%quickref"
   ]
  },
  {
   "cell_type": "markdown",
   "metadata": {},
   "source": [
    "### `help`\n",
    "Python’s own help system."
   ]
  },
  {
   "cell_type": "code",
   "execution_count": null,
   "metadata": {},
   "outputs": [],
   "source": [
    "help"
   ]
  },
  {
   "cell_type": "markdown",
   "metadata": {},
   "source": [
    "### `object?`\n",
    "Details about ‘object’, use ‘object??’ for extra details."
   ]
  },
  {
   "cell_type": "code",
   "execution_count": null,
   "metadata": {},
   "outputs": [],
   "source": [
    "a = 1\n",
    "a?"
   ]
  },
  {
   "cell_type": "markdown",
   "metadata": {},
   "source": [
    "### `! <command>`\n",
    "Forks a shell, run a command in it, exits the shell and returns."
   ]
  },
  {
   "cell_type": "code",
   "execution_count": null,
   "metadata": {},
   "outputs": [],
   "source": [
    "!cd /"
   ]
  },
  {
   "cell_type": "code",
   "execution_count": null,
   "metadata": {},
   "outputs": [],
   "source": [
    "!pwd"
   ]
  },
  {
   "cell_type": "markdown",
   "metadata": {},
   "source": [
    "### `%cd`\n",
    "\n",
    "Change the current working directory."
   ]
  },
  {
   "cell_type": "code",
   "execution_count": null,
   "metadata": {},
   "outputs": [],
   "source": [
    "%cd /"
   ]
  },
  {
   "cell_type": "code",
   "execution_count": null,
   "metadata": {},
   "outputs": [],
   "source": [
    "!pwd"
   ]
  },
  {
   "cell_type": "code",
   "execution_count": null,
   "metadata": {},
   "outputs": [],
   "source": [
    "%cd ~/YAPT"
   ]
  },
  {
   "cell_type": "code",
   "execution_count": null,
   "metadata": {},
   "outputs": [],
   "source": [
    "!pwd"
   ]
  },
  {
   "cell_type": "markdown",
   "metadata": {},
   "source": [
    "### `who`/`whos`\n",
    "Print all interactive variables"
   ]
  },
  {
   "cell_type": "code",
   "execution_count": null,
   "metadata": {},
   "outputs": [],
   "source": [
    "%whos"
   ]
  },
  {
   "cell_type": "markdown",
   "metadata": {},
   "source": [
    "### `%time <Python statement`/`expression>`\n",
    "\n",
    "time <Python statement`/`expression>`\n",
    "Temporize the execution of a Python statement or expression, remembering its results."
   ]
  },
  {
   "cell_type": "code",
   "execution_count": null,
   "metadata": {},
   "outputs": [],
   "source": [
    "a"
   ]
  },
  {
   "cell_type": "code",
   "execution_count": null,
   "metadata": {},
   "outputs": [],
   "source": [
    "%time a=3"
   ]
  },
  {
   "cell_type": "code",
   "execution_count": null,
   "metadata": {},
   "outputs": [],
   "source": [
    "a"
   ]
  },
  {
   "cell_type": "markdown",
   "metadata": {},
   "source": [
    "### `%timeit <Python statement`/`expression>`\n",
    "Really temporize the execution of a Python statement or expression, but forgeting its results."
   ]
  },
  {
   "cell_type": "code",
   "execution_count": null,
   "metadata": {},
   "outputs": [],
   "source": [
    "a"
   ]
  },
  {
   "cell_type": "code",
   "execution_count": null,
   "metadata": {},
   "outputs": [],
   "source": [
    "%timeit a=4"
   ]
  },
  {
   "cell_type": "code",
   "execution_count": null,
   "metadata": {},
   "outputs": [],
   "source": [
    "a"
   ]
  },
  {
   "cell_type": "markdown",
   "metadata": {},
   "source": [
    "### `%run <python module>.py`\n",
    "Run the named file inside IPython as a program."
   ]
  },
  {
   "cell_type": "code",
   "execution_count": null,
   "metadata": {},
   "outputs": [],
   "source": [
    "%run hello_world.py"
   ]
  },
  {
   "cell_type": "code",
   "execution_count": null,
   "metadata": {},
   "outputs": [],
   "source": [
    "!cat module.py"
   ]
  },
  {
   "cell_type": "code",
   "execution_count": null,
   "metadata": {},
   "outputs": [],
   "source": [
    "%run module.py"
   ]
  },
  {
   "cell_type": "code",
   "execution_count": null,
   "metadata": {},
   "outputs": [],
   "source": [
    "%whos"
   ]
  },
  {
   "cell_type": "code",
   "execution_count": null,
   "metadata": {},
   "outputs": [],
   "source": [
    "a"
   ]
  },
  {
   "cell_type": "markdown",
   "metadata": {},
   "source": [
    "### `%run -t <python module>.py`"
   ]
  },
  {
   "cell_type": "code",
   "execution_count": 1,
   "metadata": {},
   "outputs": [
    {
     "name": "stdout",
     "output_type": "stream",
     "text": [
      "#!/usr/bin/env python3\r\n",
      "\r\n",
      "import sys, math, scipy.interpolate\r\n",
      "\r\n",
      "''' Inputs two sets of points (from two curves), interpolate one of\r\n",
      "they in the points of the other and returns the difference between\r\n",
      "interpolated (first curve) and real points (second curve). The\r\n",
      "diference samples are output through the stdout.\r\n",
      "\r\n",
      "USAGE EXAMPLE:\r\n",
      "\r\n",
      "./interplate.py data_file_1.dat data_file_2.dat > data_file_3.dat\r\n",
      "\r\n",
      "# Note: the domain of data_file_2 must be included in the domain of data_file_1.\r\n",
      "'''\r\n",
      "\r\n",
      "# First curve\r\n",
      "x = [0.0] # X coordinates\r\n",
      "y = [0.0] # Y coordinates\r\n",
      "\r\n",
      "f = open(sys.argv[1])\r\n",
      "line = f.readline()\r\n",
      "while (line != \"\"):\r\n",
      "    if \"#\" != line[0]:\r\n",
      "        splitted_line = line.split()\r\n",
      "        x.append(float(splitted_line[0]))\r\n",
      "        y.append(float(splitted_line[1]))\r\n",
      "    line = f.readline()\r\n",
      "\r\n",
      "f.close()\r\n",
      "\r\n",
      "# Create the interpolate function\r\n",
      "y_interp = scipy.interpolate.interp1d(x,y)\r\n",
      "\r\n",
      "# Evaluate the first curve at the x coordinates of the second one\r\n",
      "\r\n",
      "f = open(sys.argv[2])\r\n",
      "line = f.readline()\r\n",
      "while (line != \"\"):\r\n",
      "    if \"#\" != line[0]:\r\n",
      "        splitted_line = line.split()\r\n",
      "        x = float(splitted_line[0])\r\n",
      "        y = float(splitted_line[1])\r\n",
      "        \r\n",
      "        if not math.isnan(y_interp(x)):\r\n",
      "            print(x, '\\t', y-y_interp(x)) # print x, y-y_interp(x) # print (x, '\\t', y-y_interp(x))\r\n",
      "    line = f.readline()\r\n",
      "\r\n",
      "f.close()\r\n"
     ]
    }
   ],
   "source": [
    "!cat substract_curves.py"
   ]
  },
  {
   "cell_type": "code",
   "execution_count": 8,
   "metadata": {},
   "outputs": [
    {
     "name": "stdout",
     "output_type": "stream",
     "text": [
      "1\t20\t0\t20\r\n",
      "3\t20\t2\t20\r\n",
      "5\t20\t4\t30\r\n",
      "7\t20\t6\t20\r\n",
      "9\t20\t8\t20\r\n"
     ]
    }
   ],
   "source": [
    "!paste dataset1.txt dataset2.txt"
   ]
  },
  {
   "cell_type": "code",
   "execution_count": 9,
   "metadata": {},
   "outputs": [
    {
     "name": "stdout",
     "output_type": "stream",
     "text": [
      "0.0 \t 20.0\n",
      "2.0 \t 0.0\n",
      "4.0 \t 10.0\n",
      "6.0 \t 0.0\n",
      "8.0 \t 0.0\n"
     ]
    }
   ],
   "source": [
    "%run substract_curves.py dataset1.txt dataset2.txt"
   ]
  },
  {
   "cell_type": "code",
   "execution_count": 102,
   "metadata": {},
   "outputs": [],
   "source": [
    "import io\n",
    "import numpy as np\n",
    "x = 0\n",
    "base = []\n",
    "with io.open('dataset3.txt', 'w') as file:\n",
    "    for i in range(100):\n",
    "        x += np.random.randint(10) - 4.5\n",
    "        file.write('{}\\t{}\\n'.format(i*2,x))\n",
    "        base.append(x)\n",
    "\n",
    "with io.open('dataset4.txt', 'w') as file:\n",
    "    for i in range(99):\n",
    "        x = base[i] + np.random.randint(10) - 4.5\n",
    "        file.write('{}\\t{}\\n'.format(i*2+1,x))\n",
    "        #x += np.random.randint(10) - 4.5\n",
    "        #file.write('{}\\t{}\\n'.format(i*2+1,x))"
   ]
  },
  {
   "cell_type": "code",
   "execution_count": 103,
   "metadata": {},
   "outputs": [],
   "source": [
    "#!paste dataset3.txt dataset4.txt"
   ]
  },
  {
   "cell_type": "code",
   "execution_count": 104,
   "metadata": {},
   "outputs": [],
   "source": [
    "#from IPython.utils import io\n",
    "#with io.capture_output() as captured:\n",
    "#%%capture substract_curves.py dataset3.txt dataset4.txt\n",
    "#print(captured.stdout)\n",
    "from IPython.utils import io\n",
    "with io.capture_output() as captured:\n",
    "    !python substract_curves.py dataset3.txt dataset4.txt\n",
    "#print(captured.stdout)\n",
    "import io\n",
    "with io.open('differences.txt', 'w') as file:\n",
    "    file.write(captured.stdout)"
   ]
  },
  {
   "cell_type": "code",
   "execution_count": 105,
   "metadata": {},
   "outputs": [
    {
     "data": {
      "image/png": "[encoded data removed]",
      "text/plain": [
       "<matplotlib.figure.Figure at 0x113394748>"
      ]
     },
     "metadata": {},
     "output_type": "display_data"
    }
   ],
   "source": [
    "import matplotlib.pyplot as plt\n",
    "plt.plot(*np.loadtxt(\"dataset3.txt\",unpack=True), linewidth=2.0)\n",
    "plt.plot(*np.loadtxt(\"dataset4.txt\",unpack=True), linewidth=2.0)\n",
    "plt.plot(*np.loadtxt(\"differences.txt\",unpack=True), linewidth=2.0)\n",
    "plt.show()"
   ]
  },
  {
   "cell_type": "code",
   "execution_count": null,
   "metadata": {},
   "outputs": [],
   "source": []
  }
 ],
 "metadata": {
  "kernelspec": {
   "display_name": "Python 3",
   "language": "python",
   "name": "python3"
  },
  "language_info": {
   "codemirror_mode": {
    "name": "ipython",
    "version": 3
   },
   "file_extension": ".py",
   "mimetype": "text/x-python",
   "name": "python",
   "nbconvert_exporter": "python",
   "pygments_lexer": "ipython3",
   "version": "3.6.1"
  }
 },
 "nbformat": 4,
 "nbformat_minor": 2
}
