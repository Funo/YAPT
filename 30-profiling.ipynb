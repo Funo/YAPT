{
 "cells": [
  {
   "cell_type": "markdown",
   "metadata": {},
   "source": [
    "# Profiling with [IPython](http://ipython.readthedocs.io/en/stable/index.html)\n",
    "Interactive Python provides some [Built-in magic commands](http://ipython.readthedocs.io/en/stable/interactive/magics.html) that can help up when developing code."
   ]
  },
  {
   "cell_type": "markdown",
   "metadata": {},
   "source": [
    "### `?`\n",
    "IPython's help."
   ]
  },
  {
   "cell_type": "code",
   "execution_count": null,
   "metadata": {},
   "outputs": [],
   "source": [
    "?"
   ]
  },
  {
   "cell_type": "markdown",
   "metadata": {},
   "source": [
    "### `%quickref`\n",
    "Quick reference."
   ]
  },
  {
   "cell_type": "code",
   "execution_count": null,
   "metadata": {},
   "outputs": [],
   "source": [
    "%quickref"
   ]
  },
  {
   "cell_type": "markdown",
   "metadata": {},
   "source": [
    "### `help`\n",
    "Python’s own help system."
   ]
  },
  {
   "cell_type": "code",
   "execution_count": null,
   "metadata": {},
   "outputs": [],
   "source": [
    "help"
   ]
  },
  {
   "cell_type": "markdown",
   "metadata": {},
   "source": [
    "### `object?`\n",
    "Details about ‘object’, use ‘object??’ for extra details."
   ]
  },
  {
   "cell_type": "code",
   "execution_count": null,
   "metadata": {},
   "outputs": [],
   "source": [
    "a = 1\n",
    "a?"
   ]
  },
  {
   "cell_type": "markdown",
   "metadata": {},
   "source": [
    "### `! <command>`\n",
    "Forks a shell, run a command in it, exits the shell and returns."
   ]
  },
  {
   "cell_type": "code",
   "execution_count": null,
   "metadata": {},
   "outputs": [],
   "source": [
    "!cd /"
   ]
  },
  {
   "cell_type": "code",
   "execution_count": null,
   "metadata": {},
   "outputs": [],
   "source": [
    "!pwd"
   ]
  },
  {
   "cell_type": "markdown",
   "metadata": {},
   "source": [
    "### `%cd`\n",
    "\n",
    "Change the current working directory."
   ]
  },
  {
   "cell_type": "code",
   "execution_count": null,
   "metadata": {},
   "outputs": [],
   "source": [
    "%cd /"
   ]
  },
  {
   "cell_type": "code",
   "execution_count": null,
   "metadata": {},
   "outputs": [],
   "source": [
    "!pwd"
   ]
  },
  {
   "cell_type": "code",
   "execution_count": null,
   "metadata": {},
   "outputs": [],
   "source": [
    "%cd ~/YAPT"
   ]
  },
  {
   "cell_type": "code",
   "execution_count": null,
   "metadata": {},
   "outputs": [],
   "source": [
    "!pwd"
   ]
  },
  {
   "cell_type": "markdown",
   "metadata": {},
   "source": [
    "### `who`/`whos`\n",
    "Print all interactive variables"
   ]
  },
  {
   "cell_type": "code",
   "execution_count": null,
   "metadata": {},
   "outputs": [],
   "source": [
    "%whos"
   ]
  },
  {
   "cell_type": "markdown",
   "metadata": {},
   "source": [
    "### `%time <Python statement`/`expression>`\n",
    "\n",
    "time <Python statement`/`expression>`\n",
    "Temporize the execution of a Python statement or expression, remembering its results."
   ]
  },
  {
   "cell_type": "code",
   "execution_count": null,
   "metadata": {},
   "outputs": [],
   "source": [
    "a"
   ]
  },
  {
   "cell_type": "code",
   "execution_count": null,
   "metadata": {},
   "outputs": [],
   "source": [
    "%time a=3"
   ]
  },
  {
   "cell_type": "code",
   "execution_count": null,
   "metadata": {},
   "outputs": [],
   "source": [
    "a"
   ]
  },
  {
   "cell_type": "markdown",
   "metadata": {},
   "source": [
    "### `%timeit <Python statement`/`expression>`\n",
    "Really temporize the execution of a Python statement or expression, but forgeting its results."
   ]
  },
  {
   "cell_type": "code",
   "execution_count": null,
   "metadata": {},
   "outputs": [],
   "source": [
    "a"
   ]
  },
  {
   "cell_type": "code",
   "execution_count": null,
   "metadata": {},
   "outputs": [],
   "source": [
    "%timeit a=4"
   ]
  },
  {
   "cell_type": "code",
   "execution_count": null,
   "metadata": {},
   "outputs": [],
   "source": [
    "a"
   ]
  },
  {
   "cell_type": "markdown",
   "metadata": {},
   "source": [
    "### `%run <python module>.py`\n",
    "Run the named file inside IPython as a program."
   ]
  },
  {
   "cell_type": "code",
   "execution_count": null,
   "metadata": {},
   "outputs": [],
   "source": [
    "%run hello_world.py"
   ]
  },
  {
   "cell_type": "code",
   "execution_count": null,
   "metadata": {},
   "outputs": [],
   "source": [
    "!cat module.py"
   ]
  },
  {
   "cell_type": "code",
   "execution_count": null,
   "metadata": {},
   "outputs": [],
   "source": [
    "%run module.py"
   ]
  },
  {
   "cell_type": "code",
   "execution_count": null,
   "metadata": {},
   "outputs": [],
   "source": [
    "%whos"
   ]
  },
  {
   "cell_type": "code",
   "execution_count": null,
   "metadata": {},
   "outputs": [],
   "source": [
    "a"
   ]
  },
  {
   "cell_type": "markdown",
   "metadata": {},
   "source": [
    "### `%run -t <python module>.py`"
   ]
  },
  {
   "cell_type": "code",
   "execution_count": 1,
   "metadata": {},
   "outputs": [
    {
     "name": "stdout",
     "output_type": "stream",
     "text": [
      "#!/usr/bin/env python3\r\n",
      "\r\n",
      "import sys, math, scipy.interpolate\r\n",
      "\r\n",
      "''' Inputs two sets of points (from two curves), interpolate one of\r\n",
      "they in the points of the other and returns the difference between\r\n",
      "interpolated (first curve) and real points (second curve). The\r\n",
      "diference samples are output through the stdout.\r\n",
      "\r\n",
      "USAGE EXAMPLE:\r\n",
      "\r\n",
      "./interplate.py data_file_1.dat data_file_2.dat > data_file_3.dat\r\n",
      "\r\n",
      "# Note: the domain of data_file_2 must be included in the domain of data_file_1.\r\n",
      "'''\r\n",
      "\r\n",
      "# First curve\r\n",
      "x = [0.0] # X coordinates\r\n",
      "y = [0.0] # Y coordinates\r\n",
      "\r\n",
      "f = open(sys.argv[1])\r\n",
      "line = f.readline()\r\n",
      "while (line != \"\"):\r\n",
      "    if \"#\" != line[0]:\r\n",
      "        splitted_line = line.split()\r\n",
      "        x.append(float(splitted_line[0]))\r\n",
      "        y.append(float(splitted_line[1]))\r\n",
      "    line = f.readline()\r\n",
      "\r\n",
      "f.close()\r\n",
      "\r\n",
      "# Create the interpolate function\r\n",
      "y_interp = scipy.interpolate.interp1d(x,y)\r\n",
      "\r\n",
      "# Evaluate the first curve at the x coordinates of the second one\r\n",
      "\r\n",
      "f = open(sys.argv[2])\r\n",
      "line = f.readline()\r\n",
      "while (line != \"\"):\r\n",
      "    if \"#\" != line[0]:\r\n",
      "        splitted_line = line.split()\r\n",
      "        x = float(splitted_line[0])\r\n",
      "        y = float(splitted_line[1])\r\n",
      "        \r\n",
      "        if not math.isnan(y_interp(x)):\r\n",
      "            print(x, '\\t', y-y_interp(x)) # print x, y-y_interp(x) # print (x, '\\t', y-y_interp(x))\r\n",
      "    line = f.readline()\r\n",
      "\r\n",
      "f.close()\r\n"
     ]
    }
   ],
   "source": [
    "!cat substract_curves.py"
   ]
  },
  {
   "cell_type": "code",
   "execution_count": 8,
   "metadata": {},
   "outputs": [
    {
     "name": "stdout",
     "output_type": "stream",
     "text": [
      "1\t20\t0\t20\r\n",
      "3\t20\t2\t20\r\n",
      "5\t20\t4\t30\r\n",
      "7\t20\t6\t20\r\n",
      "9\t20\t8\t20\r\n"
     ]
    }
   ],
   "source": [
    "!paste dataset1.txt dataset2.txt"
   ]
  },
  {
   "cell_type": "code",
   "execution_count": 9,
   "metadata": {},
   "outputs": [
    {
     "name": "stdout",
     "output_type": "stream",
     "text": [
      "0.0 \t 20.0\n",
      "2.0 \t 0.0\n",
      "4.0 \t 10.0\n",
      "6.0 \t 0.0\n",
      "8.0 \t 0.0\n"
     ]
    }
   ],
   "source": [
    "%run substract_curves.py dataset1.txt dataset2.txt"
   ]
  },
  {
   "cell_type": "code",
   "execution_count": 20,
   "metadata": {},
   "outputs": [],
   "source": [
    "import io\n",
    "import numpy as np\n",
    "x = 0\n",
    "with io.open('dataset3.txt', 'w') as file:\n",
    "    for i in range(100):\n",
    "        x += np.random.randint(10) - 4.5\n",
    "        file.write('{}\\t{}\\n'.format(i*2,x))\n",
    "x = 0\n",
    "with io.open('dataset4.txt', 'w') as file:\n",
    "    for i in range(100):\n",
    "        x += np.random.randint(10) - 4.5\n",
    "        file.write('{}\\t{}\\n'.format(i*2+1,x))"
   ]
  },
  {
   "cell_type": "code",
   "execution_count": 24,
   "metadata": {},
   "outputs": [
    {
     "name": "stdout",
     "output_type": "stream",
     "text": [
      "0\t1.5\t1\t-1.5\r\n",
      "2\t-1.0\t3\t2.0\r\n",
      "4\t-1.5\t5\t-0.5\r\n",
      "6\t-6.0\t7\t4.0\r\n",
      "8\t-6.5\t9\t6.5\r\n",
      "10\t-4.0\t11\t2.0\r\n",
      "12\t-8.5\t13\t0.5\r\n",
      "14\t-10.0\t15\t3.0\r\n",
      "16\t-5.5\t17\t-1.5\r\n",
      "18\t-7.0\t19\t-1.0\r\n",
      "20\t-3.5\t21\t-3.5\r\n",
      "22\t-4.0\t23\t-1.0\r\n",
      "24\t-7.5\t25\t3.5\r\n",
      "26\t-9.0\t27\t-1.0\r\n",
      "28\t-5.5\t29\t-0.5\r\n",
      "30\t-10.0\t31\t1.0\r\n",
      "32\t-9.5\t33\t1.5\r\n",
      "34\t-5.0\t35\t-2.0\r\n",
      "36\t-4.5\t37\t0.5\r\n",
      "38\t-7.0\t39\t3.0\r\n",
      "40\t-7.5\t41\t-1.5\r\n",
      "42\t-4.0\t43\t3.0\r\n",
      "44\t-0.5\t45\t4.5\r\n",
      "46\t-3.0\t47\t2.0\r\n",
      "48\t-2.5\t49\t2.5\r\n",
      "50\t0.0\t51\t2.0\r\n",
      "52\t0.5\t53\t5.5\r\n",
      "54\t2.0\t55\t2.0\r\n",
      "56\t-2.5\t57\t-2.5\r\n",
      "58\t-7.0\t59\t2.0\r\n",
      "60\t-8.5\t61\t-1.5\r\n",
      "62\t-10.0\t63\t-5.0\r\n",
      "64\t-12.5\t65\t-5.5\r\n",
      "66\t-12.0\t67\t-3.0\r\n",
      "68\t-16.5\t69\t1.5\r\n",
      "70\t-14.0\t71\t4.0\r\n",
      "72\t-10.5\t73\t6.5\r\n",
      "74\t-10.0\t75\t4.0\r\n",
      "76\t-13.5\t77\t8.5\r\n",
      "78\t-12.0\t79\t13.0\r\n",
      "80\t-15.5\t81\t9.5\r\n",
      "82\t-17.0\t83\t9.0\r\n",
      "84\t-16.5\t85\t5.5\r\n",
      "86\t-16.0\t87\t3.0\r\n",
      "88\t-18.5\t89\t3.5\r\n",
      "90\t-17.0\t91\t1.0\r\n",
      "92\t-19.5\t93\t4.5\r\n",
      "94\t-23.0\t95\t3.0\r\n",
      "96\t-22.5\t97\t1.5\r\n",
      "98\t-27.0\t99\t-1.0\r\n",
      "100\t-30.5\t101\t3.5\r\n",
      "102\t-29.0\t103\t-1.0\r\n",
      "104\t-26.5\t105\t-5.5\r\n",
      "106\t-29.0\t107\t-7.0\r\n",
      "108\t-27.5\t109\t-10.5\r\n",
      "110\t-32.0\t111\t-9.0\r\n",
      "112\t-28.5\t113\t-4.5\r\n",
      "114\t-31.0\t115\t-5.0\r\n",
      "116\t-34.5\t117\t-6.5\r\n",
      "118\t-33.0\t119\t-11.0\r",
      "\r\n",
      "120\t-36.5\t121\t-14.5\r\n",
      "122\t-35.0\t123\t-13.0\r\n",
      "124\t-32.5\t125\t-14.5\r\n",
      "126\t-33.0\t127\t-18.0\r\n",
      "128\t-32.5\t129\t-19.5\r\n",
      "130\t-33.0\t131\t-18.0\r\n",
      "132\t-32.5\t133\t-15.5\r\n",
      "134\t-33.0\t135\t-13.0\r\n",
      "136\t-28.5\t137\t-12.5\r\n",
      "138\t-31.0\t139\t-10.0\r\n",
      "140\t-31.5\t141\t-5.5\r\n",
      "142\t-33.0\t143\t-5.0\r\n",
      "144\t-29.5\t145\t-9.5\r\n",
      "146\t-34.0\t147\t-13.0\r\n",
      "148\t-32.5\t149\t-9.5\r\n",
      "150\t-28.0\t151\t-5.0\r\n",
      "152\t-24.5\t153\t-9.5\r\n",
      "154\t-27.0\t155\t-12.0\r\n",
      "156\t-22.5\t157\t-12.5\r\n",
      "158\t-24.0\t159\t-15.0\r\n",
      "160\t-22.5\t161\t-10.5\r\n",
      "162\t-18.0\t163\t-14.0\r\n",
      "164\t-14.5\t165\t-16.5\r\n",
      "166\t-15.0\t167\t-18.0\r\n",
      "168\t-17.5\t169\t-14.5\r\n",
      "170\t-21.0\t171\t-10.0\r\n",
      "172\t-20.5\t173\t-7.5\r\n",
      "174\t-21.0\t175\t-9.0\r\n",
      "176\t-18.5\t177\t-7.5\r\n",
      "178\t-20.0\t179\t-8.0\r\n",
      "180\t-24.5\t181\t-6.5\r\n",
      "182\t-25.0\t183\t-8.0\r\n",
      "184\t-25.5\t185\t-3.5\r\n",
      "186\t-24.0\t187\t-2.0\r\n",
      "188\t-26.5\t189\t1.5\r\n",
      "190\t-28.0\t191\t5.0\r\n",
      "192\t-24.5\t193\t5.5\r\n",
      "194\t-21.0\t195\t4.0\r\n",
      "196\t-16.5\t197\t7.5\r\n",
      "198\t-20.0\t199\t5.0\r\n"
     ]
    }
   ],
   "source": [
    "!paste dataset3.txt dataset4.txt"
   ]
  },
  {
   "cell_type": "code",
   "execution_count": 49,
   "metadata": {},
   "outputs": [
    {
     "name": "stdout",
     "output_type": "stream",
     "text": [
      "<class 'str'>\n"
     ]
    }
   ],
   "source": [
    "#from IPython.utils import io\n",
    "#with io.capture_output() as captured:\n",
    "#%%capture substract_curves.py dataset3.txt dataset4.txt\n",
    "#print(captured.stdout)\n",
    "from IPython.utils import io\n",
    "with io.capture_output() as captured:\n",
    "    !python substract_curves.py dataset3.txt dataset4.txt\n",
    "print(type(captured.stdout))\n",
    "import io\n",
    "with io.open('differences.txt', 'w') as file:\n",
    "    file.write(captured.stdout)"
   ]
  },
  {
   "cell_type": "code",
   "execution_count": null,
   "metadata": {},
   "outputs": [],
   "source": [
    "import matplotlib.pyplot as plt\n",
    "plt.plotfile('data.dat', delimiter=' ', cols=(0, 1), names=('col1', 'col2'), marker='o')\n",
    "plt.show()"
   ]
  }
 ],
 "metadata": {
  "kernelspec": {
   "display_name": "Python 3",
   "language": "python",
   "name": "python3"
  },
  "language_info": {
   "codemirror_mode": {
    "name": "ipython",
    "version": 3
   },
   "file_extension": ".py",
   "mimetype": "text/x-python",
   "name": "python",
   "nbconvert_exporter": "python",
   "pygments_lexer": "ipython3",
   "version": "3.6.1"
  }
 },
 "nbformat": 4,
 "nbformat_minor": 2
}
