{
 "cells": [
  {
   "cell_type": "markdown",
   "metadata": {},
   "source": [
    "# Profiling with [IPython](http://ipython.readthedocs.io/en/stable/index.html)\n",
    "Interactive Python provides some [Built-in magic commands](http://ipython.readthedocs.io/en/stable/interactive/magics.html) that can help up when developing code."
   ]
  },
  {
   "cell_type": "markdown",
   "metadata": {},
   "source": [
    "### `?`\n",
    "IPython's help."
   ]
  },
  {
   "cell_type": "code",
   "execution_count": null,
   "metadata": {},
   "outputs": [],
   "source": [
    "?"
   ]
  },
  {
   "cell_type": "markdown",
   "metadata": {},
   "source": [
    "### `%quickref`\n",
    "Quick reference."
   ]
  },
  {
   "cell_type": "code",
   "execution_count": null,
   "metadata": {},
   "outputs": [],
   "source": [
    "%quickref"
   ]
  },
  {
   "cell_type": "markdown",
   "metadata": {},
   "source": [
    "### `help`\n",
    "Python’s own help system."
   ]
  },
  {
   "cell_type": "code",
   "execution_count": null,
   "metadata": {},
   "outputs": [],
   "source": [
    "help"
   ]
  },
  {
   "cell_type": "markdown",
   "metadata": {},
   "source": [
    "### `object?`\n",
    "Details about ‘object’, use ‘object??’ for extra details."
   ]
  },
  {
   "cell_type": "code",
   "execution_count": null,
   "metadata": {},
   "outputs": [],
   "source": [
    "a = 1\n",
    "a?"
   ]
  },
  {
   "cell_type": "markdown",
   "metadata": {},
   "source": [
    "### `! <command>`\n",
    "Forks a shell, run a command in it, exits the shell and returns."
   ]
  },
  {
   "cell_type": "code",
   "execution_count": null,
   "metadata": {},
   "outputs": [],
   "source": [
    "!cd /"
   ]
  },
  {
   "cell_type": "code",
   "execution_count": null,
   "metadata": {},
   "outputs": [],
   "source": [
    "!pwd"
   ]
  },
  {
   "cell_type": "markdown",
   "metadata": {},
   "source": [
    "### `%cd`\n",
    "\n",
    "Change the current working directory."
   ]
  },
  {
   "cell_type": "code",
   "execution_count": null,
   "metadata": {},
   "outputs": [],
   "source": [
    "%cd /"
   ]
  },
  {
   "cell_type": "code",
   "execution_count": null,
   "metadata": {},
   "outputs": [],
   "source": [
    "!pwd"
   ]
  },
  {
   "cell_type": "code",
   "execution_count": null,
   "metadata": {},
   "outputs": [],
   "source": [
    "%cd ~/YAPT"
   ]
  },
  {
   "cell_type": "code",
   "execution_count": null,
   "metadata": {},
   "outputs": [],
   "source": [
    "!pwd"
   ]
  },
  {
   "cell_type": "markdown",
   "metadata": {},
   "source": [
    "### `who`/`whos`\n",
    "Print all interactive variables"
   ]
  },
  {
   "cell_type": "code",
   "execution_count": null,
   "metadata": {},
   "outputs": [],
   "source": [
    "%whos"
   ]
  },
  {
   "cell_type": "markdown",
   "metadata": {},
   "source": [
    "### `%time <Python statement`/`expression>`\n",
    "\n",
    "time <Python statement`/`expression>`\n",
    "Temporize the execution of a Python statement or expression, remembering its results."
   ]
  },
  {
   "cell_type": "code",
   "execution_count": null,
   "metadata": {},
   "outputs": [],
   "source": [
    "a"
   ]
  },
  {
   "cell_type": "code",
   "execution_count": null,
   "metadata": {},
   "outputs": [],
   "source": [
    "%time a=3"
   ]
  },
  {
   "cell_type": "code",
   "execution_count": null,
   "metadata": {},
   "outputs": [],
   "source": [
    "a"
   ]
  },
  {
   "cell_type": "markdown",
   "metadata": {},
   "source": [
    "### `%timeit <Python statement`/`expression>`\n",
    "Really temporize the execution of a Python statement or expression, but forgeting its results."
   ]
  },
  {
   "cell_type": "code",
   "execution_count": null,
   "metadata": {},
   "outputs": [],
   "source": [
    "a"
   ]
  },
  {
   "cell_type": "code",
   "execution_count": null,
   "metadata": {},
   "outputs": [],
   "source": [
    "%timeit a=4"
   ]
  },
  {
   "cell_type": "code",
   "execution_count": null,
   "metadata": {},
   "outputs": [],
   "source": [
    "a"
   ]
  },
  {
   "cell_type": "markdown",
   "metadata": {},
   "source": [
    "### `%run <python module>.py`\n",
    "Run the named file inside IPython as a program."
   ]
  },
  {
   "cell_type": "code",
   "execution_count": null,
   "metadata": {},
   "outputs": [],
   "source": [
    "%run hello_world.py"
   ]
  },
  {
   "cell_type": "code",
   "execution_count": null,
   "metadata": {},
   "outputs": [],
   "source": [
    "!cat module.py"
   ]
  },
  {
   "cell_type": "code",
   "execution_count": null,
   "metadata": {},
   "outputs": [],
   "source": [
    "%run module.py"
   ]
  },
  {
   "cell_type": "code",
   "execution_count": null,
   "metadata": {},
   "outputs": [],
   "source": [
    "%whos"
   ]
  },
  {
   "cell_type": "code",
   "execution_count": null,
   "metadata": {},
   "outputs": [],
   "source": [
    "a"
   ]
  },
  {
   "cell_type": "markdown",
   "metadata": {},
   "source": [
    "### `%run -t <python module>.py`"
   ]
  },
  {
   "cell_type": "code",
   "execution_count": 1,
   "metadata": {},
   "outputs": [
    {
     "name": "stdout",
     "output_type": "stream",
     "text": [
      "#!/usr/bin/env python3\r\n",
      "\r\n",
      "import sys, math, scipy.interpolate\r\n",
      "\r\n",
      "''' Inputs two sets of points (from two curves), interpolate one of\r\n",
      "they in the points of the other and returns the difference between\r\n",
      "interpolated (first curve) and real points (second curve). The\r\n",
      "diference samples are output through the stdout.\r\n",
      "\r\n",
      "USAGE EXAMPLE:\r\n",
      "\r\n",
      "./interplate.py data_file_1.dat data_file_2.dat > data_file_3.dat\r\n",
      "\r\n",
      "# Note: the domain of data_file_2 must be included in the domain of data_file_1.\r\n",
      "'''\r\n",
      "\r\n",
      "# First curve\r\n",
      "x = [0.0] # X coordinates\r\n",
      "y = [0.0] # Y coordinates\r\n",
      "\r\n",
      "f = open(sys.argv[1])\r\n",
      "line = f.readline()\r\n",
      "while (line != \"\"):\r\n",
      "    if \"#\" != line[0]:\r\n",
      "        splitted_line = line.split()\r\n",
      "        x.append(float(splitted_line[0]))\r\n",
      "        y.append(float(splitted_line[1]))\r\n",
      "    line = f.readline()\r\n",
      "\r\n",
      "f.close()\r\n",
      "\r\n",
      "# Create the interpolate function\r\n",
      "y_interp = scipy.interpolate.interp1d(x,y)\r\n",
      "\r\n",
      "# Evaluate the first curve at the x coordinates of the second one\r\n",
      "\r\n",
      "f = open(sys.argv[2])\r\n",
      "line = f.readline()\r\n",
      "while (line != \"\"):\r\n",
      "    if \"#\" != line[0]:\r\n",
      "        splitted_line = line.split()\r\n",
      "        x = float(splitted_line[0])\r\n",
      "        y = float(splitted_line[1])\r\n",
      "        \r\n",
      "        if not math.isnan(y_interp(x)):\r\n",
      "            print(x, '\\t', y-y_interp(x)) # print x, y-y_interp(x) # print (x, '\\t', y-y_interp(x))\r\n",
      "    line = f.readline()\r\n",
      "\r\n",
      "f.close()\r\n"
     ]
    }
   ],
   "source": [
    "!cat substract_curves.py"
   ]
  },
  {
   "cell_type": "code",
   "execution_count": 8,
   "metadata": {},
   "outputs": [
    {
     "name": "stdout",
     "output_type": "stream",
     "text": [
      "1\t20\t0\t20\r\n",
      "3\t20\t2\t20\r\n",
      "5\t20\t4\t30\r\n",
      "7\t20\t6\t20\r\n",
      "9\t20\t8\t20\r\n"
     ]
    }
   ],
   "source": [
    "!paste dataset1.txt dataset2.txt"
   ]
  },
  {
   "cell_type": "code",
   "execution_count": 9,
   "metadata": {},
   "outputs": [
    {
     "name": "stdout",
     "output_type": "stream",
     "text": [
      "0.0 \t 20.0\n",
      "2.0 \t 0.0\n",
      "4.0 \t 10.0\n",
      "6.0 \t 0.0\n",
      "8.0 \t 0.0\n"
     ]
    }
   ],
   "source": [
    "%run substract_curves.py dataset1.txt dataset2.txt"
   ]
  },
  {
   "cell_type": "code",
   "execution_count": 18,
   "metadata": {},
   "outputs": [],
   "source": [
    "import io\n",
    "import numpy as np\n",
    "x = 0\n",
    "with io.open('dataset3.txt', 'w') as file:\n",
    "    for i in range(100):\n",
    "        x += np.random.randint(10) - 4.5\n",
    "        file.write('{}\\t{}\\n'.format(i,x))\n",
    "x = 0\n",
    "with io.open('dataset4.txt', 'w') as file:\n",
    "    for i in range(100):\n",
    "        x += np.random.randint(10) - 4.5\n",
    "        file.write('{}\\t{}\\n'.format(i+1,x))"
   ]
  },
  {
   "cell_type": "code",
   "execution_count": 19,
   "metadata": {},
   "outputs": [
    {
     "name": "stdout",
     "output_type": "stream",
     "text": [
      "0\t4.5\t1\t-0.5\r\n",
      "1\t5.0\t2\t1.0\r\n",
      "2\t8.5\t3\t4.5\r\n",
      "3\t8.0\t4\t2.0\r\n",
      "4\t9.5\t5\t1.5\r\n",
      "5\t12.0\t6\t-3.0\r\n",
      "6\t11.5\t7\t-5.5\r\n",
      "7\t16.0\t8\t-2.0\r\n",
      "8\t15.5\t9\t0.5\r\n",
      "9\t15.0\t10\t-4.0\r\n",
      "10\t16.5\t11\t-7.5\r\n",
      "11\t12.0\t12\t-3.0\r\n",
      "12\t13.5\t13\t-1.5\r\n",
      "13\t13.0\t14\t-4.0\r\n",
      "14\t17.5\t15\t-5.5\r\n",
      "15\t18.0\t16\t-4.0\r\n",
      "16\t13.5\t17\t0.5\r\n",
      "17\t15.0\t18\t5.0\r\n",
      "18\t14.5\t19\t5.5\r\n",
      "19\t15.0\t20\t3.0\r\n",
      "20\t12.5\t21\t1.5\r\n",
      "21\t10.0\t22\t-1.0\r\n",
      "22\t7.5\t23\t3.5\r\n",
      "23\t12.0\t24\t7.0\r\n",
      "24\t10.5\t25\t7.5\r\n",
      "25\t14.0\t26\t9.0\r\n",
      "26\t9.5\t27\t8.5\r\n",
      "27\t13.0\t28\t4.0\r\n",
      "28\t16.5\t29\t4.5\r\n",
      "29\t18.0\t30\t0.0\r\n",
      "30\t17.5\t31\t0.5\r\n",
      "31\t22.0\t32\t2.0\r\n",
      "32\t25.5\t33\t4.5\r\n",
      "33\t23.0\t34\t9.0\r\n",
      "34\t18.5\t35\t7.5\r\n",
      "35\t19.0\t36\t9.0\r\n",
      "36\t16.5\t37\t7.5\r\n",
      "37\t14.0\t38\t10.0\r\n",
      "38\t13.5\t39\t14.5\r\n",
      "39\t16.0\t40\t12.0\r\n",
      "40\t16.5\t41\t9.5\r\n",
      "41\t21.0\t42\t13.0\r\n",
      "42\t20.5\t43\t15.5\r\n",
      "43\t22.0\t44\t13.0\r\n",
      "44\t17.5\t45\t17.5\r\n",
      "45\t20.0\t46\t21.0\r\n",
      "46\t19.5\t47\t24.5\r\n",
      "47\t21.0\t48\t22.0\r\n",
      "48\t19.5\t49\t25.5\r\n",
      "49\t24.0\t50\t21.0\r\n",
      "50\t21.5\t51\t17.5\r\n",
      "51\t25.0\t52\t21.0\r\n",
      "52\t23.5\t53\t25.5\r\n",
      "53\t26.0\t54\t27.0\r\n",
      "54\t29.5\t55\t29.5\r\n",
      "55\t28.0\t56\t29.0\r\n",
      "56\t29.5\t57\t26.5\r\n",
      "57\t33.0\t58\t25.0\r\n",
      "58\t30.5\t59\t27.5\r\n",
      "59\t27.0\t60\t25.0\r\n",
      "60\t25.5\t61\t27.5\r\n",
      "61\t25.0\t62\t29.0\r\n",
      "62\t25.5\t63\t25.5\r\n",
      "63\t30.0\t64\t21.0\r\n",
      "64\t28.5\t65\t23.5\r\n",
      "65\t28.0\t66\t25.0\r\n",
      "66\t31.5\t67\t21.5\r\n",
      "67\t33.0\t68\t25.0\r\n",
      "68\t36.5\t69\t28.5\r\n",
      "69\t39.0\t70\t24.0\r\n",
      "70\t34.5\t71\t20.5\r\n",
      "71\t34.0\t72\t18.0\r\n",
      "72\t37.5\t73\t15.5\r\n",
      "73\t37.0\t74\t14.0\r\n",
      "74\t37.5\t75\t15.5\r\n",
      "75\t34.0\t76\t16.0\r\n",
      "76\t34.5\t77\t20.5\r\n",
      "77\t30.0\t78\t18.0\r\n",
      "78\t27.5\t79\t16.5\r\n",
      "79\t29.0\t80\t20.0\r\n",
      "80\t31.5\t81\t20.5\r\n",
      "81\t28.0\t82\t21.0\r\n",
      "82\t28.5\t83\t20.5\r\n",
      "83\t25.0\t84\t16.0\r\n",
      "84\t29.5\t85\t12.5\r\n",
      "85\t31.0\t86\t17.0\r\n",
      "86\t28.5\t87\t18.5\r\n",
      "87\t28.0\t88\t22.0\r\n",
      "88\t32.5\t89\t18.5\r\n",
      "89\t34.0\t90\t20.0\r\n",
      "90\t35.5\t91\t15.5\r\n",
      "91\t35.0\t92\t16.0\r\n",
      "92\t33.5\t93\t17.5\r\n",
      "93\t36.0\t94\t22.0\r\n",
      "94\t32.5\t95\t22.5\r\n",
      "95\t31.0\t96\t20.0\r\n",
      "96\t31.5\t97\t22.5\r\n",
      "97\t34.0\t98\t22.0\r\n",
      "98\t35.5\t99\t19.5\r\n",
      "99\t35.0\t100\t15.0\r\n"
     ]
    }
   ],
   "source": [
    "!paste dataset3.txt dataset4.txt"
   ]
  },
  {
   "cell_type": "code",
   "execution_count": 16,
   "metadata": {},
   "outputs": [
    {
     "ename": "IndexError",
     "evalue": "list index out of range",
     "output_type": "error",
     "traceback": [
      "\u001b[0;31m---------------------------------------------------------------------------\u001b[0m",
      "\u001b[0;31mIndexError\u001b[0m                                Traceback (most recent call last)",
      "\u001b[0;32m~/YAPT/substract_curves.py\u001b[0m in \u001b[0;36m<module>\u001b[0;34m()\u001b[0m\n\u001b[1;32m     25\u001b[0m         \u001b[0msplitted_line\u001b[0m \u001b[0;34m=\u001b[0m \u001b[0mline\u001b[0m\u001b[0;34m.\u001b[0m\u001b[0msplit\u001b[0m\u001b[0;34m(\u001b[0m\u001b[0;34m)\u001b[0m\u001b[0;34m\u001b[0m\u001b[0m\n\u001b[1;32m     26\u001b[0m         \u001b[0mx\u001b[0m\u001b[0;34m.\u001b[0m\u001b[0mappend\u001b[0m\u001b[0;34m(\u001b[0m\u001b[0mfloat\u001b[0m\u001b[0;34m(\u001b[0m\u001b[0msplitted_line\u001b[0m\u001b[0;34m[\u001b[0m\u001b[0;36m0\u001b[0m\u001b[0;34m]\u001b[0m\u001b[0;34m)\u001b[0m\u001b[0;34m)\u001b[0m\u001b[0;34m\u001b[0m\u001b[0m\n\u001b[0;32m---> 27\u001b[0;31m         \u001b[0my\u001b[0m\u001b[0;34m.\u001b[0m\u001b[0mappend\u001b[0m\u001b[0;34m(\u001b[0m\u001b[0mfloat\u001b[0m\u001b[0;34m(\u001b[0m\u001b[0msplitted_line\u001b[0m\u001b[0;34m[\u001b[0m\u001b[0;36m1\u001b[0m\u001b[0;34m]\u001b[0m\u001b[0;34m)\u001b[0m\u001b[0;34m)\u001b[0m\u001b[0;34m\u001b[0m\u001b[0m\n\u001b[0m\u001b[1;32m     28\u001b[0m     \u001b[0mline\u001b[0m \u001b[0;34m=\u001b[0m \u001b[0mf\u001b[0m\u001b[0;34m.\u001b[0m\u001b[0mreadline\u001b[0m\u001b[0;34m(\u001b[0m\u001b[0;34m)\u001b[0m\u001b[0;34m\u001b[0m\u001b[0m\n\u001b[1;32m     29\u001b[0m \u001b[0;34m\u001b[0m\u001b[0m\n",
      "\u001b[0;31mIndexError\u001b[0m: list index out of range"
     ]
    }
   ],
   "source": [
    "%run substract_curves.py dataset3.txt dataset4.txt"
   ]
  },
  {
   "cell_type": "code",
   "execution_count": null,
   "metadata": {},
   "outputs": [],
   "source": []
  }
 ],
 "metadata": {
  "kernelspec": {
   "display_name": "Python 3",
   "language": "python",
   "name": "python3"
  },
  "language_info": {
   "codemirror_mode": {
    "name": "ipython",
    "version": 3
   },
   "file_extension": ".py",
   "mimetype": "text/x-python",
   "name": "python",
   "nbconvert_exporter": "python",
   "pygments_lexer": "ipython3",
   "version": "3.6.1"
  }
 },
 "nbformat": 4,
 "nbformat_minor": 2
}
