{
 "cells": [
  {
   "cell_type": "markdown",
   "metadata": {},
   "source": [
    "# [Concurrency](https://en.wikipedia.org/wiki/Concurrency_(computer_science)\n",
    "It is the possibility of running code in parallel with other codes."
   ]
  },
  {
   "cell_type": "markdown",
   "metadata": {},
   "source": [
    "## 1. Threads\n",
    "Parallel execution of code which can share objects easely."
   ]
  },
  {
   "cell_type": "code",
   "execution_count": 7,
   "metadata": {
    "collapsed": false
   },
   "outputs": [
    {
     "name": "stdout",
     "output_type": "stream",
     "text": [
      "oOooO\n",
      "\n",
      "(Both threads have started)\n",
      "OoOO\n",
      "ooOOo\n",
      "OoOOoO\n",
      "OoOOoOO\n",
      "ooOOoOOo\n",
      "OoOOoOOoO\n",
      "oOoOOoOOoOooOOoOOoOoO\n",
      "\n",
      "OoOOoOOoOoOO\n",
      "ooOOoOOoOoOOo\n",
      "OoOOoOOoOoOOoO\n",
      "OoOOoOOoOoOOoOO\n",
      "ooOOoOOoOoOOoOOo\n",
      "OoOOoOOoOoOOoOOoO\n",
      "ooOOoOOoOoOOoOOoOo\n",
      "OoOOoOOoOoOOoOOoOoO\n",
      "OoOOoOOoOoOOoOOoOoOO\n",
      "ooOOoOOoOoOOoOOoOoOOo\n",
      "OoOOoOOoOoOOoOOoOoOOoO\n",
      "OoOOoOOoOoOOoOOoOoOOoOO\n",
      "ooOOoOOoOoOOoOOoOoOOoOOo\n",
      "OoOOoOOoOoOOoOOoOoOOoOOoO\n",
      "ooOOoOOoOoOOoOOoOoOOoOOoOo\n",
      "OoOOoOOoOoOOoOOoOoOOoOOoOoO\n",
      "OoOOoOOoOoOOoOOoOoOOoOOoOoOO\n",
      "OoOOoOOoOoOOoOOoOoOOoOOoOoOOO\n",
      "OoOOoOOoOoOOoOOoOoOOoOOoOoOOOO\n",
      "OoOOoOOoOoOOoOOoOoOOoOOoOoOOOOO\n",
      "\n",
      "Both threads have finished\n",
      "oOOoOOoOoOOoOOoOoOOoOOoOoOOOOO\n"
     ]
    }
   ],
   "source": [
    "import threading\n",
    "import time\n",
    "import sys\n",
    "\n",
    "a = ''\n",
    "\n",
    "def task_1():\n",
    "    global a\n",
    "    for i in range(10):\n",
    "        print('o', end='')\n",
    "        sys.stdout.flush()\n",
    "        a += 'o'\n",
    "        print(a)\n",
    "        time.sleep(1)\n",
    "        \n",
    "def task_2():\n",
    "    global a\n",
    "    for i in range(20):\n",
    "        print('O', end='')\n",
    "        sys.stdout.flush()\n",
    "        a += 'O'\n",
    "        print(a)\n",
    "        time.sleep(0.6)\n",
    "        \n",
    "thread_1 = threading.Thread(target=task_1)\n",
    "thread_2 = threading.Thread(target=task_2)\n",
    "\n",
    "thread_1.start()\n",
    "thread_2.start()\n",
    "print(\"(Both threads have started)\")\n",
    "\n",
    "thread_1.join() # Wait for thread_1 to finish\n",
    "thread_2.join()\n",
    "print(\"\\nBoth threads have finished\")\n",
    "\n",
    "print(a)"
   ]
  },
  {
   "cell_type": "markdown",
   "metadata": {},
   "source": [
    "[CPU-bound tasks are not a good fit for Python threads, due to the Global Interpreter Lock (GIL). Parallel computations in Python should be done in multiple processes, not threads.](http://eli.thegreenplace.net/2011/12/27/python-threads-communication-and-stopping) As a consequence of this problem, currently it is impossible to use more than one core using Python Threads, exclusively."
   ]
  },
  {
   "cell_type": "markdown",
   "metadata": {},
   "source": [
    "## 2. Processes\n",
    "Parallel execution of code that have a larger CPU overhead when sharing objects. Supported by the OS."
   ]
  },
  {
   "cell_type": "code",
   "execution_count": 6,
   "metadata": {
    "collapsed": false
   },
   "outputs": [
    {
     "name": "stdout",
     "output_type": "stream",
     "text": [
      "oOo\n",
      "O\n",
      "(Both processes have started)\n",
      "OOO\n",
      "ooo\n",
      "OOOO\n",
      "OOOOO\n",
      "oooo\n",
      "OOOOOO\n",
      "ooooo\n",
      "OOOOOOO\n",
      "OOOOOOOO\n",
      "oooooo\n",
      "OOOOOOOOO\n",
      "OOOOOOOOOO\n",
      "ooooooo\n",
      "OOOOOOOOOOO\n",
      "oooooooo\n",
      "OOOOOOOOOOOO\n",
      "OOOOOOOOOOOOO\n",
      "ooooooooo\n",
      "OOOOOOOOOOOOOO\n",
      "OOOOOOOOOOOOOOO\n",
      "oooooooooo\n",
      "OOOOOOOOOOOOOOOO\n",
      "ooooooooooo\n",
      "OOOOOOOOOOOOOOOOO\n",
      "OOOOOOOOOOOOOOOOOO\n",
      "OOOOOOOOOOOOOOOOOOO\n",
      "OOOOOOOOOOOOOOOOOOOO\n",
      "OOOOOOOOOOOOOOOOOOOOO\n",
      "\n",
      "Both processes have finished\n",
      "\n"
     ]
    }
   ],
   "source": [
    "import multiprocessing\n",
    "import time\n",
    "import sys\n",
    "\n",
    "a = ''\n",
    "\n",
    "def task_1():\n",
    "    global a\n",
    "    for i in range(10):\n",
    "        print('o', end='')\n",
    "        sys.stdout.flush()\n",
    "        a += 'o'\n",
    "        print(a)\n",
    "        time.sleep(1)\n",
    "        \n",
    "def task_2():\n",
    "    global a\n",
    "    for i in range(20):\n",
    "        print('O', end='')\n",
    "        sys.stdout.flush()\n",
    "        a += 'O'\n",
    "        print(a)\n",
    "        time.sleep(0.6)\n",
    "        \n",
    "process_1 = multiprocessing.Process(target=task_1)\n",
    "process_2 = multiprocessing.Process(target=task_2)\n",
    "\n",
    "process_1.start()\n",
    "process_2.start()\n",
    "print(\"(Both processes have started)\")\n",
    "\n",
    "process_1.join()\n",
    "process_2.join()\n",
    "print(\"\\nBoth processes have finished\")\n",
    "\n",
    "print(a)"
   ]
  },
  {
   "cell_type": "markdown",
   "metadata": {},
   "source": [
    "### Why `a` has not been modified? Why the processed do not share `a`?"
   ]
  },
  {
   "cell_type": "markdown",
   "metadata": {},
   "source": [
    "By definition, processes must [__fork__](https://en.wikipedia.org/wiki/Fork_(system_call) (make a copy of itself, that is, the code and the used memory) before start running. In the previous example, the Python interpreter forks twice and the two childs are run in parallel while the parent process waits for their completition. Neither, the child processes nor the parent process share their global state (where `a` is defined)."
   ]
  },
  {
   "cell_type": "markdown",
   "metadata": {},
   "source": [
    "### 2.1. How to share data between processes?"
   ]
  },
  {
   "cell_type": "markdown",
   "metadata": {},
   "source": [
    "There are several options. One of them is to use a [shared memory `Manager()`](https://docs.python.org/3/library/multiprocessing.html#sharing-state-between-processes):"
   ]
  },
  {
   "cell_type": "code",
   "execution_count": 75,
   "metadata": {
    "collapsed": false
   },
   "outputs": [
    {
     "name": "stdout",
     "output_type": "stream",
     "text": [
      "oO(Both processes have started)\n",
      "OoOOoOoOOoOOoOoOOoOOoOoOOOOO\n",
      "Both processes have finished\n",
      "oOOoOOoOoOOoOOoOoOOoOOoOoOOOOO\n"
     ]
    }
   ],
   "source": [
    "import multiprocessing\n",
    "import time\n",
    "import sys\n",
    "import ctypes\n",
    "\n",
    "def task_1(a):\n",
    "    for i in range(10):\n",
    "        print('o', end='')\n",
    "        sys.stdout.flush()\n",
    "        a.value += 'o'\n",
    "        time.sleep(1)\n",
    "        \n",
    "def task_2(a):\n",
    "    for i in range(20):\n",
    "        print('O', end='')\n",
    "        sys.stdout.flush()\n",
    "        a.value += 'O'\n",
    "        time.sleep(0.6)\n",
    "\n",
    "manager = multiprocessing.Manager()\n",
    "# See https://docs.python.org/3/library/ctypes.html#module-ctypes\n",
    "a = manager.Value(ctypes.c_char_p, \"\")    \n",
    "\n",
    "process_1 = multiprocessing.Process(target=task_1, args=(a,))\n",
    "process_2 = multiprocessing.Process(target=task_2, args=(a,))\n",
    "\n",
    "process_1.start()\n",
    "process_2.start()\n",
    "print(\"(Both processes have started)\")\n",
    "\n",
    "process_1.join()\n",
    "process_2.join()\n",
    "print(\"\\nBoth processes have finished\")\n",
    "\n",
    "print(a.value)"
   ]
  },
  {
   "cell_type": "markdown",
   "metadata": {},
   "source": [
    "## 3. Using critical sections\n",
    "A [critical section](https://en.wikipedia.org/wiki/Linearizability) is a region of code that should not run in parallel. For example, the increment of a variable is not considered an [atomic operation](https://en.wikipedia.org/wiki/Linearizability), so, it should be performed using [mutual exclusion](https://en.wikipedia.org/wiki/Mutual_exclusion)."
   ]
  },
  {
   "cell_type": "markdown",
   "metadata": {},
   "source": [
    "Example of why critical sections must be executed using mutual exclusion:"
   ]
  },
  {
   "cell_type": "code",
   "execution_count": 18,
   "metadata": {
    "collapsed": false
   },
   "outputs": [
    {
     "name": "stdout",
     "output_type": "stream",
     "text": [
      "(Both threads started)\n",
      "\n",
      "Both threads finished\n",
      "counter = -58755\n"
     ]
    }
   ],
   "source": [
    "# Two threads that have a critical section executed in parallel without mutual exclusion.\n",
    "# This code does not work!\n",
    "\n",
    "import threading\n",
    "import time\n",
    "import sys\n",
    "\n",
    "counter = 10\n",
    "\n",
    "def task_1():\n",
    "    global counter\n",
    "    for i in range(1000000):\n",
    "        counter += 1\n",
    "        \n",
    "def task_2():\n",
    "    global counter\n",
    "    for i in range(1000001):\n",
    "        counter -= 1\n",
    "        \n",
    "thread_1 = threading.Thread(target=task_1)\n",
    "thread_2 = threading.Thread(target=task_2)\n",
    "\n",
    "thread_1.start()\n",
    "thread_2.start()\n",
    "print(\"(Both threads started)\")\n",
    "\n",
    "thread_1.join()\n",
    "thread_2.join()\n",
    "print(\"\\nBoth threads finished\")\n",
    "\n",
    "print('counter =', counter)"
   ]
  },
  {
   "cell_type": "markdown",
   "metadata": {},
   "source": [
    "The same example, using mutual exclusion (using a [lock](https://docs.python.org/3/library/threading.html#lock-objects)):"
   ]
  },
  {
   "cell_type": "code",
   "execution_count": 19,
   "metadata": {
    "collapsed": false
   },
   "outputs": [
    {
     "name": "stdout",
     "output_type": "stream",
     "text": [
      "(Both threads started)\n",
      "\n",
      "Both threads finished\n",
      "counter = 9\n"
     ]
    }
   ],
   "source": [
    "# Two threads that have a critical section executed sequentially.\n",
    "# This code works\n",
    "\n",
    "import threading\n",
    "import time\n",
    "import sys\n",
    "\n",
    "lock = threading.Lock()\n",
    "counter = 10\n",
    "\n",
    "def task_1():\n",
    "    global counter\n",
    "    for i in range(1000000):\n",
    "        with lock:\n",
    "            counter += 1\n",
    "        \n",
    "def task_2():\n",
    "    global counter\n",
    "    for i in range(1000001):\n",
    "        with lock:\n",
    "            counter -= 1\n",
    "        \n",
    "thread_1 = threading.Thread(target=task_1)\n",
    "thread_2 = threading.Thread(target=task_2)\n",
    "\n",
    "thread_1.start()\n",
    "thread_2.start()\n",
    "print(\"(Both threads started)\")\n",
    "\n",
    "thread_1.join()\n",
    "thread_2.join()\n",
    "print(\"\\nBoth threads finished\")\n",
    "\n",
    "print('counter =', counter)"
   ]
  },
  {
   "cell_type": "markdown",
   "metadata": {},
   "source": [
    "Same concept, using processes:"
   ]
  },
  {
   "cell_type": "code",
   "execution_count": 83,
   "metadata": {
    "collapsed": false
   },
   "outputs": [
    {
     "name": "stdout",
     "output_type": "stream",
     "text": [
      "(Both tasks started)\n",
      "\n",
      "Both tasks finished\n",
      "counter = 9\n"
     ]
    }
   ],
   "source": [
    "# Two processes that have a critical section executed sequentially\n",
    "# This code works\n",
    "\n",
    "import multiprocessing\n",
    "import time\n",
    "import sys\n",
    "import ctypes\n",
    "\n",
    "def task_1(lock, counter):\n",
    "    for i in range(10000):\n",
    "        lock.acquire()\n",
    "        try:\n",
    "            counter.value += 1\n",
    "        finally:\n",
    "            lock.release()\n",
    "        \n",
    "def task_2(lock, counter):\n",
    "    for i in range(10001):\n",
    "        lock.acquire()\n",
    "        try:\n",
    "            counter.value -= 1\n",
    "        finally:\n",
    "            lock.release()\n",
    "\n",
    "lock = multiprocessing.Lock()\n",
    "\n",
    "manager = multiprocessing.Manager()\n",
    "counter = manager.Value(ctypes.c_int, 10)\n",
    "\n",
    "process_1 = multiprocessing.Process(target=task_1, args=(lock, counter))\n",
    "process_2 = multiprocessing.Process(target=task_2, args=(lock, counter))\n",
    "\n",
    "process_1.start()\n",
    "process_2.start()\n",
    "print(\"(Both tasks started)\")\n",
    "\n",
    "process_1.join()\n",
    "process_2.join()\n",
    "print(\"\\nBoth tasks finished\")\n",
    "\n",
    "print('counter =', counter.value)"
   ]
  },
  {
   "cell_type": "markdown",
   "metadata": {},
   "source": [
    "## 4. Synchronizing parallel tasks (specially processes)"
   ]
  },
  {
   "cell_type": "markdown",
   "metadata": {},
   "source": [
    "Using a queue."
   ]
  },
  {
   "cell_type": "code",
   "execution_count": 23,
   "metadata": {
    "collapsed": false
   },
   "outputs": [
    {
     "name": "stdout",
     "output_type": "stream",
     "text": [
      "Produced 3 (queue length = 1)\n",
      "Consumed 3 (queue length = 0)\n",
      "Produced 8 (queue length = 1)\n",
      "Consumed 8 (queue length = 0)\n",
      "Produced 2 (queue length = 1)\n",
      "Produced 3 (queue length = 2)\n",
      "Consumed 2 (queue length = 1)\n",
      "Produced 2 (queue length = 2)\n",
      "Produced 4 (queue length = 3)\n",
      "Consumed 3 (queue length = 2)\n",
      "Produced 3 (queue length = 3)\n",
      "Consumed 2 (queue length = 2)\n",
      "Produced 9 (queue length = 3)\n",
      "Produced 7 (queue length = 4)\n",
      "Produced 6 (queue length = 5)\n",
      "Consumed 4 (queue length = 4)\n",
      "Consumed 3 (queue length = 3)\n",
      "Consumed 9 (queue length = 2)\n",
      "Consumed 7 (queue length = 1)\n",
      "Consumed 6 (queue length = 0)\n",
      "done\n"
     ]
    }
   ],
   "source": [
    "import threading\n",
    "import time\n",
    "import random\n",
    "import queue\n",
    "\n",
    "queue_length = 10\n",
    "q = queue.Queue(queue_length)\n",
    "\n",
    "class Producer(threading.Thread):\n",
    "    def __init__(self, iters=10):\n",
    "        super(Producer,self).__init__()\n",
    "        self.iters = iters\n",
    "\n",
    "    def run(self):\n",
    "        i = 0\n",
    "        while i < self.iters:\n",
    "            if not q.full():\n",
    "                item = random.randint(1,10)\n",
    "                q.put(item)\n",
    "                print('Produced {} (queue length = {})'.format(item,q.qsize()))\n",
    "                i += 1\n",
    "                time.sleep(random.random())\n",
    "        return\n",
    "\n",
    "class Consumer(threading.Thread):\n",
    "    def __init__(self, iters=10):\n",
    "        super(Consumer,self).__init__()\n",
    "        self.iters = iters\n",
    "\n",
    "    def run(self):\n",
    "        i = 0\n",
    "        while i < self.iters:\n",
    "            if not q.empty():\n",
    "                item = q.get()\n",
    "                print('Consumed {} (queue length = {})'.format(item,q.qsize()))\n",
    "                i += 1\n",
    "                time.sleep(random.random())\n",
    "        return\n",
    "\n",
    "p = Producer()\n",
    "p.start()\n",
    "c = Consumer()\n",
    "c.start()\n",
    "\n",
    "p.join()\n",
    "c.join()\n",
    "\n",
    "print('done')"
   ]
  },
  {
   "cell_type": "markdown",
   "metadata": {},
   "source": [
    "Using a socket."
   ]
  },
  {
   "cell_type": "markdown",
   "metadata": {},
   "source": [
    "## Coroutines (systolic computation)"
   ]
  },
  {
   "cell_type": "code",
   "execution_count": 32,
   "metadata": {
    "collapsed": false
   },
   "outputs": [
    {
     "name": "stdout",
     "output_type": "stream",
     "text": [
      "10\n",
      "4\n",
      "4\n",
      "-1\n"
     ]
    }
   ],
   "source": [
    "def minimize():\n",
    "    current = yield\n",
    "    while True:\n",
    "        value = yield current # Receives \"value\" and returns \"current\"\n",
    "        current = min(value, current)\n",
    "        \n",
    "it = minimize()\n",
    "next(it)            # Prime the coroutine\n",
    "print(it.send(10))\n",
    "print(it.send(4))\n",
    "print(it.send(22))\n",
    "print(it.send(-1))"
   ]
  },
  {
   "cell_type": "code",
   "execution_count": null,
   "metadata": {
    "collapsed": false
   },
   "outputs": [],
   "source": [
    "def task_1():\n",
    "    while True:\n",
    "        received = yield\n",
    "        print('1', received)\n",
    "        \n",
    "def task_2(other):\n",
    "    while True:\n",
    "        received = yield\n",
    "        other.send(2)\n",
    "        print('2', received)\n",
    "\n",
    "t1 = task_1(); next(t1)\n",
    "t2 = task_2(t1); next(t2)\n",
    "print('next executed')\n",
    "for i in range(10):\n",
    "    t2.send(3)"
   ]
  },
  {
   "cell_type": "code",
   "execution_count": 19,
   "metadata": {
    "collapsed": false
   },
   "outputs": [
    {
     "name": "stdout",
     "output_type": "stream",
     "text": [
      "next executed\n",
      "1 2\n",
      "2 3\n",
      "1 2\n",
      "2 3\n",
      "1 2\n",
      "2 3\n"
     ]
    }
   ],
   "source": [
    "def task_1():\n",
    "    while True:\n",
    "        received = yield\n",
    "        print('1', received)\n",
    "        \n",
    "def task_2(other):\n",
    "    while True:\n",
    "        received = yield\n",
    "        other.send(2)\n",
    "        print('2', received)\n",
    "\n",
    "t1 = task_1(); next(t1)\n",
    "t2 = task_2(t1); next(t2)\n",
    "print('next executed')\n",
    "for i in range(3):\n",
    "    t2.send(3)"
   ]
  },
  {
   "cell_type": "code",
   "execution_count": 1,
   "metadata": {
    "collapsed": true
   },
   "outputs": [],
   "source": [
    "# http://code.activestate.com/recipes/578265-pipeline-made-of-coroutines/\n",
    "def coroutine(function):\n",
    "    '''Performs the mandatory initial \"next\" on a coroutine.'''\n",
    "    def generator(*args, **kwargs):\n",
    "        primed_func = function(*args, **kwargs)\n",
    "        primed_func.__next__()\n",
    "        return primed_func\n",
    "    return generator"
   ]
  },
  {
   "cell_type": "code",
   "execution_count": 39,
   "metadata": {
    "collapsed": false
   },
   "outputs": [
    {
     "name": "stdout",
     "output_type": "stream",
     "text": [
      "0 0\n",
      "1 0.5\n",
      "2 2.0\n",
      "3 2.5\n",
      "4 3.0\n",
      "5 3.5\n",
      "6 4.0\n",
      "7 4.5\n",
      "8 5.0\n",
      "9 5.5\n"
     ]
    }
   ],
   "source": [
    "@coroutine\n",
    "def add(x):\n",
    "    '''Add \"x\" to the input.'''\n",
    "    output = yield\n",
    "    while True:\n",
    "        received = yield output\n",
    "        output = received + x\n",
    "        \n",
    "@coroutine\n",
    "def divide(other_task, x):\n",
    "    '''Divide the input by \"x\".'''\n",
    "    output = yield\n",
    "    while True:\n",
    "        received = yield output\n",
    "        output = other_task.send(received / x)\n",
    "\n",
    "pipeline = divide(add(1),2)\n",
    "for i in range(10):\n",
    "    print(i, pipeline.send(i))"
   ]
  },
  {
   "cell_type": "code",
   "execution_count": null,
   "metadata": {
    "collapsed": true
   },
   "outputs": [],
   "source": [
    "https://www.youtube.com/watch?v=Bv25Dwe84g0"
   ]
  }
 ],
 "metadata": {
  "kernelspec": {
   "display_name": "Python 3",
   "language": "python",
   "name": "python3"
  },
  "language_info": {
   "codemirror_mode": {
    "name": "ipython",
    "version": 3
   },
   "file_extension": ".py",
   "mimetype": "text/x-python",
   "name": "python",
   "nbconvert_exporter": "python",
   "pygments_lexer": "ipython3",
   "version": "3.6.0"
  }
 },
 "nbformat": 4,
 "nbformat_minor": 1
}
