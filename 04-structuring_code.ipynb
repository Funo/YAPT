{
 "cells": [
  {
   "cell_type": "markdown",
   "metadata": {},
   "source": [
    "# Structuring code\n",
    "Python statements (code in general) are usually stored in files. Let's see [how these files can be organized](https://stephensugden.com/crash_into_python/CodeOrganization.html) in the file-system and how to structure this code."
   ]
  },
  {
   "cell_type": "markdown",
   "metadata": {},
   "source": [
    "## 1. [Packages](https://docs.python.org/3/tutorial/modules.html#packages)\n",
    "\n",
    "Packages ([directories](https://en.wikipedia.org/wiki/Directory_%28computing%29)) in the [file system](https://en.wikipedia.org/wiki/File_system) contain modules ([files](https://en.wikipedia.org/wiki/Computer_file)) and other packages (directories). Example:\n",
    "<!--\n",
    "```\n",
    "package1/\n",
    "    __init__.py\n",
    "    module1.py\n",
    "    package2/\n",
    "        __init__.py\n",
    "        module2.py\n",
    "``` -->"
   ]
  },
  {
   "cell_type": "code",
   "execution_count": 19,
   "metadata": {},
   "outputs": [
    {
     "name": "stdout",
     "output_type": "stream",
     "text": [
      "\u001b[34;42mpackage1/\u001b[00m\r\n",
      "├── __init__.py\r\n",
      "├── __main__.py\r\n",
      "├── module1.py\r\n",
      "├── \u001b[34;42mpackage2\u001b[00m\r\n",
      "│   ├── __init__.py\r\n",
      "│   ├── __main__.py\r\n",
      "│   ├── module2.py\r\n",
      "│   └── \u001b[34;42m__pycache__\u001b[00m\r\n",
      "│       ├── __init__.cpython-36.pyc\r\n",
      "│       └── module2.cpython-36.pyc\r\n",
      "└── \u001b[34;42m__pycache__\u001b[00m\r\n",
      "    ├── __init__.cpython-36.pyc\r\n",
      "    └── module1.cpython-36.pyc\r\n",
      "\r\n",
      "3 directories, 10 files\r\n"
     ]
    }
   ],
   "source": [
    "! tree package1/"
   ]
  },
  {
   "cell_type": "markdown",
   "metadata": {},
   "source": [
    "All packages must have a (even empty) `__init__.py` file, which is executed when the corresponding module is imported:"
   ]
  },
  {
   "cell_type": "code",
   "execution_count": 2,
   "metadata": {},
   "outputs": [
    {
     "name": "stdout",
     "output_type": "stream",
     "text": [
      "print(\"package1/__init__.py executed\")\r\n",
      "from . import module1\r\n",
      "from package1 import package2\r\n",
      "\r\n"
     ]
    }
   ],
   "source": [
    "! cat ./package1/__init__.py"
   ]
  },
  {
   "cell_type": "code",
   "execution_count": 3,
   "metadata": {},
   "outputs": [
    {
     "name": "stdout",
     "output_type": "stream",
     "text": [
      "print(\"package1/module1.py executed\")\r\n",
      "a = 1\r\n"
     ]
    }
   ],
   "source": [
    "! cat ./package1/module1.py"
   ]
  },
  {
   "cell_type": "code",
   "execution_count": 4,
   "metadata": {},
   "outputs": [
    {
     "name": "stdout",
     "output_type": "stream",
     "text": [
      "print(\"package1/package2/__init__.py excuted\")\r\n",
      "from . import module2\r\n",
      "\r\n"
     ]
    }
   ],
   "source": [
    "! cat ./package1/package2/__init__.py"
   ]
  },
  {
   "cell_type": "code",
   "execution_count": 5,
   "metadata": {},
   "outputs": [
    {
     "name": "stdout",
     "output_type": "stream",
     "text": [
      "b = 2\r\n",
      "print(\"package1/package2/module2.py executed\")\r\n",
      "\r\n"
     ]
    }
   ],
   "source": [
    "! cat ./package1/package2/module2.py"
   ]
  },
  {
   "cell_type": "markdown",
   "metadata": {},
   "source": [
    "If we run `package1`:"
   ]
  },
  {
   "cell_type": "code",
   "execution_count": 6,
   "metadata": {},
   "outputs": [
    {
     "name": "stdout",
     "output_type": "stream",
     "text": [
      "package1/__init__.py executed\r\n",
      "package1/module1.py executed\r\n",
      "package1/package2/__init__.py excuted\r\n",
      "package1/package2/module2.py executed\r\n"
     ]
    }
   ],
   "source": [
    "! python -c 'import package1'"
   ]
  },
  {
   "cell_type": "markdown",
   "metadata": {},
   "source": [
    "the rest of modules and packages are executed because we specified such action in the `__init__.py` file."
   ]
  },
  {
   "cell_type": "markdown",
   "metadata": {},
   "source": [
    "To know where is the `__init__.py` file of a package:"
   ]
  },
  {
   "cell_type": "code",
   "execution_count": 7,
   "metadata": {},
   "outputs": [
    {
     "name": "stdout",
     "output_type": "stream",
     "text": [
      "package1/__init__.py executed\n",
      "package1/module1.py executed\n",
      "package1/package2/__init__.py excuted\n",
      "package1/package2/module2.py executed\n"
     ]
    },
    {
     "data": {
      "text/plain": [
       "'/home/vruiz/YAPT/package1/__init__.py'"
      ]
     },
     "execution_count": 7,
     "metadata": {},
     "output_type": "execute_result"
    }
   ],
   "source": [
    "import package1\n",
    "package1.__file__"
   ]
  },
  {
   "cell_type": "markdown",
   "metadata": {},
   "source": [
    "### Curiosity"
   ]
  },
  {
   "cell_type": "markdown",
   "metadata": {},
   "source": [
    "Notice that, if we execute a subpackage, the parent package is also run:"
   ]
  },
  {
   "cell_type": "code",
   "execution_count": 8,
   "metadata": {},
   "outputs": [
    {
     "name": "stdout",
     "output_type": "stream",
     "text": [
      "package1/__init__.py executed\r\n",
      "package1/module1.py executed\r\n",
      "package1/package2/__init__.py excuted\r\n",
      "package1/package2/module2.py executed\r\n"
     ]
    }
   ],
   "source": [
    "! python -c 'import package1.package2'"
   ]
  },
  {
   "cell_type": "markdown",
   "metadata": {},
   "source": [
    "To run a subpackage, it must be invoked without refering his parent package:"
   ]
  },
  {
   "cell_type": "code",
   "execution_count": 9,
   "metadata": {},
   "outputs": [
    {
     "name": "stdout",
     "output_type": "stream",
     "text": [
      "package1/package2/__init__.py excuted\r\n",
      "package1/package2/module2.py executed\r\n"
     ]
    }
   ],
   "source": [
    "! (cd ./package1; python -c 'import package2')"
   ]
  },
  {
   "cell_type": "markdown",
   "metadata": {},
   "source": [
    "## 2. [Modules](https://docs.python.org/3/tutorial/modules.html)\n",
    "Programs in Python are called modules. They contain [classes](https://en.wikipedia.org/wiki/Class_%28computer_programming%29), [functions](https://en.wikipedia.org/wiki/Subroutine), [variables](https://en.wikipedia.org/wiki/Variable_%28computer_science%29) and [executable statements](https://en.wikipedia.org/wiki/Statement_%28computer_science%29). Modules can be also imported:"
   ]
  },
  {
   "cell_type": "code",
   "execution_count": 10,
   "metadata": {},
   "outputs": [
    {
     "name": "stdout",
     "output_type": "stream",
     "text": [
      "package1/module1.py executed\r\n"
     ]
    }
   ],
   "source": [
    "! (cd ./package1; python -c \"import module1\" )"
   ]
  },
  {
   "cell_type": "markdown",
   "metadata": {},
   "source": [
    "All objects declared in modules are public."
   ]
  },
  {
   "cell_type": "code",
   "execution_count": 11,
   "metadata": {},
   "outputs": [
    {
     "name": "stdout",
     "output_type": "stream",
     "text": [
      "package1/module1.py executed\r\n",
      "['__builtins__', '__cached__', '__doc__', '__file__', '__loader__', '__name__', '__package__', '__spec__', 'a']\r\n"
     ]
    }
   ],
   "source": [
    "! (cd ./package1; python -c \"import module1; print(dir(module1))\" )"
   ]
  },
  {
   "cell_type": "markdown",
   "metadata": {},
   "source": [
    "(Notice the `a` variable)"
   ]
  },
  {
   "cell_type": "code",
   "execution_count": 12,
   "metadata": {},
   "outputs": [
    {
     "name": "stdout",
     "output_type": "stream",
     "text": [
      "package1/module1.py executed\r\n",
      "a = 1\r\n"
     ]
    }
   ],
   "source": [
    "! (cd ./package1; python -c \"import module1; print('a =',module1.a)\" )"
   ]
  },
  {
   "cell_type": "markdown",
   "metadata": {},
   "source": [
    "Modules and packages are imported from:"
   ]
  },
  {
   "cell_type": "code",
   "execution_count": 13,
   "metadata": {},
   "outputs": [
    {
     "data": {
      "text/plain": [
       "['',\n",
       " '/home/vruiz/.pyenv/versions/3.6.3/lib/python36.zip',\n",
       " '/home/vruiz/.pyenv/versions/3.6.3/lib/python3.6',\n",
       " '/home/vruiz/.pyenv/versions/3.6.3/lib/python3.6/lib-dynload',\n",
       " '/home/vruiz/.pyenv/versions/3.6.3/lib/python3.6/site-packages',\n",
       " '/home/vruiz/.pyenv/versions/3.6.3/lib/python3.6/site-packages/IPython/extensions',\n",
       " '/home/vruiz/.ipython']"
      ]
     },
     "execution_count": 13,
     "metadata": {},
     "output_type": "execute_result"
    }
   ],
   "source": [
    "import sys\n",
    "sys.path"
   ]
  },
  {
   "cell_type": "markdown",
   "metadata": {},
   "source": [
    "(Note: the previous output depends on the interpreter, the host, the configuration of Python, etc.)"
   ]
  },
  {
   "cell_type": "markdown",
   "metadata": {},
   "source": [
    "To add a new directory, we can modify the `PYTHONPATH` environment variable (from the shell):"
   ]
  },
  {
   "cell_type": "code",
   "execution_count": 14,
   "metadata": {},
   "outputs": [
    {
     "name": "stdout",
     "output_type": "stream",
     "text": [
      "['', '/home/vruiz/.pyenv/versions/3.6.3/lib/python36.zip', '/home/vruiz/.pyenv/versions/3.6.3/lib/python3.6', '/home/vruiz/.pyenv/versions/3.6.3/lib/python3.6/lib-dynload', '/home/vruiz/.pyenv/versions/3.6.3/lib/python3.6/site-packages']\n",
      "['', '/home/vruiz/YAPT', '/my/new/dir', '/home/vruiz/.pyenv/versions/3.6.3/lib/python36.zip', '/home/vruiz/.pyenv/versions/3.6.3/lib/python3.6', '/home/vruiz/.pyenv/versions/3.6.3/lib/python3.6/lib-dynload', '/home/vruiz/.pyenv/versions/3.6.3/lib/python3.6/site-packages']\n"
     ]
    }
   ],
   "source": [
    "!python3 -c 'import sys; print(sys.path)'\n",
    "!(export PYTHONPATH=$PYTHONPATH:'/my/new/dir'; python3 -c 'import sys; print(sys.path)')"
   ]
  },
  {
   "cell_type": "code",
   "execution_count": 15,
   "metadata": {},
   "outputs": [
    {
     "data": {
      "text/plain": [
       "['',\n",
       " '/home/vruiz/.pyenv/versions/3.6.3/lib/python36.zip',\n",
       " '/home/vruiz/.pyenv/versions/3.6.3/lib/python3.6',\n",
       " '/home/vruiz/.pyenv/versions/3.6.3/lib/python3.6/lib-dynload',\n",
       " '/home/vruiz/.pyenv/versions/3.6.3/lib/python3.6/site-packages',\n",
       " '/home/vruiz/.pyenv/versions/3.6.3/lib/python3.6/site-packages/IPython/extensions',\n",
       " '/home/vruiz/.ipython']"
      ]
     },
     "execution_count": 15,
     "metadata": {},
     "output_type": "execute_result"
    }
   ],
   "source": [
    "sys.path"
   ]
  },
  {
   "cell_type": "markdown",
   "metadata": {},
   "source": [
    "(... or from Python itself):"
   ]
  },
  {
   "cell_type": "code",
   "execution_count": 16,
   "metadata": {},
   "outputs": [],
   "source": [
    "sys.path.append(\"/my/new/dir\")"
   ]
  },
  {
   "cell_type": "code",
   "execution_count": 17,
   "metadata": {},
   "outputs": [
    {
     "data": {
      "text/plain": [
       "['',\n",
       " '/home/vruiz/.pyenv/versions/3.6.3/lib/python36.zip',\n",
       " '/home/vruiz/.pyenv/versions/3.6.3/lib/python3.6',\n",
       " '/home/vruiz/.pyenv/versions/3.6.3/lib/python3.6/lib-dynload',\n",
       " '/home/vruiz/.pyenv/versions/3.6.3/lib/python3.6/site-packages',\n",
       " '/home/vruiz/.pyenv/versions/3.6.3/lib/python3.6/site-packages/IPython/extensions',\n",
       " '/home/vruiz/.ipython',\n",
       " '/my/new/dir']"
      ]
     },
     "execution_count": 17,
     "metadata": {},
     "output_type": "execute_result"
    }
   ],
   "source": [
    "sys.path"
   ]
  },
  {
   "cell_type": "code",
   "execution_count": null,
   "metadata": {
    "collapsed": true
   },
   "outputs": [],
   "source": []
  }
 ],
 "metadata": {
  "kernelspec": {
   "display_name": "Python 3",
   "language": "python",
   "name": "python3"
  },
  "language_info": {
   "codemirror_mode": {
    "name": "ipython",
    "version": 3
   },
   "file_extension": ".py",
   "mimetype": "text/x-python",
   "name": "python",
   "nbconvert_exporter": "python",
   "pygments_lexer": "ipython3",
   "version": "3.6.3"
  }
 },
 "nbformat": 4,
 "nbformat_minor": 1
}
