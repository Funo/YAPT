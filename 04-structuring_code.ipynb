{
 "cells": [
  {
   "cell_type": "markdown",
   "metadata": {},
   "source": [
    "# Structuring code\n",
    "Python statements (code in general) are usually stored in files. Let's see [how these files can be organized](https://stephensugden.com/crash_into_python/CodeOrganization.html) in the file-system and how to structure this code."
   ]
  },
  {
   "cell_type": "markdown",
   "metadata": {},
   "source": [
    "## 1. [Packages](https://docs.python.org/3/tutorial/modules.html#packages)\n",
    "\n",
    "Packages ([directories](https://en.wikipedia.org/wiki/Directory_%28computing%29)) in the [file system](https://en.wikipedia.org/wiki/File_system) contain modules ([files](https://en.wikipedia.org/wiki/Computer_file)) and other packages (directories). Example:\n",
    "<!--\n",
    "```\n",
    "package1/\n",
    "    __init__.py\n",
    "    module1.py\n",
    "    package2/\n",
    "        __init__.py\n",
    "        module2.py\n",
    "``` -->"
   ]
  },
  {
   "cell_type": "code",
   "execution_count": 2,
   "metadata": {
    "collapsed": false
   },
   "outputs": [
    {
     "name": "stdout",
     "output_type": "stream",
     "text": [
      "\u001b[01;34mpackage1/\u001b[00m\r\n",
      "├── __init__.py\r\n",
      "├── __main__.py\r\n",
      "├── module1.py\r\n",
      "└── \u001b[01;34mpackage2\u001b[00m\r\n",
      "    ├── __init__.py\r\n",
      "    ├── __main__.py\r\n",
      "    └── module2.py\r\n",
      "\r\n",
      "1 directory, 6 files\r\n"
     ]
    }
   ],
   "source": [
    "! tree package1/"
   ]
  },
  {
   "cell_type": "markdown",
   "metadata": {},
   "source": [
    "All packages must have a `__init__.py` (even empty) file. The content of these files are executed when the modules are imported:"
   ]
  },
  {
   "cell_type": "code",
   "execution_count": 10,
   "metadata": {
    "collapsed": false
   },
   "outputs": [
    {
     "name": "stdout",
     "output_type": "stream",
     "text": [
      "print(\"package1/__init__.py executed\")\r\n",
      "from . import module1\r\n",
      "from package1 import package2\r\n",
      "\r\n"
     ]
    }
   ],
   "source": [
    "! cat ./package1/__init__.py"
   ]
  },
  {
   "cell_type": "code",
   "execution_count": 11,
   "metadata": {
    "collapsed": false
   },
   "outputs": [
    {
     "name": "stdout",
     "output_type": "stream",
     "text": [
      "print(\"package1/module1.py executed\")\r\n",
      "a = 1\r\n"
     ]
    }
   ],
   "source": [
    "! cat ./package1/module1.py"
   ]
  },
  {
   "cell_type": "code",
   "execution_count": 12,
   "metadata": {
    "collapsed": false
   },
   "outputs": [
    {
     "name": "stdout",
     "output_type": "stream",
     "text": [
      "print(\"package1/package2/__init__.py excuted\")\r\n",
      "from . import module2\r\n",
      "\r\n"
     ]
    }
   ],
   "source": [
    "! cat ./package1/package2/__init__.py"
   ]
  },
  {
   "cell_type": "code",
   "execution_count": 13,
   "metadata": {
    "collapsed": false
   },
   "outputs": [
    {
     "name": "stdout",
     "output_type": "stream",
     "text": [
      "print(\"package1/package2/module2.py executed\")\r\n",
      "b = 2\r\n",
      "\r\n"
     ]
    }
   ],
   "source": [
    "! cat ./package1/package2/module2.py"
   ]
  },
  {
   "cell_type": "markdown",
   "metadata": {},
   "source": [
    "If we run `package1`:"
   ]
  },
  {
   "cell_type": "code",
   "execution_count": 14,
   "metadata": {
    "collapsed": false
   },
   "outputs": [
    {
     "name": "stdout",
     "output_type": "stream",
     "text": [
      "package1/__init__.py executed\r\n",
      "package1/module1.py executed\r\n",
      "package1/package2/__init__.py excuted\r\n",
      "package1/package2/module2.py executed\r\n"
     ]
    }
   ],
   "source": [
    "! python -c 'import package1'"
   ]
  },
  {
   "cell_type": "markdown",
   "metadata": {},
   "source": [
    "the rest of modules and packages are executed because we specified that in the `__init__.py` file."
   ]
  },
  {
   "cell_type": "markdown",
   "metadata": {},
   "source": [
    "If we execute a subpackage, the parent package is also run:"
   ]
  },
  {
   "cell_type": "code",
   "execution_count": 1,
   "metadata": {
    "collapsed": false
   },
   "outputs": [
    {
     "name": "stdout",
     "output_type": "stream",
     "text": [
      "package1/__init__.py executed\r\n",
      "package1/module1.py executed\r\n",
      "package1/package2/__init__.py excuted\r\n",
      "package1/package2/module2.py executed\r\n"
     ]
    }
   ],
   "source": [
    "! python -c 'import package1.package2'"
   ]
  },
  {
   "cell_type": "markdown",
   "metadata": {},
   "source": [
    "To run a subpackage, it must be invoked without refering his parent package:"
   ]
  },
  {
   "cell_type": "code",
   "execution_count": 3,
   "metadata": {
    "collapsed": false
   },
   "outputs": [
    {
     "name": "stdout",
     "output_type": "stream",
     "text": [
      "package1/package2/__init__.py excuted\r\n",
      "package1/package2/module2.py executed\r\n"
     ]
    }
   ],
   "source": [
    "! (cd ./package1; python -c 'import package2')"
   ]
  },
  {
   "cell_type": "markdown",
   "metadata": {},
   "source": [
    "## 2. [Modules](https://docs.python.org/3/tutorial/modules.html)\n",
    "Modules contain classes, functions, variables and executable statements. Modules can be also imported:"
   ]
  },
  {
   "cell_type": "code",
   "execution_count": 4,
   "metadata": {
    "collapsed": false
   },
   "outputs": [
    {
     "name": "stdout",
     "output_type": "stream",
     "text": [
      "package1/module1.py executed\r\n"
     ]
    }
   ],
   "source": [
    "! (cd ./package1; python -c \"import module1\" )"
   ]
  },
  {
   "cell_type": "markdown",
   "metadata": {},
   "source": [
    "All objects declared in modules are public."
   ]
  },
  {
   "cell_type": "code",
   "execution_count": 5,
   "metadata": {
    "collapsed": false
   },
   "outputs": [
    {
     "name": "stdout",
     "output_type": "stream",
     "text": [
      "package1/module1.py executed\r\n",
      "['__builtins__', '__doc__', '__file__', '__name__', '__package__', 'a']\r\n"
     ]
    }
   ],
   "source": [
    "! (cd ./package1; python -c \"import module1; print(dir(module1))\" )"
   ]
  },
  {
   "cell_type": "code",
   "execution_count": 6,
   "metadata": {
    "collapsed": false
   },
   "outputs": [
    {
     "name": "stdout",
     "output_type": "stream",
     "text": [
      "package1/module1.py executed\r\n",
      "('a =', 1)\r\n"
     ]
    }
   ],
   "source": [
    "! (cd ./package1; python -c \"import module1; print('a =',module1.a)\" )"
   ]
  }
 ],
 "metadata": {
  "kernelspec": {
   "display_name": "Python 3",
   "language": "python",
   "name": "python3"
  },
  "language_info": {
   "codemirror_mode": {
    "name": "ipython",
    "version": 3
   },
   "file_extension": ".py",
   "mimetype": "text/x-python",
   "name": "python",
   "nbconvert_exporter": "python",
   "pygments_lexer": "ipython3",
   "version": "3.6.0"
  }
 },
 "nbformat": 4,
 "nbformat_minor": 1
}
