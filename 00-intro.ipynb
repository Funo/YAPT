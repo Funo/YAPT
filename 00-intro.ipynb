{
 "cells": [
  {
   "cell_type": "markdown",
   "metadata": {},
   "source": [
    "# Introduction to Python"
   ]
  },
  {
   "cell_type": "markdown",
   "metadata": {},
   "source": [
    "## History"
   ]
  },
  {
   "cell_type": "markdown",
   "metadata": {
    "collapsed": false
   },
   "source": [
    "In the late 90s, the computer language [Python](https://www.python.org) was created by the mathematician and computer engineer [Guido van Rossum](https://en.wikipedia.org/wiki/Guido_van_Rossum). The name of *Python* was inspired to Guido by the [Monty Python's Flying Circus](https://en.wikipedia.org/wiki/Monty_Python%27s_Flying_Circus) TV series. Version 1.0 was released in 1994. By counterpart, for example, [C](https://en.wikipedia.org/wiki/C_%28programming_language%29) was created in 1969, [C++](https://en.wikipedia.org/wiki/The_C%2B%2B_Programming_Language) in 1985, [Java](https://en.wikipedia.org/wiki/Java_%28programming_language%29) in 1995, and [R](https://en.wikipedia.org/wiki/R_%28programming_language%29) in 1995."
   ]
  },
  {
   "cell_type": "markdown",
   "metadata": {
    "collapsed": true
   },
   "source": [
    "## Characteristics\n",
    "[Python is a high-level, dynamically typed multiparadigm programming language](http://cs231n.github.io/python-numpy-tutorial/#python)."
   ]
  },
  {
   "cell_type": "markdown",
   "metadata": {},
   "source": [
    "### 1. Closed to humans"
   ]
  },
  {
   "cell_type": "markdown",
   "metadata": {},
   "source": [
    "A Python program is like describing an algorithm in English. This facilitates its learning. For example, this is the implementation of the QuickSort algorithm in some of [the most used programming languages](http://spectrum.ieee.org/computing/software/the-2016-top-programming-languages) (2016's ranking):"
   ]
  },
  {
   "cell_type": "markdown",
   "metadata": {},
   "source": [
    "### C"
   ]
  },
  {
   "cell_type": "code",
   "execution_count": null,
   "metadata": {
    "collapsed": false
   },
   "outputs": [],
   "source": [
    "!cat quicksort.c"
   ]
  },
  {
   "cell_type": "code",
   "execution_count": null,
   "metadata": {
    "collapsed": false
   },
   "outputs": [],
   "source": [
    "!man wc | head"
   ]
  },
  {
   "cell_type": "code",
   "execution_count": null,
   "metadata": {
    "collapsed": false
   },
   "outputs": [],
   "source": [
    "!wc quicksort.c"
   ]
  },
  {
   "cell_type": "markdown",
   "metadata": {},
   "source": [
    "### Java"
   ]
  },
  {
   "cell_type": "code",
   "execution_count": null,
   "metadata": {
    "collapsed": false
   },
   "outputs": [],
   "source": [
    "!cat quicksort.java"
   ]
  },
  {
   "cell_type": "code",
   "execution_count": null,
   "metadata": {
    "collapsed": false
   },
   "outputs": [],
   "source": [
    "!wc quicksort.java"
   ]
  },
  {
   "cell_type": "markdown",
   "metadata": {},
   "source": [
    "### C++"
   ]
  },
  {
   "cell_type": "code",
   "execution_count": null,
   "metadata": {
    "collapsed": false
   },
   "outputs": [],
   "source": [
    "!cat quicksort.cpp"
   ]
  },
  {
   "cell_type": "code",
   "execution_count": null,
   "metadata": {
    "collapsed": false
   },
   "outputs": [],
   "source": [
    "!wc quicksort.cpp"
   ]
  },
  {
   "cell_type": "markdown",
   "metadata": {},
   "source": [
    "### R"
   ]
  },
  {
   "cell_type": "code",
   "execution_count": null,
   "metadata": {
    "collapsed": false
   },
   "outputs": [],
   "source": [
    "! cat quicksort.r"
   ]
  },
  {
   "cell_type": "code",
   "execution_count": null,
   "metadata": {
    "collapsed": false
   },
   "outputs": [],
   "source": [
    "!wc quicksort.r"
   ]
  },
  {
   "cell_type": "markdown",
   "metadata": {},
   "source": [
    "### Python"
   ]
  },
  {
   "cell_type": "code",
   "execution_count": null,
   "metadata": {
    "collapsed": false
   },
   "outputs": [],
   "source": [
    "!cat quicksort.py"
   ]
  },
  {
   "cell_type": "code",
   "execution_count": null,
   "metadata": {
    "collapsed": false
   },
   "outputs": [],
   "source": [
    "!wc quicksort.py"
   ]
  },
  {
   "cell_type": "markdown",
   "metadata": {},
   "source": [
    "### 2. Free and open source"
   ]
  },
  {
   "cell_type": "markdown",
   "metadata": {},
   "source": [
    "No one will ask you for money if you use Python. Python is a open source project created by the community to be used by the community."
   ]
  },
  {
   "cell_type": "markdown",
   "metadata": {},
   "source": [
    "### 3. Portable"
   ]
  },
  {
   "cell_type": "markdown",
   "metadata": {},
   "source": [
    "Python is interpreted (usually). Python interpreters run almost [anywhere](https://python.swaroopch.com/about_python.html) (GNU/Linux, Windows, FreeBSD, Macintosh, Solaris, OS/2, Amiga, AROS, AS/400, BeOS, OS/390, z/OS, Palm OS, QNX, VMS, Psion, Acorn RISC OS, VxWorks, PlayStation, Sharp Zaurus, Windows CE and PocketPC)."
   ]
  },
  {
   "cell_type": "markdown",
   "metadata": {},
   "source": [
    "### 4. Extensible"
   ]
  },
  {
   "cell_type": "markdown",
   "metadata": {},
   "source": [
    "As other computer language interpreters, Python is slower than most compiled languages. However, you can use C or C++ for those critical parts of your code that need to be speed up."
   ]
  },
  {
   "cell_type": "markdown",
   "metadata": {},
   "source": [
    "### 5. Libraries for almost everything"
   ]
  },
  {
   "cell_type": "markdown",
   "metadata": {},
   "source": [
    "The [Python Standard Library](https://docs.python.org/3/library/) includes stuff for working with:\n",
    "1. Integers, real, rational and complex numbers, strings, etc.\n",
    "2. Data structures such as arrays, tuples, lists, dictionaries, etc.\n",
    "3. Random numbers.\n",
    "4. Statistics.\n",
    "5. Functional programming.\n",
    "6. File systems.\n",
    "7. Databases.\n",
    "8. Data compression.\n",
    "9. Parsers.\n",
    "10. Cryptography.\n",
    "11. Operating system scripting and services control.\n",
    "12. Multiprocessing.\n",
    "13. Networking and protocols.\n",
    "14. Multimedia.\n",
    "15. Graphical user interfaces.\n",
    "\n",
    "In addition, thousands of external [*packages*](http://www.network-theory.co.uk/docs/pytut/Packages.html) has been developed. Some [examples](https://wiki.python.org/moin/UsefulModules):\n",
    "\n",
    "1. [Game development](http://www.pygame.org/hifi.html).\n",
    "2. [Computer vision](http://docs.opencv.org/3.0-beta/doc/py_tutorials/py_tutorials.html).\n",
    "3. [Scientific computation](https://www.scipy.org/)."
   ]
  }
 ],
 "metadata": {
  "kernelspec": {
   "display_name": "Python 3",
   "language": "python",
   "name": "python3"
  },
  "language_info": {
   "codemirror_mode": {
    "name": "ipython",
    "version": 3
   },
   "file_extension": ".py",
   "mimetype": "text/x-python",
   "name": "python",
   "nbconvert_exporter": "python",
   "pygments_lexer": "ipython3",
   "version": "3.6.0"
  }
 },
 "nbformat": 4,
 "nbformat_minor": 1
}
