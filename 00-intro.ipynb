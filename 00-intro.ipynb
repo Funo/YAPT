{
 "cells": [
  {
   "cell_type": "markdown",
   "metadata": {},
   "source": [
    "# Introduction to Python"
   ]
  },
  {
   "cell_type": "markdown",
   "metadata": {},
   "source": [
    "## History"
   ]
  },
  {
   "cell_type": "markdown",
   "metadata": {
    "collapsed": false
   },
   "source": [
    "In the late 90s, the computer language [Python](https://www.python.org) was created by the mathematician and computer engineer [Guido van Rossum](https://en.wikipedia.org/wiki/Guido_van_Rossum). The name of *Python* was inspired to Guido by the [Monty Python's Flying Circus](https://en.wikipedia.org/wiki/Monty_Python%27s_Flying_Circus) TV series. Version 1.0 was released in 1994."
   ]
  },
  {
   "cell_type": "markdown",
   "metadata": {
    "collapsed": true
   },
   "source": [
    "## Characteristics\n",
    "[Python is a high-level, dynamically typed multiparadigm programming language](http://cs231n.github.io/python-numpy-tutorial/#python)."
   ]
  },
  {
   "cell_type": "markdown",
   "metadata": {},
   "source": [
    "### Closed to humans"
   ]
  },
  {
   "cell_type": "markdown",
   "metadata": {},
   "source": [
    "A Python program is like describing an algorithm in English. This facilitates its learning. For example, this is the implementation of the QuickSort algorithm in some of [the most used programming languages](http://spectrum.ieee.org/computing/software/the-2016-top-programming-languages) (2016's ranking):"
   ]
  },
  {
   "cell_type": "markdown",
   "metadata": {},
   "source": [
    "### C"
   ]
  },
  {
   "cell_type": "markdown",
   "metadata": {},
   "source": [
    "```\n",
    "// http://www.comp.dit.ie/rlawlor/Alg_DS/sorting/quickSort.c\n",
    "\n",
    "#include <stdio.h>\n",
    "\n",
    "void quickSort( int[], int, int);\n",
    "int partition( int[], int, int);\n",
    "\n",
    "void main() \n",
    "{\n",
    "\tint a[] = { 7, 12, 1, -2, 0, 15, 4, 11, 9};\n",
    "\n",
    "\tint i;\n",
    "\tprintf(\"\\n\\nUnsorted array is:  \");\n",
    "\tfor(i = 0; i < 9; ++i)\n",
    "\t\tprintf(\" %d \", a[i]);\n",
    "\n",
    "\tquickSort( a, 0, 8);\n",
    "\n",
    "\tprintf(\"\\n\\nSorted array is:  \");\n",
    "\tfor(i = 0; i < 9; ++i)\n",
    "\t\tprintf(\" %d \", a[i]);\n",
    "\n",
    "}\n",
    "\n",
    "void quickSort( int a[], int l, int r)\n",
    "{\n",
    "   int j;\n",
    "\n",
    "   if( l < r ) \n",
    "   {\n",
    "   \t// divide and conquer\n",
    "        j = partition( a, l, r);\n",
    "       quickSort( a, l, j-1);\n",
    "       quickSort( a, j+1, r);\n",
    "   }\n",
    "\t\n",
    "}\n",
    "\n",
    "int partition( int a[], int l, int r) {\n",
    "   int pivot, i, j, t;\n",
    "   pivot = a[l];\n",
    "   i = l; j = r+1;\n",
    "\t\t\n",
    "   while( 1)\n",
    "   {\n",
    "   \tdo ++i; while( a[i] <= pivot && i <= r );\n",
    "   \tdo --j; while( a[j] > pivot );\n",
    "   \tif( i >= j ) break;\n",
    "   \tt = a[i]; a[i] = a[j]; a[j] = t;\n",
    "   }\n",
    "   t = a[l]; a[l] = a[j]; a[j] = t;\n",
    "   return j;\n",
    "}\n",
    "```"
   ]
  },
  {
   "cell_type": "markdown",
   "metadata": {},
   "source": [
    "### Java"
   ]
  },
  {
   "cell_type": "markdown",
   "metadata": {},
   "source": [
    "```\n",
    "// http://www.java2novice.com/java-sorting-algorithms/quick-sort/\n",
    "\n",
    "package com.java2novice.sorting;\n",
    "\n",
    "public class MyQuickSort {\n",
    "\t\n",
    "\tprivate int array[];\n",
    "\tprivate int length;\n",
    "\n",
    "\tpublic void sort(int[] inputArr) {\n",
    "\t\t\n",
    "\t\tif (inputArr == null || inputArr.length == 0) {\n",
    "\t\t\treturn;\n",
    "\t\t}\n",
    "\t\tthis.array = inputArr;\n",
    "\t\tlength = inputArr.length;\n",
    "\t\tquickSort(0, length - 1);\n",
    "\t}\n",
    "\n",
    "\tprivate void quickSort(int lowerIndex, int higherIndex) {\n",
    "\t\t\n",
    "\t\tint i = lowerIndex;\n",
    "\t\tint j = higherIndex;\n",
    "\t\t// calculate pivot number, I am taking pivot as middle index number\n",
    "\t\tint pivot = array[lowerIndex+(higherIndex-lowerIndex)/2];\n",
    "\t\t// Divide into two arrays\n",
    "\t\twhile (i <= j) {\n",
    "\t\t\t/**\n",
    "\t\t\t * In each iteration, we will identify a number from left side which \n",
    "\t\t\t * is greater then the pivot value, and also we will identify a number \n",
    "\t\t\t * from right side which is less then the pivot value. Once the search \n",
    "\t\t\t * is done, then we exchange both numbers.\n",
    "\t\t\t */\n",
    "\t\t\twhile (array[i] < pivot) {\n",
    "\t\t\t\ti++;\n",
    "\t\t\t}\n",
    "\t\t\twhile (array[j] > pivot) {\n",
    "\t\t\t\tj--;\n",
    "\t\t\t}\n",
    "\t\t\tif (i <= j) {\n",
    "\t\t\t\texchangeNumbers(i, j);\n",
    "\t\t\t\t//move index to next position on both sides\n",
    "\t\t\t\ti++;\n",
    "\t\t\t\tj--;\n",
    "\t\t\t}\n",
    "\t\t}\n",
    "\t\t// call quickSort() method recursively\n",
    "\t\tif (lowerIndex < j)\n",
    "\t\t\tquickSort(lowerIndex, j);\n",
    "\t\tif (i < higherIndex)\n",
    "\t\t\tquickSort(i, higherIndex);\n",
    "\t}\n",
    "\n",
    "\tprivate void exchangeNumbers(int i, int j) {\n",
    "\t\tint temp = array[i];\n",
    "\t\tarray[i] = array[j];\n",
    "\t\tarray[j] = temp;\n",
    "\t}\n",
    "\t\n",
    "\tpublic static void main(String a[]){\n",
    "\t\t\n",
    "\t\tMyQuickSort sorter = new MyQuickSort();\n",
    "\t    int[] input = {24,2,45,20,56,75,2,56,99,53,12};\n",
    "\t    sorter.sort(input);\n",
    "\t    for(int i:input){\n",
    "\t    \tSystem.out.print(i);\n",
    "\t    \tSystem.out.print(\" \");\n",
    "\t    }\n",
    "\t}\n",
    "}\n",
    "```"
   ]
  },
  {
   "cell_type": "markdown",
   "metadata": {},
   "source": [
    "### Python"
   ]
  },
  {
   "cell_type": "markdown",
   "metadata": {},
   "source": [
    "```\n",
    "# http://cs231n.github.io/python-numpy-tutorial/#python\n",
    "\n",
    "def quicksort(arr):\n",
    "    if len(arr) <= 1:\n",
    "        return arr\n",
    "    pivot = arr[len(arr) / 2]\n",
    "    left = [x for x in arr if x < pivot]\n",
    "    middle = [x for x in arr if x == pivot]\n",
    "    right = [x for x in arr if x > pivot]\n",
    "    return quicksort(left) + middle + quicksort(right)\n",
    "    \n",
    "print quicksort([3,6,8,10,1,2,1])\n",
    "```"
   ]
  },
  {
   "cell_type": "markdown",
   "metadata": {},
   "source": [
    "### C++"
   ]
  },
  {
   "cell_type": "markdown",
   "metadata": {},
   "source": [
    "```\n",
    "# http://codereview.stackexchange.com/questions/77782/quick-sort-implementation\n",
    "\n",
    "#include <iostream>\n",
    "using namespace std;\n",
    "\n",
    "void print(int *a, int n)\n",
    "{\n",
    "    int i=0;\n",
    "    while(i<n){\n",
    "        cout<<a[i]<<\",\";\n",
    "        i++;\n",
    "    }\n",
    "}\n",
    "\n",
    "void swap(int i,int j, int *a){\n",
    "    int temp = a[i];\n",
    "    a[i] = a[j];\n",
    "    a[j] = temp;\n",
    "}\n",
    "\n",
    "\n",
    "void quicksort(int *arr, int left, int right){\n",
    "    int min = (left+right)/2;\n",
    "    cout<<\"QS:\"<<left<<\",\"<<right<<\"\\n\";\n",
    "\n",
    "    int i = left;\n",
    "    int j = right;\n",
    "    int pivot = arr[min];\n",
    "\n",
    "    while(left<j || i<right)\n",
    "    {\n",
    "        while(arr[i]<pivot)\n",
    "        i++;\n",
    "        while(arr[j]>pivot)\n",
    "        j--;\n",
    "\n",
    "        if(i<=j){\n",
    "            swap(i,j,arr);\n",
    "            i++;\n",
    "            j--;\n",
    "        }\n",
    "        else{\n",
    "            if(left<j)\n",
    "                quicksort(arr, left, j);\n",
    "            if(i<right)\n",
    "                quicksort(arr,i,right);\n",
    "            return;\n",
    "        }\n",
    "    }\n",
    "}\n",
    "\n",
    "\n",
    "int main() {\n",
    "    int arr[8] = {110, 5, 10,3 ,22, 100, 1, 23};\n",
    "    quicksort(arr, 0, (sizeof(arr)/sizeof(arr[0]))-1);\n",
    "    print(arr, (sizeof(arr)/sizeof(arr[0])));\n",
    "    return 0;\n",
    "}\n",
    "```"
   ]
  },
  {
   "cell_type": "markdown",
   "metadata": {},
   "source": [
    "### R"
   ]
  },
  {
   "cell_type": "markdown",
   "metadata": {},
   "source": [
    "```\n",
    "# http://www.jason-french.com/blog/2014/07/26/recursion-in-r/\n",
    "\n",
    "#!/usr/bin/env Rscript\n",
    "# Author:  Jason A. French\n",
    "\n",
    "quickSort <- function(vect) {\n",
    "  # Args:\n",
    "  #  vect: Numeric Vector\n",
    "  \n",
    "  # Stop if vector has length of 1\n",
    "  if (length(vect) <= 1) {\n",
    "      return(vect)\n",
    "  }\n",
    "  # Pick an element from the vector\n",
    "  element <- vect[1]\n",
    "  partition <- vect[-1]\n",
    "  # Reorder vector so that integers less than element\n",
    "  # come before, and all integers greater come after.\n",
    "  v1 <- partition[partition < element]\n",
    "  v2 <- partition[partition >= element]\n",
    "  # Recursively apply steps to smaller vectors.\n",
    "  v1 <- quickSort(v1)\n",
    "  v2 <- quickSort(v2)\n",
    "  return(c(v1, element, v2))\n",
    "}\n",
    "\n",
    "quickSort(c(4, 65, 2, -31, 0, 99, 83, 782, 1))\n",
    "```"
   ]
  },
  {
   "cell_type": "markdown",
   "metadata": {},
   "source": [
    "### Free and open source"
   ]
  },
  {
   "cell_type": "markdown",
   "metadata": {},
   "source": [
    "No one will ask you for money for using Python. Python is a open source project created by the community to be used by the community ... and you are part of the community now."
   ]
  },
  {
   "cell_type": "markdown",
   "metadata": {},
   "source": [
    "### Portable"
   ]
  },
  {
   "cell_type": "markdown",
   "metadata": {},
   "source": [
    "Python is interpreted (usually). Python interpreters run almost [anywhere](https://python.swaroopch.com/about_python.html) (GNU/Linux, Windows, FreeBSD, Macintosh, Solaris, OS/2, Amiga, AROS, AS/400, BeOS, OS/390, z/OS, Palm OS, QNX, VMS, Psion, Acorn RISC OS, VxWorks, PlayStation, Sharp Zaurus, Windows CE and PocketPC)."
   ]
  },
  {
   "cell_type": "markdown",
   "metadata": {},
   "source": [
    "### Extensible"
   ]
  },
  {
   "cell_type": "markdown",
   "metadata": {},
   "source": [
    "As other computer language interpreters, Python is slower than most compiled languages. However, you can use C or C++ for those critical parts of your code that need to be speed up."
   ]
  },
  {
   "cell_type": "markdown",
   "metadata": {},
   "source": [
    "### Libraries for almost everything"
   ]
  },
  {
   "cell_type": "markdown",
   "metadata": {},
   "source": [
    "The [Python Standard Library](https://docs.python.org/3/library/) includes stuff for working with:\n",
    "1. Integers, real, rational and complex numbers, strings, etc.\n",
    "2. Data structures such as arrays, tuples, lists, dictionaries, etc.\n",
    "3. Random numbers.\n",
    "4. Statistics.\n",
    "5. Functional programming.\n",
    "6. File systems.\n",
    "7. Databases.\n",
    "8. Data compression.\n",
    "9. Parsers.\n",
    "10. Cryptography.\n",
    "11. Operating system scripting and services control.\n",
    "12. Multiprocessing.\n",
    "13. Networking and protocols.\n",
    "14. Multimedia.\n",
    "15. Graphical user interfaces.\n",
    "\n",
    "In addition, thousands of [*external* modules](https://wiki.python.org/moin/UsefulModules) (or packages) has been developed. Some examples:\n",
    "\n",
    "1. [Game development](http://www.pygame.org/hifi.html).\n",
    "2. [Computer vision](http://docs.opencv.org/3.0-beta/doc/py_tutorials/py_tutorials.html).\n",
    "3. [Scientific computation](https://www.scipy.org/)."
   ]
  },
  {
   "cell_type": "markdown",
   "metadata": {},
   "source": [
    "## Installation"
   ]
  },
  {
   "cell_type": "markdown",
   "metadata": {},
   "source": [
    "### Windows"
   ]
  },
  {
   "cell_type": "markdown",
   "metadata": {},
   "source": [
    "Download Python from [https://www.python.org/downloads/](https://www.python.org/downloads/) and remember to select the option \"`Add Python to PATH`\"."
   ]
  },
  {
   "cell_type": "markdown",
   "metadata": {},
   "source": [
    "### Mac OS X"
   ]
  },
  {
   "cell_type": "markdown",
   "metadata": {},
   "source": [
    "Install [Homebrew](http://brew.sh/) and run \"`brew install python3`\"."
   ]
  },
  {
   "cell_type": "markdown",
   "metadata": {},
   "source": [
    "### Debian"
   ]
  },
  {
   "cell_type": "markdown",
   "metadata": {},
   "source": [
    "Run \"`sudo apt-get update && sudo apt-get install python3`\"."
   ]
  },
  {
   "cell_type": "markdown",
   "metadata": {},
   "source": [
    "### Arch"
   ]
  },
  {
   "cell_type": "markdown",
   "metadata": {},
   "source": [
    "Run \"`sudo pacman -Sy && sudo pacman -S python`\"."
   ]
  },
  {
   "cell_type": "code",
   "execution_count": null,
   "metadata": {
    "collapsed": true
   },
   "outputs": [],
   "source": []
  }
 ],
 "metadata": {
  "kernelspec": {
   "display_name": "Python 3",
   "language": "python",
   "name": "python3"
  },
  "language_info": {
   "codemirror_mode": {
    "name": "ipython",
    "version": 3
   },
   "file_extension": ".py",
   "mimetype": "text/x-python",
   "name": "python",
   "nbconvert_exporter": "python",
   "pygments_lexer": "ipython3",
   "version": "3.5.2"
  }
 },
 "nbformat": 4,
 "nbformat_minor": 1
}
