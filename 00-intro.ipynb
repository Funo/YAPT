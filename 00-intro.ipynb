{
 "cells": [
  {
   "cell_type": "markdown",
   "metadata": {},
   "source": [
    "# [0] Introducing Python"
   ]
  },
  {
   "cell_type": "markdown",
   "metadata": {},
   "source": [
    "## History"
   ]
  },
  {
   "cell_type": "markdown",
   "metadata": {},
   "source": [
    "In the late 90s, the computer language [Python](https://www.python.org) was created by the mathematician and computer engineer [Guido van Rossum](https://en.wikipedia.org/wiki/Guido_van_Rossum). The name of *Python* was inspired to Guido by the [Monty Python's Flying Circus](https://en.wikipedia.org/wiki/Monty_Python%27s_Flying_Circus) TV series. Version 1.0 was released in 1994. By counterpart, for example, [C](https://en.wikipedia.org/wiki/C_%28programming_language%29) was created in 1969, [C++](https://en.wikipedia.org/wiki/The_C%2B%2B_Programming_Language) in 1985, [Java](https://en.wikipedia.org/wiki/Java_%28programming_language%29) in 1995, and [R](https://en.wikipedia.org/wiki/R_%28programming_language%29) in 1995."
   ]
  },
  {
   "cell_type": "markdown",
   "metadata": {
    "collapsed": true
   },
   "source": [
    "## Characteristics\n",
    "[Python is a high-level, dynamically typed multiparadigm programming language](http://cs231n.github.io/python-numpy-tutorial/#python)."
   ]
  },
  {
   "cell_type": "markdown",
   "metadata": {},
   "source": [
    "### 1. Closed to humans"
   ]
  },
  {
   "cell_type": "markdown",
   "metadata": {},
   "source": [
    "A Python program is like describing an algorithm in English. This facilitates its learning. For example, this is the implementation of the QuickSort algorithm in some of [the most used programming languages](http://spectrum.ieee.org/computing/software/the-2016-top-programming-languages) (2016's ranking):"
   ]
  },
  {
   "cell_type": "markdown",
   "metadata": {},
   "source": [
    "### C"
   ]
  },
  {
   "cell_type": "code",
   "execution_count": null,
   "metadata": {},
   "outputs": [],
   "source": [
    "# %load quicksort.c\n",
    "// http://www.comp.dit.ie/rlawlor/Alg_DS/sorting/quickSort.c\n",
    "\n",
    "#include <stdio.h>\n",
    "\n",
    "void quickSort( int[], int, int);\n",
    "int partition( int[], int, int);\n",
    "\n",
    "void main() \n",
    "{\n",
    "    int a[] = { 7, 12, 1, -2, 0, 15, 4, 11, 9};\n",
    "\n",
    "    int i;\n",
    "    printf(\"\\n\\nUnsorted array is:  \");\n",
    "    for(i = 0; i < 9; ++i)\n",
    "        printf(\" %d \", a[i]);\n",
    "\n",
    "    quickSort( a, 0, 8);\n",
    "\n",
    "    printf(\"\\n\\nSorted array is:  \");\n",
    "    for(i = 0; i < 9; ++i)\n",
    "        printf(\" %d \", a[i]);\n",
    "\n",
    "}\n",
    "\n",
    "void quickSort( int a[], int l, int r)\n",
    "{\n",
    "   int j;\n",
    "\n",
    "   if( l < r ) \n",
    "   {\n",
    "       // divide and conquer\n",
    "        j = partition( a, l, r);\n",
    "       quickSort( a, l, j-1);\n",
    "       quickSort( a, j+1, r);\n",
    "   }\n",
    "\n",
    "}\n",
    "\n",
    "int partition( int a[], int l, int r) {\n",
    "   int pivot, i, j, t;\n",
    "   pivot = a[l];\n",
    "   i = l; j = r+1;\n",
    "\n",
    "   while( 1)\n",
    "   {\n",
    "       do ++i; while( a[i] <= pivot && i <= r );\n",
    "       do --j; while( a[j] > pivot );\n",
    "       if( i >= j ) break;\n",
    "       t = a[i]; a[i] = a[j]; a[j] = t;\n",
    "   }\n",
    "   t = a[l]; a[l] = a[j]; a[j] = t;\n",
    "   return j;\n",
    "}\n"
   ]
  },
  {
   "cell_type": "markdown",
   "metadata": {},
   "source": [
    "### Java"
   ]
  },
  {
   "cell_type": "code",
   "execution_count": null,
   "metadata": {},
   "outputs": [],
   "source": [
    "# %load quicksort.java\n",
    "// http://www.java2novice.com/java-sorting-algorithms/quick-sort/\n",
    "\n",
    "package com.java2novice.sorting;\n",
    "\n",
    "public class MyQuickSort {\n",
    "\n",
    "    private int array[];\n",
    "    private int length;\n",
    "\n",
    "    public void sort(int[] inputArr) {\n",
    "\n",
    "        if (inputArr == null || inputArr.length == 0) {\n",
    "            return;\n",
    "        }\n",
    "        this.array = inputArr;\n",
    "        length = inputArr.length;\n",
    "        quickSort(0, length - 1);\n",
    "    }\n",
    "\n",
    "    private void quickSort(int lowerIndex, int higherIndex) {\n",
    "\n",
    "        int i = lowerIndex;\n",
    "        int j = higherIndex;\n",
    "        // calculate pivot number, I am taking pivot as middle index number\n",
    "        int pivot = array[lowerIndex+(higherIndex-lowerIndex)/2];\n",
    "        // Divide into two arrays\n",
    "        while (i <= j) {\n",
    "            /**\n",
    "             * In each iteration, we will identify a number from left side which \n",
    "             * is greater then the pivot value, and also we will identify a number \n",
    "             * from right side which is less then the pivot value. Once the search \n",
    "             * is done, then we exchange both numbers.\n",
    "             */\n",
    "            while (array[i] < pivot) {\n",
    "                i++;\n",
    "            }\n",
    "            while (array[j] > pivot) {\n",
    "                j--;\n",
    "            }\n",
    "            if (i <= j) {\n",
    "                exchangeNumbers(i, j);\n",
    "                //move index to next position on both sides\n",
    "                i++;\n",
    "                j--;\n",
    "            }\n",
    "        }\n",
    "        // call quickSort() method recursively\n",
    "        if (lowerIndex < j)\n",
    "            quickSort(lowerIndex, j);\n",
    "        if (i < higherIndex)\n",
    "            quickSort(i, higherIndex);\n",
    "    }\n",
    "\n",
    "    private void exchangeNumbers(int i, int j) {\n",
    "        int temp = array[i];\n",
    "        array[i] = array[j];\n",
    "        array[j] = temp;\n",
    "    }\n",
    "\n",
    "    public static void main(String a[]){\n",
    "\n",
    "        MyQuickSort sorter = new MyQuickSort();\n",
    "        int[] input = {24,2,45,20,56,75,2,56,99,53,12};\n",
    "        sorter.sort(input);\n",
    "        for(int i:input){\n",
    "            System.out.print(i);\n",
    "            System.out.print(\" \");\n",
    "        }\n",
    "    }\n",
    "}\n",
    "\n"
   ]
  },
  {
   "cell_type": "markdown",
   "metadata": {},
   "source": [
    "### C++"
   ]
  },
  {
   "cell_type": "code",
   "execution_count": null,
   "metadata": {},
   "outputs": [],
   "source": [
    "# %load quicksort.cpp\n",
    "# http://codereview.stackexchange.com/questions/77782/quick-sort-implementation\n",
    "\n",
    "#include <iostream>\n",
    "using namespace std;\n",
    "\n",
    "void print(int *a, int n)\n",
    "{\n",
    "    int i=0;\n",
    "    while(i<n){\n",
    "        cout<<a[i]<<\",\";\n",
    "        i++;\n",
    "    }\n",
    "}\n",
    "\n",
    "void swap(int i,int j, int *a){\n",
    "    int temp = a[i];\n",
    "    a[i] = a[j];\n",
    "    a[j] = temp;\n",
    "}\n",
    "\n",
    "\n",
    "void quicksort(int *arr, int left, int right){\n",
    "    int min = (left+right)/2;\n",
    "    cout<<\"QS:\"<<left<<\",\"<<right<<\"\\n\";\n",
    "\n",
    "    int i = left;\n",
    "    int j = right;\n",
    "    int pivot = arr[min];\n",
    "\n",
    "    while(left<j || i<right)\n",
    "    {\n",
    "        while(arr[i]<pivot)\n",
    "        i++;\n",
    "        while(arr[j]>pivot)\n",
    "        j--;\n",
    "\n",
    "        if(i<=j){\n",
    "            swap(i,j,arr);\n",
    "            i++;\n",
    "            j--;\n",
    "        }\n",
    "        else{\n",
    "            if(left<j)\n",
    "                quicksort(arr, left, j);\n",
    "            if(i<right)\n",
    "                quicksort(arr,i,right);\n",
    "            return;\n",
    "        }\n",
    "    }\n",
    "}\n",
    "\n",
    "\n",
    "int main() {\n",
    "    int arr[8] = {110, 5, 10,3 ,22, 100, 1, 23};\n",
    "    quicksort(arr, 0, (sizeof(arr)/sizeof(arr[0]))-1);\n",
    "    print(arr, (sizeof(arr)/sizeof(arr[0])));\n",
    "    return 0;\n",
    "}\n"
   ]
  },
  {
   "cell_type": "markdown",
   "metadata": {},
   "source": [
    "### R"
   ]
  },
  {
   "cell_type": "code",
   "execution_count": null,
   "metadata": {},
   "outputs": [],
   "source": [
    "# %load quicksort.r\n",
    "# http://www.jason-french.com/blog/2014/07/26/recursion-in-r/\n",
    "\n",
    "#!/usr/bin/env Rscript\n",
    "# Author:  Jason A. French\n",
    "\n",
    "quickSort <- function(vect) {\n",
    "  # Args:\n",
    "  #  vect: Numeric Vector\n",
    "\n",
    "  # Stop if vector has length of 1\n",
    "  if (length(vect) <= 1) {\n",
    "      return(vect)\n",
    "  }\n",
    "  # Pick an element from the vector\n",
    "  element <- vect[1]\n",
    "  partition <- vect[-1]\n",
    "  # Reorder vector so that integers less than element\n",
    "  # come before, and all integers greater come after.\n",
    "  v1 <- partition[partition < element]\n",
    "  v2 <- partition[partition >= element]\n",
    "  # Recursively apply steps to smaller vectors.\n",
    "  v1 <- quickSort(v1)\n",
    "  v2 <- quickSort(v2)\n",
    "  return(c(v1, element, v2))\n",
    "}\n",
    "\n",
    "quickSort(c(4, 65, 2, -31, 0, 99, 83, 782, 1))\n"
   ]
  },
  {
   "cell_type": "markdown",
   "metadata": {},
   "source": [
    "### Python"
   ]
  },
  {
   "cell_type": "code",
   "execution_count": null,
   "metadata": {},
   "outputs": [],
   "source": [
    "# %load quicksort.py\n",
    "# http://cs231n.github.io/python-numpy-tutorial/#python\n",
    "\n",
    "def quicksort(arr):\n",
    "    if len(arr) <= 1:\n",
    "        return arr\n",
    "    pivot = arr[len(arr) // 2]\n",
    "    left = [x for x in arr if x < pivot]\n",
    "    middle = [x for x in arr if x == pivot]\n",
    "    right = [x for x in arr if x > pivot]\n",
    "    return quicksort(left) + middle + quicksort(right)\n",
    "\n",
    "print(quicksort([3,6,8,10,1,2,1]))\n"
   ]
  },
  {
   "cell_type": "markdown",
   "metadata": {},
   "source": [
    "### 2. Free and open source"
   ]
  },
  {
   "cell_type": "markdown",
   "metadata": {},
   "source": [
    "No one will ask you for money if you use Python. Python is a open source project created by the community to be used by the community."
   ]
  },
  {
   "cell_type": "markdown",
   "metadata": {},
   "source": [
    "### 3. Portable"
   ]
  },
  {
   "cell_type": "markdown",
   "metadata": {},
   "source": [
    "Python is interpreted (usually). Python interpreters run almost [anywhere](https://python.swaroopch.com/about_python.html) (GNU/Linux, Windows, FreeBSD, Macintosh, Solaris, OS/2, Amiga, AROS, AS/400, BeOS, OS/390, z/OS, Palm OS, QNX, VMS, Psion, Acorn RISC OS, VxWorks, PlayStation, Sharp Zaurus, Windows CE and PocketPC)."
   ]
  },
  {
   "cell_type": "markdown",
   "metadata": {},
   "source": [
    "### 4. Extensible"
   ]
  },
  {
   "cell_type": "markdown",
   "metadata": {},
   "source": [
    "As other computer language interpreters, Python is slower than most compiled languages. However, you can use C or C++ for those critical parts of your code that need to be speed up."
   ]
  },
  {
   "cell_type": "markdown",
   "metadata": {},
   "source": [
    "### 5. Libraries for almost everything"
   ]
  },
  {
   "cell_type": "markdown",
   "metadata": {},
   "source": [
    "The [Python Standard Library](https://docs.python.org/3/library/) includes stuff for working with:\n",
    "1. Integers, real, rational and complex numbers, strings, etc.\n",
    "2. Data structures such as arrays, tuples, lists, dictionaries, etc.\n",
    "3. Random numbers.\n",
    "4. Statistics.\n",
    "5. Functional programming.\n",
    "6. File systems.\n",
    "7. Databases.\n",
    "8. Data compression.\n",
    "9. Parsers.\n",
    "10. Cryptography.\n",
    "11. Operating system scripting and services control.\n",
    "12. Multiprocessing.\n",
    "13. Networking and protocols.\n",
    "14. Multimedia.\n",
    "15. Graphical user interfaces.\n",
    "\n",
    "In addition, thousands of external [*packages*](http://www.network-theory.co.uk/docs/pytut/Packages.html) has been developed. Some [examples](https://wiki.python.org/moin/UsefulModules):\n",
    "\n",
    "1. [Game development](http://www.pygame.org/hifi.html).\n",
    "2. [Computer vision](http://docs.opencv.org/3.0-beta/doc/py_tutorials/py_tutorials.html).\n",
    "3. [Scientific computation](https://www.scipy.org/)."
   ]
  }
 ],
 "metadata": {
  "kernelspec": {
   "display_name": "Python 3",
   "language": "python",
   "name": "python3"
  },
  "language_info": {
   "codemirror_mode": {
    "name": "ipython",
    "version": 3
   },
   "file_extension": ".py",
   "mimetype": "text/x-python",
   "name": "python",
   "nbconvert_exporter": "python",
   "pygments_lexer": "ipython3",
   "version": "3.6.1"
  }
 },
 "nbformat": 4,
 "nbformat_minor": 1
}
