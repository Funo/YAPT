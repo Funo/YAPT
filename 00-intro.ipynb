{
 "cells": [
  {
   "cell_type": "markdown",
   "metadata": {},
   "source": [
    "# Introduction to Python"
   ]
  },
  {
   "cell_type": "markdown",
   "metadata": {},
   "source": [
    "## History"
   ]
  },
  {
   "cell_type": "markdown",
   "metadata": {
    "collapsed": false
   },
   "source": [
    "In the late 90s, the computer language [Python](https://www.python.org) was created by the mathematician and computer engineer [Guido van Rossum](https://en.wikipedia.org/wiki/Guido_van_Rossum). The name of *Python* was inspired to Guido by the [Monty Python's Flying Circus](https://en.wikipedia.org/wiki/Monty_Python%27s_Flying_Circus) TV series. Version 1.0 was released in 1994. By counterpart, for example, [C](https://en.wikipedia.org/wiki/C_%28programming_language%29) was created in 1969, [C++](https://en.wikipedia.org/wiki/The_C%2B%2B_Programming_Language) in 1985, [Java](https://en.wikipedia.org/wiki/Java_%28programming_language%29) in 1995, and [R](https://en.wikipedia.org/wiki/R_%28programming_language%29) in 1995."
   ]
  },
  {
   "cell_type": "markdown",
   "metadata": {
    "collapsed": true
   },
   "source": [
    "## Characteristics\n",
    "[Python is a high-level, dynamically typed multiparadigm programming language](http://cs231n.github.io/python-numpy-tutorial/#python)."
   ]
  },
  {
   "cell_type": "markdown",
   "metadata": {},
   "source": [
    "### 1. Closed to humans"
   ]
  },
  {
   "cell_type": "markdown",
   "metadata": {},
   "source": [
    "A Python program is like describing an algorithm in English. This facilitates its learning. For example, this is the implementation of the QuickSort algorithm in some of [the most used programming languages](http://spectrum.ieee.org/computing/software/the-2016-top-programming-languages) (2016's ranking):"
   ]
  },
  {
   "cell_type": "markdown",
   "metadata": {},
   "source": [
    "### C"
   ]
  },
  {
   "cell_type": "code",
   "execution_count": 1,
   "metadata": {
    "collapsed": false
   },
   "outputs": [
    {
     "name": "stdout",
     "output_type": "stream",
     "text": [
      "// http://www.comp.dit.ie/rlawlor/Alg_DS/sorting/quickSort.c\r\n",
      "\r\n",
      "#include <stdio.h>\r\n",
      "\r\n",
      "void quickSort( int[], int, int);\r\n",
      "int partition( int[], int, int);\r\n",
      "\r\n",
      "void main() \r\n",
      "{\r\n",
      "    int a[] = { 7, 12, 1, -2, 0, 15, 4, 11, 9};\r\n",
      "\r\n",
      "    int i;\r\n",
      "    printf(\"\\n\\nUnsorted array is:  \");\r\n",
      "    for(i = 0; i < 9; ++i)\r\n",
      "        printf(\" %d \", a[i]);\r\n",
      "\r\n",
      "    quickSort( a, 0, 8);\r\n",
      "\r\n",
      "    printf(\"\\n\\nSorted array is:  \");\r\n",
      "    for(i = 0; i < 9; ++i)\r\n",
      "        printf(\" %d \", a[i]);\r\n",
      "\r\n",
      "}\r\n",
      "\r\n",
      "void quickSort( int a[], int l, int r)\r\n",
      "{\r\n",
      "   int j;\r\n",
      "\r\n",
      "   if( l < r ) \r\n",
      "   {\r\n",
      "       // divide and conquer\r\n",
      "        j = partition( a, l, r);\r\n",
      "       quickSort( a, l, j-1);\r\n",
      "       quickSort( a, j+1, r);\r\n",
      "   }\r\n",
      "\r\n",
      "}\r\n",
      "\r\n",
      "int partition( int a[], int l, int r) {\r\n",
      "   int pivot, i, j, t;\r\n",
      "   pivot = a[l];\r\n",
      "   i = l; j = r+1;\r\n",
      "\r\n",
      "   while( 1)\r\n",
      "   {\r\n",
      "       do ++i; while( a[i] <= pivot && i <= r );\r\n",
      "       do --j; while( a[j] > pivot );\r\n",
      "       if( i >= j ) break;\r\n",
      "       t = a[i]; a[i] = a[j]; a[j] = t;\r\n",
      "   }\r\n",
      "   t = a[l]; a[l] = a[j]; a[j] = t;\r\n",
      "   return j;\r\n",
      "}\r\n"
     ]
    }
   ],
   "source": [
    "!cat quicksort.c"
   ]
  },
  {
   "cell_type": "code",
   "execution_count": 2,
   "metadata": {
    "collapsed": false
   },
   "outputs": [
    {
     "name": "stdout",
     "output_type": "stream",
     "text": [
      "WC(1)                            User Commands                           WC(1)\r\n",
      "\r\n",
      "NAME\r\n",
      "       wc - print newline, word, and byte counts for each file\r\n",
      "\r\n",
      "SYNOPSIS\r\n",
      "       wc [OPTION]... [FILE]...\r\n",
      "       wc [OPTION]... --files0-from=F\r\n",
      "\r\n",
      "DESCRIPTION\r\n"
     ]
    }
   ],
   "source": [
    "!man wc | head"
   ]
  },
  {
   "cell_type": "code",
   "execution_count": 3,
   "metadata": {
    "collapsed": false
   },
   "outputs": [
    {
     "name": "stdout",
     "output_type": "stream",
     "text": [
      " 53 176 980 quicksort.c\r\n"
     ]
    }
   ],
   "source": [
    "!wc quicksort.c"
   ]
  },
  {
   "cell_type": "markdown",
   "metadata": {},
   "source": [
    "### Java"
   ]
  },
  {
   "cell_type": "code",
   "execution_count": 4,
   "metadata": {
    "collapsed": false
   },
   "outputs": [
    {
     "name": "stdout",
     "output_type": "stream",
     "text": [
      "// http://www.java2novice.com/java-sorting-algorithms/quick-sort/\r\n",
      "\r\n",
      "package com.java2novice.sorting;\r\n",
      "\r\n",
      "public class MyQuickSort {\r\n",
      "\r\n",
      "    private int array[];\r\n",
      "    private int length;\r\n",
      "\r\n",
      "    public void sort(int[] inputArr) {\r\n",
      "\r\n",
      "        if (inputArr == null || inputArr.length == 0) {\r\n",
      "            return;\r\n",
      "        }\r\n",
      "        this.array = inputArr;\r\n",
      "        length = inputArr.length;\r\n",
      "        quickSort(0, length - 1);\r\n",
      "    }\r\n",
      "\r\n",
      "    private void quickSort(int lowerIndex, int higherIndex) {\r\n",
      "\r\n",
      "        int i = lowerIndex;\r\n",
      "        int j = higherIndex;\r\n",
      "        // calculate pivot number, I am taking pivot as middle index number\r\n",
      "        int pivot = array[lowerIndex+(higherIndex-lowerIndex)/2];\r\n",
      "        // Divide into two arrays\r\n",
      "        while (i <= j) {\r\n",
      "            /**\r\n",
      "             * In each iteration, we will identify a number from left side which \r\n",
      "             * is greater then the pivot value, and also we will identify a number \r\n",
      "             * from right side which is less then the pivot value. Once the search \r\n",
      "             * is done, then we exchange both numbers.\r\n",
      "             */\r\n",
      "            while (array[i] < pivot) {\r\n",
      "                i++;\r\n",
      "            }\r\n",
      "            while (array[j] > pivot) {\r\n",
      "                j--;\r\n",
      "            }\r\n",
      "            if (i <= j) {\r\n",
      "                exchangeNumbers(i, j);\r\n",
      "                //move index to next position on both sides\r\n",
      "                i++;\r\n",
      "                j--;\r\n",
      "            }\r\n",
      "        }\r\n",
      "        // call quickSort() method recursively\r\n",
      "        if (lowerIndex < j)\r\n",
      "            quickSort(lowerIndex, j);\r\n",
      "        if (i < higherIndex)\r\n",
      "            quickSort(i, higherIndex);\r\n",
      "    }\r\n",
      "\r\n",
      "    private void exchangeNumbers(int i, int j) {\r\n",
      "        int temp = array[i];\r\n",
      "        array[i] = array[j];\r\n",
      "        array[j] = temp;\r\n",
      "    }\r\n",
      "\r\n",
      "    public static void main(String a[]){\r\n",
      "\r\n",
      "        MyQuickSort sorter = new MyQuickSort();\r\n",
      "        int[] input = {24,2,45,20,56,75,2,56,99,53,12};\r\n",
      "        sorter.sort(input);\r\n",
      "        for(int i:input){\r\n",
      "            System.out.print(i);\r\n",
      "            System.out.print(\" \");\r\n",
      "        }\r\n",
      "    }\r\n",
      "}\r\n",
      "\r\n"
     ]
    }
   ],
   "source": [
    "!cat quicksort.java"
   ]
  },
  {
   "cell_type": "code",
   "execution_count": 5,
   "metadata": {
    "collapsed": false
   },
   "outputs": [
    {
     "name": "stdout",
     "output_type": "stream",
     "text": [
      "  71  225 2022 quicksort.java\r\n"
     ]
    }
   ],
   "source": [
    "!wc quicksort.java"
   ]
  },
  {
   "cell_type": "markdown",
   "metadata": {},
   "source": [
    "### C++"
   ]
  },
  {
   "cell_type": "code",
   "execution_count": 6,
   "metadata": {
    "collapsed": false
   },
   "outputs": [
    {
     "name": "stdout",
     "output_type": "stream",
     "text": [
      "# http://codereview.stackexchange.com/questions/77782/quick-sort-implementation\r\n",
      "\r\n",
      "#include <iostream>\r\n",
      "using namespace std;\r\n",
      "\r\n",
      "void print(int *a, int n)\r\n",
      "{\r\n",
      "    int i=0;\r\n",
      "    while(i<n){\r\n",
      "        cout<<a[i]<<\",\";\r\n",
      "        i++;\r\n",
      "    }\r\n",
      "}\r\n",
      "\r\n",
      "void swap(int i,int j, int *a){\r\n",
      "    int temp = a[i];\r\n",
      "    a[i] = a[j];\r\n",
      "    a[j] = temp;\r\n",
      "}\r\n",
      "\r\n",
      "\r\n",
      "void quicksort(int *arr, int left, int right){\r\n",
      "    int min = (left+right)/2;\r\n",
      "    cout<<\"QS:\"<<left<<\",\"<<right<<\"\\n\";\r\n",
      "\r\n",
      "    int i = left;\r\n",
      "    int j = right;\r\n",
      "    int pivot = arr[min];\r\n",
      "\r\n",
      "    while(left<j || i<right)\r\n",
      "    {\r\n",
      "        while(arr[i]<pivot)\r\n",
      "        i++;\r\n",
      "        while(arr[j]>pivot)\r\n",
      "        j--;\r\n",
      "\r\n",
      "        if(i<=j){\r\n",
      "            swap(i,j,arr);\r\n",
      "            i++;\r\n",
      "            j--;\r\n",
      "        }\r\n",
      "        else{\r\n",
      "            if(left<j)\r\n",
      "                quicksort(arr, left, j);\r\n",
      "            if(i<right)\r\n",
      "                quicksort(arr,i,right);\r\n",
      "            return;\r\n",
      "        }\r\n",
      "    }\r\n",
      "}\r\n",
      "\r\n",
      "\r\n",
      "int main() {\r\n",
      "    int arr[8] = {110, 5, 10,3 ,22, 100, 1, 23};\r\n",
      "    quicksort(arr, 0, (sizeof(arr)/sizeof(arr[0]))-1);\r\n",
      "    print(arr, (sizeof(arr)/sizeof(arr[0])));\r\n",
      "    return 0;\r\n",
      "}\r\n"
     ]
    }
   ],
   "source": [
    "!cat quicksort.cpp"
   ]
  },
  {
   "cell_type": "code",
   "execution_count": 7,
   "metadata": {
    "collapsed": false
   },
   "outputs": [
    {
     "name": "stdout",
     "output_type": "stream",
     "text": [
      "  58  106 1069 quicksort.cpp\r\n"
     ]
    }
   ],
   "source": [
    "!wc quicksort.cpp"
   ]
  },
  {
   "cell_type": "markdown",
   "metadata": {},
   "source": [
    "### R"
   ]
  },
  {
   "cell_type": "code",
   "execution_count": 8,
   "metadata": {
    "collapsed": false
   },
   "outputs": [
    {
     "name": "stdout",
     "output_type": "stream",
     "text": [
      "# http://www.jason-french.com/blog/2014/07/26/recursion-in-r/\r\n",
      "\r\n",
      "#!/usr/bin/env Rscript\r\n",
      "# Author:  Jason A. French\r\n",
      "\r\n",
      "quickSort <- function(vect) {\r\n",
      "  # Args:\r\n",
      "  #  vect: Numeric Vector\r\n",
      "\r\n",
      "  # Stop if vector has length of 1\r\n",
      "  if (length(vect) <= 1) {\r\n",
      "      return(vect)\r\n",
      "  }\r\n",
      "  # Pick an element from the vector\r\n",
      "  element <- vect[1]\r\n",
      "  partition <- vect[-1]\r\n",
      "  # Reorder vector so that integers less than element\r\n",
      "  # come before, and all integers greater come after.\r\n",
      "  v1 <- partition[partition < element]\r\n",
      "  v2 <- partition[partition >= element]\r\n",
      "  # Recursively apply steps to smaller vectors.\r\n",
      "  v1 <- quickSort(v1)\r\n",
      "  v2 <- quickSort(v2)\r\n",
      "  return(c(v1, element, v2))\r\n",
      "}\r\n",
      "\r\n",
      "quickSort(c(4, 65, 2, -31, 0, 99, 83, 782, 1))\r\n"
     ]
    }
   ],
   "source": [
    "! cat quicksort.r"
   ]
  },
  {
   "cell_type": "code",
   "execution_count": 9,
   "metadata": {
    "collapsed": false
   },
   "outputs": [
    {
     "name": "stdout",
     "output_type": "stream",
     "text": [
      " 27 101 705 quicksort.r\r\n"
     ]
    }
   ],
   "source": [
    "!wc quicksort.r"
   ]
  },
  {
   "cell_type": "markdown",
   "metadata": {},
   "source": [
    "### Python"
   ]
  },
  {
   "cell_type": "code",
   "execution_count": 10,
   "metadata": {
    "collapsed": false
   },
   "outputs": [
    {
     "name": "stdout",
     "output_type": "stream",
     "text": [
      "# http://cs231n.github.io/python-numpy-tutorial/#python\r\n",
      "\r\n",
      "def quicksort(arr):\r\n",
      "    if len(arr) <= 1:\r\n",
      "        return arr\r\n",
      "    pivot = arr[len(arr) / 2]\r\n",
      "    left = [x for x in arr if x < pivot]\r\n",
      "    middle = [x for x in arr if x == pivot]\r\n",
      "    right = [x for x in arr if x > pivot]\r\n",
      "    return quicksort(left) + middle + quicksort(right)\r\n",
      "\r\n",
      "print quicksort([3,6,8,10,1,2,1])\r\n"
     ]
    }
   ],
   "source": [
    "!cat quicksort.py"
   ]
  },
  {
   "cell_type": "code",
   "execution_count": 11,
   "metadata": {
    "collapsed": false
   },
   "outputs": [
    {
     "name": "stdout",
     "output_type": "stream",
     "text": [
      " 12  56 365 quicksort.py\r\n"
     ]
    }
   ],
   "source": [
    "!wc quicksort.py"
   ]
  },
  {
   "cell_type": "markdown",
   "metadata": {},
   "source": [
    "### 2. Free and open source"
   ]
  },
  {
   "cell_type": "markdown",
   "metadata": {},
   "source": [
    "No one will ask you for money if you use Python. Python is a open source project created by the community to be used by the community."
   ]
  },
  {
   "cell_type": "markdown",
   "metadata": {},
   "source": [
    "### 3. Portable"
   ]
  },
  {
   "cell_type": "markdown",
   "metadata": {},
   "source": [
    "Python is interpreted (usually). Python interpreters run almost [anywhere](https://python.swaroopch.com/about_python.html) (GNU/Linux, Windows, FreeBSD, Macintosh, Solaris, OS/2, Amiga, AROS, AS/400, BeOS, OS/390, z/OS, Palm OS, QNX, VMS, Psion, Acorn RISC OS, VxWorks, PlayStation, Sharp Zaurus, Windows CE and PocketPC)."
   ]
  },
  {
   "cell_type": "markdown",
   "metadata": {},
   "source": [
    "### 4. Extensible"
   ]
  },
  {
   "cell_type": "markdown",
   "metadata": {},
   "source": [
    "As other computer language interpreters, Python is slower than most compiled languages. However, you can use C or C++ for those critical parts of your code that need to be speed up."
   ]
  },
  {
   "cell_type": "markdown",
   "metadata": {},
   "source": [
    "### 5. Libraries for almost everything"
   ]
  },
  {
   "cell_type": "markdown",
   "metadata": {},
   "source": [
    "The [Python Standard Library](https://docs.python.org/3/library/) includes stuff for working with:\n",
    "1. Integers, real, rational and complex numbers, strings, etc.\n",
    "2. Data structures such as arrays, tuples, lists, dictionaries, etc.\n",
    "3. Random numbers.\n",
    "4. Statistics.\n",
    "5. Functional programming.\n",
    "6. File systems.\n",
    "7. Databases.\n",
    "8. Data compression.\n",
    "9. Parsers.\n",
    "10. Cryptography.\n",
    "11. Operating system scripting and services control.\n",
    "12. Multiprocessing.\n",
    "13. Networking and protocols.\n",
    "14. Multimedia.\n",
    "15. Graphical user interfaces.\n",
    "\n",
    "In addition, thousands of external [*packages*](http://www.network-theory.co.uk/docs/pytut/Packages.html) has been developed. Some [examples](https://wiki.python.org/moin/UsefulModules):\n",
    "\n",
    "1. [Game development](http://www.pygame.org/hifi.html).\n",
    "2. [Computer vision](http://docs.opencv.org/3.0-beta/doc/py_tutorials/py_tutorials.html).\n",
    "3. [Scientific computation](https://www.scipy.org/)."
   ]
  }
 ],
 "metadata": {
  "kernelspec": {
   "display_name": "Python 3",
   "language": "python",
   "name": "python3"
  },
  "language_info": {
   "codemirror_mode": {
    "name": "ipython",
    "version": 3
   },
   "file_extension": ".py",
   "mimetype": "text/x-python",
   "name": "python",
   "nbconvert_exporter": "python",
   "pygments_lexer": "ipython3",
   "version": "3.6.0"
  }
 },
 "nbformat": 4,
 "nbformat_minor": 1
}
