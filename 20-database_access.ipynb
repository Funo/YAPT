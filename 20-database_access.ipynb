{
 "cells": [
  {
   "cell_type": "markdown",
   "metadata": {
    "collapsed": true,
    "deletable": true,
    "editable": true
   },
   "source": [
    "# [0] Database management"
   ]
  },
  {
   "cell_type": "markdown",
   "metadata": {
    "deletable": true,
    "editable": true
   },
   "source": [
    "Python provides a interface with the databases [GadFly](https://en.wikipedia.org/wiki/Gadfly_%28database%29), [mSQL](http://docstore.mik.ua/orelly/linux/sql/ch11_01.htm), [MySQL](https://www.tutorialspoint.com/python/python_database_access.htm), [PostgreSQL](http://initd.org/psycopg/), [Microsoft SQL Server 2000](https://docs.microsoft.com/en-us/sql/connect/python/python-driver-for-sql-server), [Informix](https://wiki.python.org/moin/Informix), [Interbase](https://www.firebirdsql.org/en/python-driver/), [Oracle](http://www.oracle.com/technetwork/articles/dsl/python-091105.html), and [Sybase](http://python-sybase.sourceforge.net/).\n"
   ]
  },
  {
   "cell_type": "markdown",
   "metadata": {
    "deletable": true,
    "editable": true
   },
   "source": [
    "## Example ([MySQL](https://dev.mysql.com/doc/connector-python/en/connector-python-example-connecting.html)):"
   ]
  },
  {
   "cell_type": "markdown",
   "metadata": {
    "deletable": true,
    "editable": true
   },
   "source": [
    "```\n",
    "pip install pymysql\n",
    "```"
   ]
  },
  {
   "cell_type": "code",
   "execution_count": 1,
   "metadata": {
    "collapsed": false,
    "deletable": true,
    "editable": true
   },
   "outputs": [
    {
     "name": "stdout",
     "output_type": "stream",
     "text": [
      "7369 Smith Ordenanza\n",
      "7499 Allen Vendedor\n",
      "7521 Ward Vendedor\n",
      "7566 Jones Directivo\n",
      "7654 Martin Vendedor\n",
      "7698 Blake Directivo\n",
      "7782 Clark Directivo\n",
      "7788 Scott Analista\n",
      "7839 King Director\n",
      "7844 Turner Vendedor\n",
      "7876 Adams Ordenanza\n",
      "7900 James Ordenanza\n",
      "7902 Ford Analista\n",
      "7934 Miller Ordenanza\n"
     ]
    }
   ],
   "source": [
    "# Source: Manuel Torres. Universidad de Almería.\n",
    "\n",
    "import pymysql\n",
    "\n",
    "# Establecemos la conexion con la base de datos\n",
    "bd = pymysql.connect(\"localhost\", \"root\", \"gebd\", \"RRHH\")\n",
    " \n",
    "# Preparamos el cursor que nos va a ayudar a realizar las operaciones con la base de datos\n",
    "cursor = bd.cursor()\n",
    " \n",
    "# Ejecutamos un query SQL usando el metodo execute() que nos proporciona el cursor\n",
    "cursor.execute(\"SELECT * FROM Empleado\")\n",
    " \n",
    "resultado = cursor.fetchall()\n",
    " \n",
    "# Extraemos una sola fila usando el metodo fetchone()\n",
    "for fila in resultado:\n",
    "    print(\"%s %s %s\" % (fila[0], fila[1], fila[2]))\n",
    " \n",
    "# Nos desconectamos de la base de datos\n",
    "bd.close()"
   ]
  }
 ],
 "metadata": {
  "kernelspec": {
   "display_name": "yapt",
   "language": "python",
   "name": "yapt"
  },
  "language_info": {
   "codemirror_mode": {
    "name": "ipython",
    "version": 3
   },
   "file_extension": ".py",
   "mimetype": "text/x-python",
   "name": "python",
   "nbconvert_exporter": "python",
   "pygments_lexer": "ipython3",
   "version": "3.5.2"
  }
 },
 "nbformat": 4,
 "nbformat_minor": 1
}
