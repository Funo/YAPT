{
 "cells": [
  {
   "cell_type": "markdown",
   "metadata": {
    "deletable": true,
    "editable": true
   },
   "source": [
    "# The Docstring system"
   ]
  },
  {
   "cell_type": "markdown",
   "metadata": {
    "deletable": true,
    "editable": true
   },
   "source": [
    "A docstring is a string literal that occurs as **the first statement** in a package, module or function (method). These structures (Python objects) can be [properly commented](https://www.python.org/dev/peps/pep-0257/) and the documentation processed/retrieved by tools such as <!-- [Docutils](http://docutils.sourceforge.net/),--> [Sphinx](http://www.sphinx-doc.org/en/1.5/) and `help()`."
   ]
  },
  {
   "cell_type": "markdown",
   "metadata": {
    "deletable": true,
    "editable": true
   },
   "source": [
    "## 1. [0] Example: commenting a class"
   ]
  },
  {
   "cell_type": "code",
   "execution_count": null,
   "metadata": {
    "collapsed": false,
    "deletable": true,
    "editable": true
   },
   "outputs": [],
   "source": [
    "class ClassExample():\n",
    "    '''This first line is a summary of this class. \\\n",
    "There must be ONLY one logical line in this overview.\n",
    "    \n",
    "    However (notice that must be an empty line between the summary and this\n",
    "    block of text), the rest of this doctrings can be placed in several lines.\n",
    "    These lines usually provides extended information about the functionality\n",
    "    of the class. The last line of the docstring should contain only\n",
    "    three simple quotation marks (as follows).\n",
    "    '''\n",
    "    \n",
    "    x = 1\n",
    "    \n",
    "    def __init__(self):\n",
    "        '''A summary about the constructor. This is an example of a one-line docstring.'''\n",
    "        print(self.x)\n",
    "        \n",
    "    def set(self, x):\n",
    "        '''A summary about \\\"set\\\".\n",
    "        \n",
    "        Arguments:\n",
    "            x: an integer that ... bla, bla, bla.\n",
    "            (Notice the indentation of this/these lines)\n",
    "            \n",
    "        Returns:\n",
    "            Nothing.\n",
    "        '''\n",
    "        self.x = x\n",
    "        \n",
    "    def get(self):\n",
    "        '''A summary about \\\"get\\\".\n",
    "        \n",
    "        Arguments:\n",
    "            None.\n",
    "            \n",
    "        Returns:\n",
    "            The value of \\\"x\\\".\n",
    "        '''\n",
    "        return self.x"
   ]
  },
  {
   "cell_type": "markdown",
   "metadata": {
    "deletable": true,
    "editable": true
   },
   "source": [
    "##  2. [0] Using `help()`"
   ]
  },
  {
   "cell_type": "markdown",
   "metadata": {
    "deletable": true,
    "editable": true
   },
   "source": [
    "Getting help for a whole class."
   ]
  },
  {
   "cell_type": "code",
   "execution_count": null,
   "metadata": {
    "collapsed": false,
    "deletable": true,
    "editable": true
   },
   "outputs": [],
   "source": [
    "help(ClassExample)"
   ]
  },
  {
   "cell_type": "markdown",
   "metadata": {
    "deletable": true,
    "editable": true
   },
   "source": [
    "Getting help for a single member function:"
   ]
  },
  {
   "cell_type": "code",
   "execution_count": null,
   "metadata": {
    "collapsed": false,
    "deletable": true,
    "editable": true
   },
   "outputs": [],
   "source": [
    "help(ClassExample.get)"
   ]
  },
  {
   "cell_type": "markdown",
   "metadata": {
    "deletable": true,
    "editable": true
   },
   "source": [
    "`help()` only prints the `__doc__` variable:"
   ]
  },
  {
   "cell_type": "markdown",
   "metadata": {
    "deletable": true,
    "editable": true
   },
   "source": [
    "Any function, class or module starting with a string literal has a non-empty [`__doc__`](https://docs.python.org/3/glossary.html#term-docstring) attribute which can be printed to get information."
   ]
  },
  {
   "cell_type": "code",
   "execution_count": null,
   "metadata": {
    "collapsed": false,
    "deletable": true,
    "editable": true
   },
   "outputs": [],
   "source": [
    "print(ClassExample.get.__doc__)"
   ]
  },
  {
   "cell_type": "markdown",
   "metadata": {
    "deletable": true,
    "editable": true
   },
   "source": [
    "The same queries can be carried out with an instance."
   ]
  },
  {
   "cell_type": "code",
   "execution_count": null,
   "metadata": {
    "collapsed": false,
    "deletable": true,
    "editable": true
   },
   "outputs": [],
   "source": [
    "a = ClassExample()"
   ]
  },
  {
   "cell_type": "code",
   "execution_count": null,
   "metadata": {
    "collapsed": false,
    "deletable": true,
    "editable": true
   },
   "outputs": [],
   "source": [
    "help(a)"
   ]
  },
  {
   "cell_type": "code",
   "execution_count": null,
   "metadata": {
    "collapsed": false,
    "deletable": true,
    "editable": true
   },
   "outputs": [],
   "source": [
    "help(a.set)"
   ]
  },
  {
   "cell_type": "code",
   "execution_count": null,
   "metadata": {
    "collapsed": false,
    "deletable": true,
    "editable": true
   },
   "outputs": [],
   "source": [
    "print(a.__doc__)"
   ]
  },
  {
   "cell_type": "code",
   "execution_count": null,
   "metadata": {
    "collapsed": false,
    "deletable": true,
    "editable": true
   },
   "outputs": [],
   "source": [
    "print(a.get.__doc__)"
   ]
  },
  {
   "cell_type": "markdown",
   "metadata": {
    "deletable": true,
    "editable": true
   },
   "source": [
    "## 3. [1] Documenting Your Project Using [Sphinx](https://pythonhosted.org/an_example_pypi_project/sphinx.html)"
   ]
  },
  {
   "cell_type": "markdown",
   "metadata": {
    "deletable": true,
    "editable": true
   },
   "source": [
    "### 3.1. Installation"
   ]
  },
  {
   "cell_type": "markdown",
   "metadata": {
    "deletable": true,
    "editable": true
   },
   "source": [
    "```\n",
    "(yapt) $ pip install Sphinx                # Necessary only once\n",
    "```"
   ]
  },
  {
   "cell_type": "markdown",
   "metadata": {
    "deletable": true,
    "editable": true
   },
   "source": [
    "### 3.2. Configuration of the project (example)"
   ]
  },
  {
   "cell_type": "markdown",
   "metadata": {
    "deletable": true,
    "editable": true
   },
   "source": [
    "```\n",
    "(yapt) $ pwd\n",
    "/Users/vruiz/YAPT\n",
    "\n",
    "(yapt) $ sphinx-quickstart                 # Necessary only one time/project\n",
    "\n",
    "> Root path for the documentation [.]: <enter>\n",
    "> Separate source and build directories (y/n) [n]: <enter>\n",
    "> Name prefix for templates and static dir [_]: <enter>\n",
    "**********************************************\n",
    "> Project name: My ClassExample Python Project\n",
    "> Author name(s): Your Name Here\n",
    "> Project version []: 1.0\n",
    "**********************************************\n",
    "> Project release [1.0]: <enter>\n",
    "> Project language [en]: <enter>\n",
    "> Source file suffix [.rst]: <enter>\n",
    "> Name of your master document (without suffix) [index]: <enter>\n",
    "> Do you want to use the epub builder (y/n) [n]: <enter>\n",
    "********************************************************************\n",
    "> autodoc: automatically insert docstrings from modules (y/n) [n]: y\n",
    "********************************************************************\n",
    "> doctest: automatically test code snippets in doctest blocks (y/n) [n]: <enter>\n",
    "> intersphinx: link between Sphinx documentation of different projects (y/n) [n]: <enter>\n",
    "> todo: write \"todo\" entries that can be shown or hidden on build (y/n) [n]: <enter>\n",
    "> coverage: checks for documentation coverage (y/n) [n]: <enter>\n",
    "> imgmath: include math, rendered as PNG or SVG images (y/n) [n]: <enter>\n",
    "> mathjax: include math, rendered in the browser by MathJax (y/n) [n]: <enter>\n",
    "> ifconfig: conditional inclusion of content based on config values (y/n) [n]: <enter>\n",
    "> viewcode: include links to the source code of documented Python objects (y/n) [n]: <enter>\n",
    "> githubpages: create .nojekyll file to publish the document on GitHub pages (y/n) [n]: <enter>\n",
    "> Create Makefile? (y/n) [y]: <enter>\n",
    "*******************************************\n",
    "> Create Windows command file? (y/n) [y]: n\n",
    "*******************************************\n",
    "\n",
    "(yapt) $ # Only to see how to add new (sub-)pages ...\n",
    "(yapt) $ cat > extra_documentation.rst << EOF\n",
    "Extra Documentation\n",
    "===================\n",
    "\n",
    "Your extra documentation which has not been included in the code could\n",
    "be placed here.\n",
    "EOF\n",
    "\n",
    "(yapt) $ # You need to select which modules will be processed. \n",
    "(yapt) $ cat > code.rst << EOF\n",
    "Code Documentation\n",
    "==================\n",
    "\n",
    ".. automodule:: ClassExample\n",
    "    :members:\n",
    "EOF\n",
    "\n",
    "(yapt) $ # Your index.rst file should show like (use a text editor):\n",
    "(yapt) $ cat index.rst\n",
    ".. My ClassExample Python Project documentation master file, created by\n",
    "   sphinx-quickstart on Thu Dec  8 17:46:01 2016.\n",
    "   You can adapt this file completely to your liking, but it should at least\n",
    "   contain the root `toctree` directive.\n",
    "\n",
    "Welcome to My ClassExample Python Project's documentation!\n",
    "==========================================================\n",
    "\n",
    "Testing Docstrings and Sphinx!\n",
    "\n",
    ".. toctree::\n",
    "   :maxdepth: 2\n",
    "   :caption: Contents:\n",
    "\n",
    "   code\n",
    "   extra_documentation\n",
    "\n",
    "Indices and tables\n",
    "==================\n",
    "\n",
    "* :ref:`genindex`\n",
    "* :ref:`modindex`\n",
    "* :ref:`search`\n",
    "```"
   ]
  },
  {
   "cell_type": "markdown",
   "metadata": {
    "deletable": true,
    "editable": true
   },
   "source": [
    "### 3.3. Compilation of the documentation\n",
    "Makes sure to include the path to your modules in in the `sys.path` in the `conf.py` file previously generated."
   ]
  },
  {
   "cell_type": "markdown",
   "metadata": {
    "deletable": true,
    "editable": true
   },
   "source": [
    "```\n",
    "(yapt) $ make clean\n",
    "(yapt) $ make html\n",
    "```"
   ]
  },
  {
   "cell_type": "markdown",
   "metadata": {
    "deletable": true,
    "editable": true
   },
   "source": [
    "### 3.4. Watching the results"
   ]
  },
  {
   "cell_type": "markdown",
   "metadata": {
    "deletable": true,
    "editable": true
   },
   "source": [
    "```\n",
    "(yapt) $ firefox _build/html/index.html\n",
    "```"
   ]
  },
  {
   "cell_type": "code",
   "execution_count": null,
   "metadata": {
    "collapsed": true,
    "deletable": true,
    "editable": true
   },
   "outputs": [],
   "source": []
  }
 ],
 "metadata": {
  "kernelspec": {
   "display_name": "yapt",
   "language": "python",
   "name": "yapt"
  },
  "language_info": {
   "codemirror_mode": {
    "name": "ipython",
    "version": 3
   },
   "file_extension": ".py",
   "mimetype": "text/x-python",
   "name": "python",
   "nbconvert_exporter": "python",
   "pygments_lexer": "ipython3",
   "version": "3.5.2"
  }
 },
 "nbformat": 4,
 "nbformat_minor": 1
}
