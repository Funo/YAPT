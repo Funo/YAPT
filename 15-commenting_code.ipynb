{
 "cells": [
  {
   "cell_type": "markdown",
   "metadata": {},
   "source": [
    "# The Docstring system"
   ]
  },
  {
   "cell_type": "markdown",
   "metadata": {},
   "source": [
    "A docstring is a string literal that occurs as **the first statement** in a package, module or function (method). These structures (Python objects) can be [properly commented](https://www.python.org/dev/peps/pep-0257/) and the documentation processed/retrieved by tools such as <!-- [Docutils](http://docutils.sourceforge.net/),--> [Sphinx](http://www.sphinx-doc.org/en/1.5/) and `help()`."
   ]
  },
  {
   "cell_type": "markdown",
   "metadata": {},
   "source": [
    "## Example: commenting a class"
   ]
  },
  {
   "cell_type": "code",
   "execution_count": 64,
   "metadata": {
    "collapsed": false
   },
   "outputs": [],
   "source": [
    "class ClassExample():\n",
    "    '''This first line is a summary of this class. \\\n",
    "There must be ONLY one logical line in this overview.\n",
    "    \n",
    "    However (notice that must be an empty line between the summary and this\n",
    "    block of text), the rest of this doctrings can be placed in several lines.\n",
    "    These lines usually provides extended information about the functionality\n",
    "    of the class. The last line of the docstring should contain only\n",
    "    three simple quotation marks.\n",
    "    '''\n",
    "    \n",
    "    x = 1\n",
    "    \n",
    "    def __init__(self):\n",
    "        '''A summary about the constructor. This is an example of a one-line docstring.'''\n",
    "        print(self.x)\n",
    "        \n",
    "    def set(self, x: int) -> None:\n",
    "        '''A summary about \\\"set\\\".\n",
    "        \n",
    "        Arguments:\n",
    "            x: an integer that ... bla, bla, bla.\n",
    "            \n",
    "        Returns:\n",
    "            Nothing.\n",
    "        '''\n",
    "        self.x = x\n",
    "        \n",
    "    def get(self) -> int:\n",
    "        '''A summary about \\\"get\\\".\n",
    "        \n",
    "        Arguments:\n",
    "            None.\n",
    "            \n",
    "        Returns:\n",
    "            The value of \\\"x\\\".\n",
    "        '''\n",
    "        return self.x"
   ]
  },
  {
   "cell_type": "markdown",
   "metadata": {},
   "source": [
    "## `help()`"
   ]
  },
  {
   "cell_type": "code",
   "execution_count": 65,
   "metadata": {
    "collapsed": false
   },
   "outputs": [
    {
     "name": "stdout",
     "output_type": "stream",
     "text": [
      "1\n"
     ]
    }
   ],
   "source": [
    "a = ClassExample()"
   ]
  },
  {
   "cell_type": "code",
   "execution_count": 66,
   "metadata": {
    "collapsed": false
   },
   "outputs": [],
   "source": [
    "a.set(2)"
   ]
  },
  {
   "cell_type": "code",
   "execution_count": 67,
   "metadata": {
    "collapsed": false
   },
   "outputs": [
    {
     "data": {
      "text/plain": [
       "2"
      ]
     },
     "execution_count": 67,
     "metadata": {},
     "output_type": "execute_result"
    }
   ],
   "source": [
    "a.get()"
   ]
  },
  {
   "cell_type": "code",
   "execution_count": 53,
   "metadata": {
    "collapsed": false
   },
   "outputs": [
    {
     "name": "stdout",
     "output_type": "stream",
     "text": [
      "This first line is a summary of this class. There must be ONLY one logical line in this overview.\n",
      "    \n",
      "    However (notice that must be an empty line between the summary and this\n",
      "    block of text), the rest of this doctrings can be placed in several lines.\n",
      "    These lines usually provides extended information about the functionality\n",
      "    of the class. The last line of the docstring should contain only\n",
      "    three simple quotation marks.\n",
      "    \n"
     ]
    }
   ],
   "source": [
    "print(a.__doc__)"
   ]
  },
  {
   "cell_type": "code",
   "execution_count": 54,
   "metadata": {
    "collapsed": false
   },
   "outputs": [
    {
     "ename": "AttributeError",
     "evalue": "'ClassExample' object has no attribute 'method'",
     "output_type": "error",
     "traceback": [
      "\u001b[0;31m---------------------------------------------------------------------------\u001b[0m",
      "\u001b[0;31mAttributeError\u001b[0m                            Traceback (most recent call last)",
      "\u001b[0;32m<ipython-input-54-40acb8015b30>\u001b[0m in \u001b[0;36m<module>\u001b[0;34m()\u001b[0m\n\u001b[0;32m----> 1\u001b[0;31m \u001b[0mprint\u001b[0m\u001b[0;34m(\u001b[0m\u001b[0ma\u001b[0m\u001b[0;34m.\u001b[0m\u001b[0mmethod\u001b[0m\u001b[0;34m.\u001b[0m\u001b[0m__doc__\u001b[0m\u001b[0;34m)\u001b[0m\u001b[0;34m\u001b[0m\u001b[0m\n\u001b[0m",
      "\u001b[0;31mAttributeError\u001b[0m: 'ClassExample' object has no attribute 'method'"
     ]
    }
   ],
   "source": [
    "print(a.method.__doc__)"
   ]
  },
  {
   "cell_type": "code",
   "execution_count": 55,
   "metadata": {
    "collapsed": false
   },
   "outputs": [
    {
     "name": "stdout",
     "output_type": "stream",
     "text": [
      "Help on class ClassExample in module __main__:\n",
      "\n",
      "class ClassExample(builtins.object)\n",
      " |  This first line is a summary of this class. There must be ONLY one logical line in this overview.\n",
      " |  \n",
      " |  However (notice that must be an empty line between the summary and this\n",
      " |  block of text), the rest of this doctrings can be placed in several lines.\n",
      " |  These lines usually provides extended information about the functionality\n",
      " |  of the class. The last line of the docstring should contain only\n",
      " |  three simple quotation marks.\n",
      " |  \n",
      " |  Methods defined here:\n",
      " |  \n",
      " |  __init__(self)\n",
      " |      A summary about the constructor. This is an example of single-line docstring.\n",
      " |  \n",
      " |  get(self) -> int\n",
      " |      A summary about \"get\".\n",
      " |      \n",
      " |      Arguments:\n",
      " |          None.\n",
      " |          \n",
      " |      Returns:\n",
      " |          The value of \"x\".\n",
      " |  \n",
      " |  set(self, x:int) -> None\n",
      " |      A summary about \"set\".\n",
      " |      \n",
      " |      Arguments:\n",
      " |          x: an integer that ... bla, bla, bla.\n",
      " |          \n",
      " |      Returns:\n",
      " |          Nothing.\n",
      " |  \n",
      " |  ----------------------------------------------------------------------\n",
      " |  Data descriptors defined here:\n",
      " |  \n",
      " |  __dict__\n",
      " |      dictionary for instance variables (if defined)\n",
      " |  \n",
      " |  __weakref__\n",
      " |      list of weak references to the object (if defined)\n",
      " |  \n",
      " |  ----------------------------------------------------------------------\n",
      " |  Data and other attributes defined here:\n",
      " |  \n",
      " |  x = 1\n",
      "\n"
     ]
    }
   ],
   "source": [
    "help(ClassExample)"
   ]
  },
  {
   "cell_type": "code",
   "execution_count": 56,
   "metadata": {
    "collapsed": false
   },
   "outputs": [
    {
     "name": "stdout",
     "output_type": "stream",
     "text": [
      "Help on ClassExample in module __main__ object:\n",
      "\n",
      "class ClassExample(builtins.object)\n",
      " |  This first line is a summary of this class. There must be ONLY one logical line in this overview.\n",
      " |  \n",
      " |  However (notice that must be an empty line between the summary and this\n",
      " |  block of text), the rest of this doctrings can be placed in several lines.\n",
      " |  These lines usually provides extended information about the functionality\n",
      " |  of the class. The last line of the docstring should contain only\n",
      " |  three simple quotation marks.\n",
      " |  \n",
      " |  Methods defined here:\n",
      " |  \n",
      " |  __init__(self)\n",
      " |      A summary about the constructor. This is an example of single-line docstring.\n",
      " |  \n",
      " |  get(self) -> int\n",
      " |      A summary about \"get\".\n",
      " |      \n",
      " |      Arguments:\n",
      " |          None.\n",
      " |          \n",
      " |      Returns:\n",
      " |          The value of \"x\".\n",
      " |  \n",
      " |  set(self, x:int) -> None\n",
      " |      A summary about \"set\".\n",
      " |      \n",
      " |      Arguments:\n",
      " |          x: an integer that ... bla, bla, bla.\n",
      " |          \n",
      " |      Returns:\n",
      " |          Nothing.\n",
      " |  \n",
      " |  ----------------------------------------------------------------------\n",
      " |  Data descriptors defined here:\n",
      " |  \n",
      " |  __dict__\n",
      " |      dictionary for instance variables (if defined)\n",
      " |  \n",
      " |  __weakref__\n",
      " |      list of weak references to the object (if defined)\n",
      " |  \n",
      " |  ----------------------------------------------------------------------\n",
      " |  Data and other attributes defined here:\n",
      " |  \n",
      " |  x = 1\n",
      "\n"
     ]
    }
   ],
   "source": [
    "help(a)"
   ]
  },
  {
   "cell_type": "code",
   "execution_count": 58,
   "metadata": {
    "collapsed": false
   },
   "outputs": [
    {
     "name": "stdout",
     "output_type": "stream",
     "text": [
      "Help on method set in module __main__:\n",
      "\n",
      "set(x:int) -> None method of __main__.ClassExample instance\n",
      "    A summary about \"set\".\n",
      "    \n",
      "    Arguments:\n",
      "        x: an integer that ... bla, bla, bla.\n",
      "        \n",
      "    Returns:\n",
      "        Nothing.\n",
      "\n"
     ]
    }
   ],
   "source": [
    "help(a.set)"
   ]
  },
  {
   "cell_type": "code",
   "execution_count": 60,
   "metadata": {
    "collapsed": false
   },
   "outputs": [
    {
     "name": "stdout",
     "output_type": "stream",
     "text": [
      "Help on function get in module __main__:\n",
      "\n",
      "get(self) -> int\n",
      "    A summary about \"get\".\n",
      "    \n",
      "    Arguments:\n",
      "        None.\n",
      "        \n",
      "    Returns:\n",
      "        The value of \"x\".\n",
      "\n"
     ]
    }
   ],
   "source": [
    "help(ClassExample.get)"
   ]
  },
  {
   "cell_type": "code",
   "execution_count": 61,
   "metadata": {
    "collapsed": false
   },
   "outputs": [
    {
     "name": "stdout",
     "output_type": "stream",
     "text": [
      "Help on int object:\n",
      "\n",
      "class int(object)\n",
      " |  int(x=0) -> integer\n",
      " |  int(x, base=10) -> integer\n",
      " |  \n",
      " |  Convert a number or string to an integer, or return 0 if no arguments\n",
      " |  are given.  If x is a number, return x.__int__().  For floating point\n",
      " |  numbers, this truncates towards zero.\n",
      " |  \n",
      " |  If x is not a number or if base is given, then x must be a string,\n",
      " |  bytes, or bytearray instance representing an integer literal in the\n",
      " |  given base.  The literal can be preceded by '+' or '-' and be surrounded\n",
      " |  by whitespace.  The base defaults to 10.  Valid bases are 0 and 2-36.\n",
      " |  Base 0 means to interpret the base from the string as an integer literal.\n",
      " |  >>> int('0b100', base=0)\n",
      " |  4\n",
      " |  \n",
      " |  Methods defined here:\n",
      " |  \n",
      " |  __abs__(self, /)\n",
      " |      abs(self)\n",
      " |  \n",
      " |  __add__(self, value, /)\n",
      " |      Return self+value.\n",
      " |  \n",
      " |  __and__(self, value, /)\n",
      " |      Return self&value.\n",
      " |  \n",
      " |  __bool__(self, /)\n",
      " |      self != 0\n",
      " |  \n",
      " |  __ceil__(...)\n",
      " |      Ceiling of an Integral returns itself.\n",
      " |  \n",
      " |  __divmod__(self, value, /)\n",
      " |      Return divmod(self, value).\n",
      " |  \n",
      " |  __eq__(self, value, /)\n",
      " |      Return self==value.\n",
      " |  \n",
      " |  __float__(self, /)\n",
      " |      float(self)\n",
      " |  \n",
      " |  __floor__(...)\n",
      " |      Flooring an Integral returns itself.\n",
      " |  \n",
      " |  __floordiv__(self, value, /)\n",
      " |      Return self//value.\n",
      " |  \n",
      " |  __format__(...)\n",
      " |      default object formatter\n",
      " |  \n",
      " |  __ge__(self, value, /)\n",
      " |      Return self>=value.\n",
      " |  \n",
      " |  __getattribute__(self, name, /)\n",
      " |      Return getattr(self, name).\n",
      " |  \n",
      " |  __getnewargs__(...)\n",
      " |  \n",
      " |  __gt__(self, value, /)\n",
      " |      Return self>value.\n",
      " |  \n",
      " |  __hash__(self, /)\n",
      " |      Return hash(self).\n",
      " |  \n",
      " |  __index__(self, /)\n",
      " |      Return self converted to an integer, if self is suitable for use as an index into a list.\n",
      " |  \n",
      " |  __int__(self, /)\n",
      " |      int(self)\n",
      " |  \n",
      " |  __invert__(self, /)\n",
      " |      ~self\n",
      " |  \n",
      " |  __le__(self, value, /)\n",
      " |      Return self<=value.\n",
      " |  \n",
      " |  __lshift__(self, value, /)\n",
      " |      Return self<<value.\n",
      " |  \n",
      " |  __lt__(self, value, /)\n",
      " |      Return self<value.\n",
      " |  \n",
      " |  __mod__(self, value, /)\n",
      " |      Return self%value.\n",
      " |  \n",
      " |  __mul__(self, value, /)\n",
      " |      Return self*value.\n",
      " |  \n",
      " |  __ne__(self, value, /)\n",
      " |      Return self!=value.\n",
      " |  \n",
      " |  __neg__(self, /)\n",
      " |      -self\n",
      " |  \n",
      " |  __new__(*args, **kwargs) from builtins.type\n",
      " |      Create and return a new object.  See help(type) for accurate signature.\n",
      " |  \n",
      " |  __or__(self, value, /)\n",
      " |      Return self|value.\n",
      " |  \n",
      " |  __pos__(self, /)\n",
      " |      +self\n",
      " |  \n",
      " |  __pow__(self, value, mod=None, /)\n",
      " |      Return pow(self, value, mod).\n",
      " |  \n",
      " |  __radd__(self, value, /)\n",
      " |      Return value+self.\n",
      " |  \n",
      " |  __rand__(self, value, /)\n",
      " |      Return value&self.\n",
      " |  \n",
      " |  __rdivmod__(self, value, /)\n",
      " |      Return divmod(value, self).\n",
      " |  \n",
      " |  __repr__(self, /)\n",
      " |      Return repr(self).\n",
      " |  \n",
      " |  __rfloordiv__(self, value, /)\n",
      " |      Return value//self.\n",
      " |  \n",
      " |  __rlshift__(self, value, /)\n",
      " |      Return value<<self.\n",
      " |  \n",
      " |  __rmod__(self, value, /)\n",
      " |      Return value%self.\n",
      " |  \n",
      " |  __rmul__(self, value, /)\n",
      " |      Return value*self.\n",
      " |  \n",
      " |  __ror__(self, value, /)\n",
      " |      Return value|self.\n",
      " |  \n",
      " |  __round__(...)\n",
      " |      Rounding an Integral returns itself.\n",
      " |      Rounding with an ndigits argument also returns an integer.\n",
      " |  \n",
      " |  __rpow__(self, value, mod=None, /)\n",
      " |      Return pow(value, self, mod).\n",
      " |  \n",
      " |  __rrshift__(self, value, /)\n",
      " |      Return value>>self.\n",
      " |  \n",
      " |  __rshift__(self, value, /)\n",
      " |      Return self>>value.\n",
      " |  \n",
      " |  __rsub__(self, value, /)\n",
      " |      Return value-self.\n",
      " |  \n",
      " |  __rtruediv__(self, value, /)\n",
      " |      Return value/self.\n",
      " |  \n",
      " |  __rxor__(self, value, /)\n",
      " |      Return value^self.\n",
      " |  \n",
      " |  __sizeof__(...)\n",
      " |      Returns size in memory, in bytes\n",
      " |  \n",
      " |  __str__(self, /)\n",
      " |      Return str(self).\n",
      " |  \n",
      " |  __sub__(self, value, /)\n",
      " |      Return self-value.\n",
      " |  \n",
      " |  __truediv__(self, value, /)\n",
      " |      Return self/value.\n",
      " |  \n",
      " |  __trunc__(...)\n",
      " |      Truncating an Integral returns itself.\n",
      " |  \n",
      " |  __xor__(self, value, /)\n",
      " |      Return self^value.\n",
      " |  \n",
      " |  bit_length(...)\n",
      " |      int.bit_length() -> int\n",
      " |      \n",
      " |      Number of bits necessary to represent self in binary.\n",
      " |      >>> bin(37)\n",
      " |      '0b100101'\n",
      " |      >>> (37).bit_length()\n",
      " |      6\n",
      " |  \n",
      " |  conjugate(...)\n",
      " |      Returns self, the complex conjugate of any int.\n",
      " |  \n",
      " |  from_bytes(...) from builtins.type\n",
      " |      int.from_bytes(bytes, byteorder, *, signed=False) -> int\n",
      " |      \n",
      " |      Return the integer represented by the given array of bytes.\n",
      " |      \n",
      " |      The bytes argument must be a bytes-like object (e.g. bytes or bytearray).\n",
      " |      \n",
      " |      The byteorder argument determines the byte order used to represent the\n",
      " |      integer.  If byteorder is 'big', the most significant byte is at the\n",
      " |      beginning of the byte array.  If byteorder is 'little', the most\n",
      " |      significant byte is at the end of the byte array.  To request the native\n",
      " |      byte order of the host system, use `sys.byteorder' as the byte order value.\n",
      " |      \n",
      " |      The signed keyword-only argument indicates whether two's complement is\n",
      " |      used to represent the integer.\n",
      " |  \n",
      " |  to_bytes(...)\n",
      " |      int.to_bytes(length, byteorder, *, signed=False) -> bytes\n",
      " |      \n",
      " |      Return an array of bytes representing an integer.\n",
      " |      \n",
      " |      The integer is represented using length bytes.  An OverflowError is\n",
      " |      raised if the integer is not representable with the given number of\n",
      " |      bytes.\n",
      " |      \n",
      " |      The byteorder argument determines the byte order used to represent the\n",
      " |      integer.  If byteorder is 'big', the most significant byte is at the\n",
      " |      beginning of the byte array.  If byteorder is 'little', the most\n",
      " |      significant byte is at the end of the byte array.  To request the native\n",
      " |      byte order of the host system, use `sys.byteorder' as the byte order value.\n",
      " |      \n",
      " |      The signed keyword-only argument determines whether two's complement is\n",
      " |      used to represent the integer.  If signed is False and a negative integer\n",
      " |      is given, an OverflowError is raised.\n",
      " |  \n",
      " |  ----------------------------------------------------------------------\n",
      " |  Data descriptors defined here:\n",
      " |  \n",
      " |  denominator\n",
      " |      the denominator of a rational number in lowest terms\n",
      " |  \n",
      " |  imag\n",
      " |      the imaginary part of a complex number\n",
      " |  \n",
      " |  numerator\n",
      " |      the numerator of a rational number in lowest terms\n",
      " |  \n",
      " |  real\n",
      " |      the real part of a complex number\n",
      "\n"
     ]
    }
   ],
   "source": [
    "help(ClassExample.x)"
   ]
  },
  {
   "cell_type": "markdown",
   "metadata": {},
   "source": [
    "## Sphinx"
   ]
  },
  {
   "cell_type": "markdown",
   "metadata": {},
   "source": [
    "See [Documenting Your Project Using Sphinx](https://pythonhosted.org/an_example_pypi_project/sphinx.html)."
   ]
  },
  {
   "cell_type": "markdown",
   "metadata": {},
   "source": [
    "```\n",
    "$ pip install Sphinx                # Necessary only one time\n",
    "\n",
    "$ cd where_your_python_code_is\n",
    "\n",
    "$ sphinx-quickstart                 # Necessary only one time/project\n",
    "\n",
    "> Root path for the documentation [.]: <enter>\n",
    "> Separate source and build directories (y/n) [n]: <enter>\n",
    "> Name prefix for templates and static dir [_]: <enter>\n",
    "> Project name: My ClassExample Python Project\n",
    "> Author name(s): Your Name Here\n",
    "> Project version []: 1.0\n",
    "> Project release [1.0]: <enter>\n",
    "> Project language [en]: <enter>\n",
    "> Source file suffix [.rst]: <enter>\n",
    "> Name of your master document (without suffix) [index]: <enter>\n",
    "> Do you want to use the epub builder (y/n) [n]: <enter>\n",
    "> autodoc: automatically insert docstrings from modules (y/n) [n]: y\n",
    "> doctest: automatically test code snippets in doctest blocks (y/n) [n]: <enter>\n",
    "> intersphinx: link between Sphinx documentation of different projects (y/n) [n]: <enter>\n",
    "> todo: write \"todo\" entries that can be shown or hidden on build (y/n) [n]: <enter>\n",
    "> coverage: checks for documentation coverage (y/n) [n]: <enter>\n",
    "> imgmath: include math, rendered as PNG or SVG images (y/n) [n]: <enter>\n",
    "> mathjax: include math, rendered in the browser by MathJax (y/n) [n]: <enter>\n",
    "> ifconfig: conditional inclusion of content based on config values (y/n) [n]: <enter>\n",
    "> viewcode: include links to the source code of documented Python objects (y/n) [n]: <enter>\n",
    "> githubpages: create .nojekyll file to publish the document on GitHub pages (y/n) [n]: <enter>\n",
    "> Create Makefile? (y/n) [y]: <enter>\n",
    "> Create Windows command file? (y/n) [y]: n\n",
    "\n",
    "$ # Only to see how to add new (sub-)pages ...\n",
    "$ cat > extra_documentation.rst << EOF\n",
    "Extra Documentation\n",
    "===================\n",
    "\n",
    "Your extra documentation which has not been included in the code could\n",
    "be placed here.\n",
    "EOF\n",
    "\n",
    "$ # You need to select which modules will be processed. \n",
    "$ cat > code.rst << EOF\n",
    "Code Documentation\n",
    "==================\n",
    "\n",
    ".. automodule:: ClassExample\n",
    "\t\t:members:\n",
    "EOF\n",
    "\n",
    "$ # Your index.rst file should show like (use a text editor):\n",
    "$ cat index.rst\n",
    ".. My ClassExample Python Project documentation master file, created by\n",
    "   sphinx-quickstart on Thu Dec  8 17:46:01 2016.\n",
    "   You can adapt this file completely to your liking, but it should at least\n",
    "   contain the root `toctree` directive.\n",
    "\n",
    "Welcome to My ClassExample Python Project's documentation!\n",
    "==========================================================\n",
    "\n",
    "Testing Docstrings and Sphinx!\n",
    "\n",
    ".. toctree::\n",
    "   :maxdepth: 2\n",
    "   :caption: Contents:\n",
    "\n",
    "   extra_documentation\n",
    "   code\n",
    "\n",
    "Indices and tables\n",
    "==================\n",
    "\n",
    "* :ref:`genindex`\n",
    "* :ref:`modindex`\n",
    "* :ref:`search`\n",
    "\n",
    "_build/html/index.html \n",
    "\n",
    "$ make clean\n",
    "$ make html\n",
    "$ firefox _build/html/index.html\n",
    "```"
   ]
  }
 ],
 "metadata": {
  "kernelspec": {
   "display_name": "Python 3",
   "language": "python",
   "name": "python3"
  },
  "language_info": {
   "codemirror_mode": {
    "name": "ipython",
    "version": 3
   },
   "file_extension": ".py",
   "mimetype": "text/x-python",
   "name": "python",
   "nbconvert_exporter": "python",
   "pygments_lexer": "ipython3",
   "version": "3.6.0"
  }
 },
 "nbformat": 4,
 "nbformat_minor": 1
}
