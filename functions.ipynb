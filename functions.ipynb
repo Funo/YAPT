{
 "cells": [
  {
   "cell_type": "markdown",
   "metadata": {},
   "source": [
    "# Functions"
   ]
  },
  {
   "cell_type": "code",
   "execution_count": 2,
   "metadata": {
    "collapsed": false
   },
   "outputs": [
    {
     "name": "stdout",
     "output_type": "stream",
     "text": [
      "Hello world!\n"
     ]
    }
   ],
   "source": [
    "def say_hello():\n",
    "    print('Hello world!')\n",
    "\n",
    "say_hello() "
   ]
  },
  {
   "cell_type": "code",
   "execution_count": 4,
   "metadata": {
    "collapsed": false
   },
   "outputs": [
    {
     "name": "stdout",
     "output_type": "stream",
     "text": [
      "2\n"
     ]
    }
   ],
   "source": [
    "def max(a, b):\n",
    "    if a > b:\n",
    "        return a\n",
    "    else:\n",
    "        return b\n",
    "\n",
    "print(max(1,2))"
   ]
  },
  {
   "cell_type": "code",
   "execution_count": 23,
   "metadata": {
    "collapsed": false
   },
   "outputs": [
    {
     "name": "stdout",
     "output_type": "stream",
     "text": [
      "True\n",
      "a = 1\n",
      "False\n",
      "locals() = {}\n",
      "locals() = {'a': 2}\n",
      "a = 2\n",
      "a = 1\n"
     ]
    }
   ],
   "source": [
    "a = 1\n",
    "def func():\n",
    "    # Functions create their own scope (or namespace)\n",
    "    print('a' in globals())\n",
    "    print('a =', globals()['a'])\n",
    "    print('a' in locals())\n",
    "    print('locals() =',locals())\n",
    "    a = 2\n",
    "    print('locals() =',locals())\n",
    "    print('a =', a)\n",
    "    \n",
    "func()\n",
    "print('a =', a)"
   ]
  },
  {
   "cell_type": "code",
   "execution_count": 24,
   "metadata": {
    "collapsed": false
   },
   "outputs": [
    {
     "name": "stdout",
     "output_type": "stream",
     "text": [
      "{}\n",
      "a = 1\n",
      "a = 1\n",
      "a = 1\n"
     ]
    }
   ],
   "source": [
    "a = 1\n",
    "def func():\n",
    "    # After the local scope, functions search in the globals()'s scope\n",
    "    print(locals())\n",
    "    print('a =', globals()['a'])\n",
    "    print('a =', a)\n",
    "    \n",
    "func()\n",
    "print('a =', a)"
   ]
  },
  {
   "cell_type": "code",
   "execution_count": 18,
   "metadata": {
    "collapsed": false
   },
   "outputs": [
    {
     "name": "stdout",
     "output_type": "stream",
     "text": [
      "1 2\n",
      "3 2\n",
      "4 3\n",
      "4 3\n",
      "1 3\n"
     ]
    }
   ],
   "source": [
    "def optional_args(a=1, b=2):\n",
    "    print(a, b)\n",
    "    \n",
    "optional_args()\n",
    "optional_args(3)\n",
    "optional_args(4,3)\n",
    "optional_args(b=3, a=4)\n",
    "optional_args(b=3)"
   ]
  },
  {
   "cell_type": "code",
   "execution_count": 24,
   "metadata": {
    "collapsed": false
   },
   "outputs": [
    {
     "name": "stdout",
     "output_type": "stream",
     "text": [
      "('hola', 'caracola', ('hola', 'caracola'))\n",
      "hola\n",
      "caracola\n",
      "('hola', 'caracola')\n"
     ]
    }
   ],
   "source": [
    "def variable_args(*vargs):\n",
    "    print(vargs)\n",
    "    for i in vargs:\n",
    "        print(i)\n",
    "    \n",
    "variable_args(\"hola\", \"caracola\", (\"hola\", \"caracola\"))"
   ]
  },
  {
   "cell_type": "code",
   "execution_count": 26,
   "metadata": {
    "collapsed": false
   },
   "outputs": [
    {
     "name": "stdout",
     "output_type": "stream",
     "text": [
      "{'a': 1, 'b': 'a'}\n",
      "a 1\n",
      "b a\n"
     ]
    }
   ],
   "source": [
    "def keyworded_args(**kargs):\n",
    "    print(kargs)\n",
    "    for i in kargs:\n",
    "        print(i, kargs[i])\n",
    "    \n",
    "keyworded_args(a=1, b='a')"
   ]
  },
  {
   "cell_type": "markdown",
   "metadata": {},
   "source": [
    "Functions can be nested:"
   ]
  },
  {
   "cell_type": "code",
   "execution_count": 26,
   "metadata": {
    "collapsed": false
   },
   "outputs": [
    {
     "name": "stdout",
     "output_type": "stream",
     "text": [
      "Hello world\n"
     ]
    }
   ],
   "source": [
    "def outter():\n",
    "    def inner():\n",
    "        print('Hello world')\n",
    "    inner()\n",
    "    \n",
    "outter()"
   ]
  },
  {
   "cell_type": "markdown",
   "metadata": {},
   "source": [
    "Functions are objects:"
   ]
  },
  {
   "cell_type": "code",
   "execution_count": 33,
   "metadata": {
    "collapsed": false
   },
   "outputs": [
    {
     "data": {
      "text/plain": [
       "['__annotations__',\n",
       " '__call__',\n",
       " '__class__',\n",
       " '__closure__',\n",
       " '__code__',\n",
       " '__defaults__',\n",
       " '__delattr__',\n",
       " '__dict__',\n",
       " '__dir__',\n",
       " '__doc__',\n",
       " '__eq__',\n",
       " '__format__',\n",
       " '__ge__',\n",
       " '__get__',\n",
       " '__getattribute__',\n",
       " '__globals__',\n",
       " '__gt__',\n",
       " '__hash__',\n",
       " '__init__',\n",
       " '__kwdefaults__',\n",
       " '__le__',\n",
       " '__lt__',\n",
       " '__module__',\n",
       " '__name__',\n",
       " '__ne__',\n",
       " '__new__',\n",
       " '__qualname__',\n",
       " '__reduce__',\n",
       " '__reduce_ex__',\n",
       " '__repr__',\n",
       " '__setattr__',\n",
       " '__sizeof__',\n",
       " '__str__',\n",
       " '__subclasshook__']"
      ]
     },
     "execution_count": 33,
     "metadata": {},
     "output_type": "execute_result"
    }
   ],
   "source": [
    "dir(outter)"
   ]
  },
  {
   "cell_type": "markdown",
   "metadata": {},
   "source": [
    "Functions can be arguments to functions:"
   ]
  },
  {
   "cell_type": "code",
   "execution_count": 35,
   "metadata": {
    "collapsed": false
   },
   "outputs": [
    {
     "data": {
      "text/plain": [
       "3"
      ]
     },
     "execution_count": 35,
     "metadata": {},
     "output_type": "execute_result"
    }
   ],
   "source": [
    "def add(x, y):\n",
    "    return x + y\n",
    "\n",
    "def compute(function, x, y):\n",
    "    return function(x, y)\n",
    "\n",
    "compute(add, 1, 2)"
   ]
  },
  {
   "cell_type": "markdown",
   "metadata": {},
   "source": [
    "Extending the behavior of functions that we don't want to modify:"
   ]
  },
  {
   "cell_type": "code",
   "execution_count": 47,
   "metadata": {
    "collapsed": false
   },
   "outputs": [
    {
     "name": "stdout",
     "output_type": "stream",
     "text": [
      "0.5\n",
      "None\n"
     ]
    }
   ],
   "source": [
    "def divide(numerator, denominator):\n",
    "    '''The function we don\\'t to modify.'''\n",
    "    return numerator/denominator\n",
    "\n",
    "def safe_division(function):\n",
    "    '''A function \"decorator\" to extend functionality of other function.'''\n",
    "    \n",
    "    def wrapper(numerator, denominator):\n",
    "        if denominator != 0:\n",
    "            return function(numerator, denominator)\n",
    "    return wrapper\n",
    "\n",
    "# Function \"decoration\".\n",
    "divide = safe_division(divide)\n",
    "\n",
    "print(divide(1,2))\n",
    "print(divide(1,0))"
   ]
  },
  {
   "cell_type": "markdown",
   "metadata": {},
   "source": [
    "The same example using a [decorator](http://thecodeship.com/patterns/guide-to-python-function-decorators/):"
   ]
  },
  {
   "cell_type": "code",
   "execution_count": 48,
   "metadata": {
    "collapsed": false
   },
   "outputs": [
    {
     "name": "stdout",
     "output_type": "stream",
     "text": [
      "0.5\n",
      "None\n"
     ]
    }
   ],
   "source": [
    "@safe_division\n",
    "def divide(numerator, denominator):\n",
    "    return numerator/denominator\n",
    "\n",
    "print(divide(1,2))\n",
    "print(divide(1,0))"
   ]
  },
  {
   "cell_type": "markdown",
   "metadata": {
    "collapsed": true
   },
   "source": [
    "## Lambda functions"
   ]
  },
  {
   "cell_type": "markdown",
   "metadata": {},
   "source": [
    "They are \"anonymous\" functions."
   ]
  },
  {
   "cell_type": "code",
   "execution_count": 1,
   "metadata": {
    "collapsed": false
   },
   "outputs": [
    {
     "name": "stdout",
     "output_type": "stream",
     "text": [
      "8\n"
     ]
    }
   ],
   "source": [
    "# Standard function:\n",
    "def power(x,y):\n",
    "    return x**y\n",
    "\n",
    "print(power(2,3))"
   ]
  },
  {
   "cell_type": "code",
   "execution_count": 2,
   "metadata": {
    "collapsed": false
   },
   "outputs": [
    {
     "name": "stdout",
     "output_type": "stream",
     "text": [
      "8\n"
     ]
    }
   ],
   "source": [
    "# Using a lambda function:\n",
    "power = lambda x,y: x**y\n",
    "\n",
    "print(power(2,3))"
   ]
  },
  {
   "cell_type": "markdown",
   "metadata": {},
   "source": [
    " Lambda functions are useful because they can de defined inline."
   ]
  },
  {
   "cell_type": "code",
   "execution_count": 15,
   "metadata": {
    "collapsed": false
   },
   "outputs": [
    {
     "name": "stdout",
     "output_type": "stream",
     "text": [
      "Help on class filter in module builtins:\n",
      "\n",
      "class filter(object)\n",
      " |  filter(function or None, iterable) --> filter object\n",
      " |  \n",
      " |  Return an iterator yielding those items of iterable for which function(item)\n",
      " |  is true. If function is None, return the items that are true.\n",
      " |  \n",
      " |  Methods defined here:\n",
      " |  \n",
      " |  __getattribute__(self, name, /)\n",
      " |      Return getattr(self, name).\n",
      " |  \n",
      " |  __iter__(self, /)\n",
      " |      Implement iter(self).\n",
      " |  \n",
      " |  __new__(*args, **kwargs) from builtins.type\n",
      " |      Create and return a new object.  See help(type) for accurate signature.\n",
      " |  \n",
      " |  __next__(self, /)\n",
      " |      Implement next(self).\n",
      " |  \n",
      " |  __reduce__(...)\n",
      " |      Return state information for pickling.\n",
      "\n"
     ]
    }
   ],
   "source": [
    "help(filter)"
   ]
  },
  {
   "cell_type": "code",
   "execution_count": 58,
   "metadata": {
    "collapsed": false
   },
   "outputs": [
    {
     "data": {
      "text/plain": [
       "[1, 3, 5, 7, 9]"
      ]
     },
     "execution_count": 58,
     "metadata": {},
     "output_type": "execute_result"
    }
   ],
   "source": [
    "# Create a list with odd numbers\n",
    "list(filter(lambda x: x%2, range(10)))"
   ]
  },
  {
   "cell_type": "code",
   "execution_count": 96,
   "metadata": {
    "collapsed": false
   },
   "outputs": [
    {
     "name": "stdout",
     "output_type": "stream",
     "text": [
      "[2, 3, 4, 5, 6, 7, 8, 9, 10, 11, 12, 13, 14, 15, 16, 17, 18, 19, ]\n",
      "[2, 3, 5, 7, 9, 11, 13, 15, 17, 19, ] 2\n",
      "[2, 3, 5, 7, 11, 13, 17, 19, ] 3\n"
     ]
    }
   ],
   "source": [
    "# https://en.wikipedia.org/wiki/Sieve_of_Eratosthenes\n",
    "import math\n",
    "N = 20\n",
    "primes = [True]*N\n",
    "\n",
    "print('[', end='')\n",
    "for j in range(2, N):\n",
    "    if primes[j]:\n",
    "        print(j, end=', ')\n",
    "print(']')\n",
    "\n",
    "for i in range(2, int(math.sqrt(N))):\n",
    "    if primes[i]:\n",
    "        for j in [i**2+x*i for x in range(N) if i**2+x*i<N]:\n",
    "            primes[j] = False\n",
    "\n",
    "    print('[', end='')\n",
    "    for j in range(2, N):\n",
    "        if primes[j]:\n",
    "            print(j, end=', ')\n",
    "    print(']', i)"
   ]
  },
  {
   "cell_type": "code",
   "execution_count": 98,
   "metadata": {
    "collapsed": false
   },
   "outputs": [
    {
     "name": "stdout",
     "output_type": "stream",
     "text": [
      "[2, 3, 4, 5, 6, 7, 8, 9, 10, 11, 12, 13, 14, 15, 16, 17, 18, 19]\n",
      "[2, 3, 5, 7, 9, 11, 13, 15, 17, 19] 2\n",
      "[2, 3, 5, 7, 11, 13, 17, 19] 3\n"
     ]
    }
   ],
   "source": [
    "# A different implementation of the Sieve of Eratosthenes\n",
    "# (http://stackoverflow.com/questions/27990094/finding-primes-with-modulo-in-python)\n",
    "primes = list(range(2, N))\n",
    "print(primes)\n",
    "for i in range(2, int(math.sqrt(N))):\n",
    "    primes = list(filter(lambda x: x == i or x % i, primes))\n",
    "    print(primes, i)"
   ]
  },
  {
   "cell_type": "code",
   "execution_count": null,
   "metadata": {
    "collapsed": true
   },
   "outputs": [],
   "source": []
  }
 ],
 "metadata": {
  "kernelspec": {
   "display_name": "Python 3",
   "language": "python",
   "name": "python3"
  },
  "language_info": {
   "codemirror_mode": {
    "name": "ipython",
    "version": 3
   },
   "file_extension": ".py",
   "mimetype": "text/x-python",
   "name": "python",
   "nbconvert_exporter": "python",
   "pygments_lexer": "ipython3",
   "version": "3.5.2"
  }
 },
 "nbformat": 4,
 "nbformat_minor": 1
}
