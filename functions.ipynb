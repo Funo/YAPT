{
 "cells": [
  {
   "cell_type": "markdown",
   "metadata": {},
   "source": [
    "# Functions"
   ]
  },
  {
   "cell_type": "code",
   "execution_count": 2,
   "metadata": {
    "collapsed": false
   },
   "outputs": [
    {
     "name": "stdout",
     "output_type": "stream",
     "text": [
      "Hello world!\n"
     ]
    }
   ],
   "source": [
    "def say_hello():\n",
    "    print('Hello world!')\n",
    "\n",
    "say_hello() "
   ]
  },
  {
   "cell_type": "code",
   "execution_count": 4,
   "metadata": {
    "collapsed": false
   },
   "outputs": [
    {
     "name": "stdout",
     "output_type": "stream",
     "text": [
      "2\n"
     ]
    }
   ],
   "source": [
    "def max(a, b):\n",
    "    if a > b:\n",
    "        return a\n",
    "    else:\n",
    "        return b\n",
    "\n",
    "print(max(1,2))"
   ]
  },
  {
   "cell_type": "code",
   "execution_count": 23,
   "metadata": {
    "collapsed": false
   },
   "outputs": [
    {
     "name": "stdout",
     "output_type": "stream",
     "text": [
      "True\n",
      "a = 1\n",
      "False\n",
      "locals() = {}\n",
      "locals() = {'a': 2}\n",
      "a = 2\n",
      "a = 1\n"
     ]
    }
   ],
   "source": [
    "a = 1\n",
    "def func():\n",
    "    # Functions create their own scope (or namespace)\n",
    "    print('a' in globals())\n",
    "    print('a =', globals()['a'])\n",
    "    print('a' in locals())\n",
    "    print('locals() =',locals())\n",
    "    a = 2\n",
    "    print('locals() =',locals())\n",
    "    print('a =', a)\n",
    "    \n",
    "func()\n",
    "print('a =', a)"
   ]
  },
  {
   "cell_type": "code",
   "execution_count": 24,
   "metadata": {
    "collapsed": false
   },
   "outputs": [
    {
     "name": "stdout",
     "output_type": "stream",
     "text": [
      "{}\n",
      "a = 1\n",
      "a = 1\n",
      "a = 1\n"
     ]
    }
   ],
   "source": [
    "a = 1\n",
    "def func():\n",
    "    # After the local scope, functions search in the globals()'s scope\n",
    "    print(locals())\n",
    "    print('a =', globals()['a'])\n",
    "    print('a =', a)\n",
    "    \n",
    "func()\n",
    "print('a =', a)"
   ]
  },
  {
   "cell_type": "code",
   "execution_count": 18,
   "metadata": {
    "collapsed": false
   },
   "outputs": [
    {
     "name": "stdout",
     "output_type": "stream",
     "text": [
      "1 2\n",
      "3 2\n",
      "4 3\n",
      "4 3\n",
      "1 3\n"
     ]
    }
   ],
   "source": [
    "def optional_args(a=1, b=2):\n",
    "    print(a, b)\n",
    "    \n",
    "optional_args()\n",
    "optional_args(3)\n",
    "optional_args(4,3)\n",
    "optional_args(b=3, a=4)\n",
    "optional_args(b=3)"
   ]
  },
  {
   "cell_type": "code",
   "execution_count": 24,
   "metadata": {
    "collapsed": false
   },
   "outputs": [
    {
     "name": "stdout",
     "output_type": "stream",
     "text": [
      "('hola', 'caracola', ('hola', 'caracola'))\n",
      "hola\n",
      "caracola\n",
      "('hola', 'caracola')\n"
     ]
    }
   ],
   "source": [
    "def variable_args(*vargs):\n",
    "    print(vargs)\n",
    "    for i in vargs:\n",
    "        print(i)\n",
    "    \n",
    "variable_args(\"hola\", \"caracola\", (\"hola\", \"caracola\"))"
   ]
  },
  {
   "cell_type": "code",
   "execution_count": 26,
   "metadata": {
    "collapsed": false
   },
   "outputs": [
    {
     "name": "stdout",
     "output_type": "stream",
     "text": [
      "{'a': 1, 'b': 'a'}\n",
      "a 1\n",
      "b a\n"
     ]
    }
   ],
   "source": [
    "def keyworded_args(**kargs):\n",
    "    print(kargs)\n",
    "    for i in kargs:\n",
    "        print(i, kargs[i])\n",
    "    \n",
    "keyworded_args(a=1, b='a')"
   ]
  },
  {
   "cell_type": "markdown",
   "metadata": {},
   "source": [
    "Functions can be nested:"
   ]
  },
  {
   "cell_type": "code",
   "execution_count": 26,
   "metadata": {
    "collapsed": false
   },
   "outputs": [
    {
     "name": "stdout",
     "output_type": "stream",
     "text": [
      "Hello world\n"
     ]
    }
   ],
   "source": [
    "def outter():\n",
    "    def inner():\n",
    "        print('Hello world')\n",
    "    inner()\n",
    "    \n",
    "outter()"
   ]
  },
  {
   "cell_type": "markdown",
   "metadata": {},
   "source": [
    "Functions are objects:"
   ]
  },
  {
   "cell_type": "code",
   "execution_count": 33,
   "metadata": {
    "collapsed": false
   },
   "outputs": [
    {
     "data": {
      "text/plain": [
       "['__annotations__',\n",
       " '__call__',\n",
       " '__class__',\n",
       " '__closure__',\n",
       " '__code__',\n",
       " '__defaults__',\n",
       " '__delattr__',\n",
       " '__dict__',\n",
       " '__dir__',\n",
       " '__doc__',\n",
       " '__eq__',\n",
       " '__format__',\n",
       " '__ge__',\n",
       " '__get__',\n",
       " '__getattribute__',\n",
       " '__globals__',\n",
       " '__gt__',\n",
       " '__hash__',\n",
       " '__init__',\n",
       " '__kwdefaults__',\n",
       " '__le__',\n",
       " '__lt__',\n",
       " '__module__',\n",
       " '__name__',\n",
       " '__ne__',\n",
       " '__new__',\n",
       " '__qualname__',\n",
       " '__reduce__',\n",
       " '__reduce_ex__',\n",
       " '__repr__',\n",
       " '__setattr__',\n",
       " '__sizeof__',\n",
       " '__str__',\n",
       " '__subclasshook__']"
      ]
     },
     "execution_count": 33,
     "metadata": {},
     "output_type": "execute_result"
    }
   ],
   "source": [
    "dir(outter)"
   ]
  },
  {
   "cell_type": "markdown",
   "metadata": {},
   "source": [
    "Functions can be arguments to functions:"
   ]
  },
  {
   "cell_type": "code",
   "execution_count": 35,
   "metadata": {
    "collapsed": false
   },
   "outputs": [
    {
     "data": {
      "text/plain": [
       "3"
      ]
     },
     "execution_count": 35,
     "metadata": {},
     "output_type": "execute_result"
    }
   ],
   "source": [
    "def add(x, y):\n",
    "    return x + y\n",
    "\n",
    "def compute(function, x, y):\n",
    "    return function(x, y)\n",
    "\n",
    "compute(add, 1, 2)"
   ]
  },
  {
   "cell_type": "markdown",
   "metadata": {},
   "source": [
    "Extending the behavior of functions that we don't want to modify:"
   ]
  },
  {
   "cell_type": "code",
   "execution_count": 47,
   "metadata": {
    "collapsed": false
   },
   "outputs": [
    {
     "name": "stdout",
     "output_type": "stream",
     "text": [
      "0.5\n",
      "None\n"
     ]
    }
   ],
   "source": [
    "def divide(numerator, denominator):\n",
    "    '''The function we don\\'t to modify.'''\n",
    "    return numerator/denominator\n",
    "\n",
    "def safe_division(function):\n",
    "    '''A function \"decorator\" to extend functionality of other function.'''\n",
    "    \n",
    "    def wrapper(numerator, denominator):\n",
    "        if denominator != 0:\n",
    "            return function(numerator, denominator)\n",
    "    return wrapper\n",
    "\n",
    "# Function \"decoration\".\n",
    "divide = safe_division(divide)\n",
    "\n",
    "print(divide(1,2))\n",
    "print(divide(1,0))"
   ]
  },
  {
   "cell_type": "markdown",
   "metadata": {},
   "source": [
    "The same example using a [decorator](http://thecodeship.com/patterns/guide-to-python-function-decorators/):"
   ]
  },
  {
   "cell_type": "code",
   "execution_count": 48,
   "metadata": {
    "collapsed": false
   },
   "outputs": [
    {
     "name": "stdout",
     "output_type": "stream",
     "text": [
      "0.5\n",
      "None\n"
     ]
    }
   ],
   "source": [
    "@safe_division\n",
    "def divide(numerator, denominator):\n",
    "    return numerator/denominator\n",
    "\n",
    "print(divide(1,2))\n",
    "print(divide(1,0))"
   ]
  },
  {
   "cell_type": "code",
   "execution_count": null,
   "metadata": {
    "collapsed": true
   },
   "outputs": [],
   "source": []
  }
 ],
 "metadata": {
  "kernelspec": {
   "display_name": "Python 3",
   "language": "python",
   "name": "python3"
  },
  "language_info": {
   "codemirror_mode": {
    "name": "ipython",
    "version": 3
   },
   "file_extension": ".py",
   "mimetype": "text/x-python",
   "name": "python",
   "nbconvert_exporter": "python",
   "pygments_lexer": "ipython3",
   "version": "3.5.2"
  }
 },
 "nbformat": 4,
 "nbformat_minor": 1
}
