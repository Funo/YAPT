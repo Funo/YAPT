{
 "cells": [
  {
   "cell_type": "markdown",
   "metadata": {},
   "source": [
    "# Code organization\n",
    "Python statements (code in general) are usually stored in files. Let's see [how these files can be organized](https://stephensugden.com/crash_into_python/CodeOrganization.html) in the file-system and how to structure this code."
   ]
  },
  {
   "cell_type": "markdown",
   "metadata": {},
   "source": [
    "## [Packages](https://docs.python.org/3/tutorial/modules.html#packages)\n",
    "\n",
    "Packages contain modules (files) and other packages (directories). Example:\n",
    "<!--\n",
    "```\n",
    "package1/\n",
    "    __init__.py\n",
    "    module1.py\n",
    "    package2/\n",
    "        __init__.py\n",
    "        module2.py\n",
    "``` -->"
   ]
  },
  {
   "cell_type": "code",
   "execution_count": 2,
   "metadata": {
    "collapsed": false
   },
   "outputs": [
    {
     "name": "stdout",
     "output_type": "stream",
     "text": [
      "package1/\r\n",
      "├── __init__.py\r\n",
      "├── __init__.pyc\r\n",
      "├── __init__.py~\r\n",
      "├── __main__.py\r\n",
      "├── __pycache__\r\n",
      "│   ├── __init__.cpython-35.pyc\r\n",
      "│   └── module1.cpython-35.pyc\r\n",
      "├── module1.py\r\n",
      "├── module1.pyc\r\n",
      "├── module1.py~\r\n",
      "└── package2\r\n",
      "    ├── __init__.py\r\n",
      "    ├── __init__.pyc\r\n",
      "    ├── __init__.py~\r\n",
      "    ├── __main__.py\r\n",
      "    ├── __pycache__\r\n",
      "    │   ├── __init__.cpython-35.pyc\r\n",
      "    │   └── module2.cpython-35.pyc\r\n",
      "    ├── module2.py\r\n",
      "    ├── module2.pyc\r\n",
      "    └── module2.py~\r\n",
      "\r\n",
      "3 directories, 18 files\r\n"
     ]
    }
   ],
   "source": [
    "! tree package1/"
   ]
  },
  {
   "cell_type": "markdown",
   "metadata": {},
   "source": [
    "All packages must have a `__init__.py` (even empty) file. The content of these files are executed when the modules are imported:"
   ]
  },
  {
   "cell_type": "code",
   "execution_count": 10,
   "metadata": {
    "collapsed": false
   },
   "outputs": [
    {
     "name": "stdout",
     "output_type": "stream",
     "text": [
      "print(\"package1/__init__.py executed\")\r\n",
      "from . import module1\r\n",
      "from package1 import package2\r\n",
      "\r\n"
     ]
    }
   ],
   "source": [
    "! cat ./package1/__init__.py"
   ]
  },
  {
   "cell_type": "code",
   "execution_count": 11,
   "metadata": {
    "collapsed": false
   },
   "outputs": [
    {
     "name": "stdout",
     "output_type": "stream",
     "text": [
      "print(\"package1/module1.py executed\")\r\n",
      "a = 1\r\n"
     ]
    }
   ],
   "source": [
    "! cat ./package1/module1.py"
   ]
  },
  {
   "cell_type": "code",
   "execution_count": 12,
   "metadata": {
    "collapsed": false
   },
   "outputs": [
    {
     "name": "stdout",
     "output_type": "stream",
     "text": [
      "print(\"package1/package2/__init__.py excuted\")\r\n",
      "from . import module2\r\n",
      "\r\n"
     ]
    }
   ],
   "source": [
    "! cat ./package1/package2/__init__.py"
   ]
  },
  {
   "cell_type": "code",
   "execution_count": 13,
   "metadata": {
    "collapsed": false
   },
   "outputs": [
    {
     "name": "stdout",
     "output_type": "stream",
     "text": [
      "print(\"package1/package2/module2.py executed\")\r\n",
      "b = 2\r\n",
      "\r\n"
     ]
    }
   ],
   "source": [
    "! cat ./package1/package2/module2.py"
   ]
  },
  {
   "cell_type": "code",
   "execution_count": 14,
   "metadata": {
    "collapsed": false
   },
   "outputs": [
    {
     "name": "stdout",
     "output_type": "stream",
     "text": [
      "package1/__init__.py executed\r\n",
      "package1/module1.py executed\r\n",
      "package1/package2/__init__.py excuted\r\n",
      "package1/package2/module2.py executed\r\n"
     ]
    }
   ],
   "source": [
    "! python -c 'import package1'"
   ]
  },
  {
   "cell_type": "code",
   "execution_count": 15,
   "metadata": {
    "collapsed": false
   },
   "outputs": [
    {
     "name": "stdout",
     "output_type": "stream",
     "text": [
      "package1/__init__.py executed\r\n",
      "package1/module1.py executed\r\n",
      "package1/package2/__init__.py excuted\r\n",
      "package1/package2/module2.py executed\r\n"
     ]
    }
   ],
   "source": [
    "! python -c 'import package1.package2'"
   ]
  },
  {
   "cell_type": "code",
   "execution_count": 16,
   "metadata": {
    "collapsed": false
   },
   "outputs": [
    {
     "name": "stdout",
     "output_type": "stream",
     "text": [
      "package1/package2/__init__.py excuted\r\n",
      "package1/package2/module2.py executed\r\n"
     ]
    }
   ],
   "source": [
    "! (cd ./package1; python -c 'import package2')"
   ]
  },
  {
   "cell_type": "markdown",
   "metadata": {},
   "source": [
    "## [Modules](https://docs.python.org/3/tutorial/modules.html)\n",
    "Modules contain classes, functions, variables and executable statements. Modules can be also imported:"
   ]
  },
  {
   "cell_type": "code",
   "execution_count": null,
   "metadata": {
    "collapsed": true
   },
   "outputs": [],
   "source": [
    "! (cd ./package1; python -c \"import module1\" )"
   ]
  },
  {
   "cell_type": "markdown",
   "metadata": {},
   "source": [
    "All objects declared in modules are public."
   ]
  },
  {
   "cell_type": "code",
   "execution_count": 34,
   "metadata": {
    "collapsed": false
   },
   "outputs": [
    {
     "name": "stdout",
     "output_type": "stream",
     "text": [
      "package1/module1.py executed\r\n",
      "['__builtins__', '__doc__', '__file__', '__name__', '__package__', 'a']\r\n",
      "('a =', 1)\r\n"
     ]
    }
   ],
   "source": [
    "! (cd ./package1; python -c \"import module1; print(dir(module1))\" )"
   ]
  },
  {
   "cell_type": "code",
   "execution_count": 35,
   "metadata": {
    "collapsed": false
   },
   "outputs": [
    {
     "name": "stdout",
     "output_type": "stream",
     "text": [
      "package1/module1.py executed\r\n",
      "('a =', 1)\r\n"
     ]
    }
   ],
   "source": [
    "! (cd ./package1; python -c \"import module1; print('a =',module1.a)\" )"
   ]
  },
  {
   "cell_type": "markdown",
   "metadata": {
    "collapsed": true
   },
   "source": [
    "## Objects, statements and functions\n",
    "[Objects](https://docs.python.org/3/tutorial/classes.html) (instantation of classes) contain [statements](https://docs.python.org/3/reference/simple_stmts.html), [functions](http://www.learnpython.org/en/Functions) and other objects."
   ]
  },
  {
   "cell_type": "code",
   "execution_count": 40,
   "metadata": {
    "collapsed": false
   },
   "outputs": [
    {
     "name": "stdout",
     "output_type": "stream",
     "text": [
      "A.a = 1\n",
      "Hi you!\n"
     ]
    }
   ],
   "source": [
    "class A:\n",
    "    a = 1\n",
    "    def say_something_to(self, b):\n",
    "        print('Hi', b)\n",
    "        \n",
    "print('A.a =', A.a)\n",
    "x = A()\n",
    "x.say_something_to('you!')"
   ]
  }
 ],
 "metadata": {
  "kernelspec": {
   "display_name": "Python 3",
   "language": "python",
   "name": "python3"
  },
  "language_info": {
   "codemirror_mode": {
    "name": "ipython",
    "version": 3
   },
   "file_extension": ".py",
   "mimetype": "text/x-python",
   "name": "python",
   "nbconvert_exporter": "python",
   "pygments_lexer": "ipython3",
   "version": "3.6.0"
  }
 },
 "nbformat": 4,
 "nbformat_minor": 1
}
