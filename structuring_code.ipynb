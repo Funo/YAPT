{
 "cells": [
  {
   "cell_type": "markdown",
   "metadata": {},
   "source": [
    "# Code hierarchy"
   ]
  },
  {
   "cell_type": "markdown",
   "metadata": {},
   "source": [
    "## [Packages](https://docs.python.org/3/tutorial/modules.html#packages)\n",
    "\n",
    "Packages contain modules and other packages.\n",
    "\n",
    "```\n",
    "package1/\n",
    "    __init__.py\n",
    "    module1.py\n",
    "    package2/\n",
    "        __init__.py\n",
    "        module2.py\n",
    "```"
   ]
  },
  {
   "cell_type": "markdown",
   "metadata": {},
   "source": [
    "All packages must have a `__init__.py` (even empty) file. The content of this file is executed when the module is imported:"
   ]
  },
  {
   "cell_type": "markdown",
   "metadata": {
    "collapsed": false
   },
   "source": [
    "```\n",
    "$ python\n",
    ">>> import package1\n",
    "module1 imported\n",
    "module2 imported\n",
    "package2 imported\n",
    "package1 imported\n",
    ">>> print(dir(package1))\n",
    "#import package1.module1\n",
    "print(dir(package1.module1))\n",
    "print(\"package1.module1.a =\", package1.module1.a)\n",
    "import package1.package2\n",
    "import package1.package2.module2\n",
    "```"
   ]
  },
  {
   "cell_type": "markdown",
   "metadata": {},
   "source": [
    "## [Modules](https://docs.python.org/3/tutorial/modules.html)\n",
    "Modules contain classes, functions, variables and executable statements."
   ]
  },
  {
   "cell_type": "markdown",
   "metadata": {
    "collapsed": true
   },
   "source": [
    "## Classes"
   ]
  },
  {
   "cell_type": "markdown",
   "metadata": {},
   "source": [
    "## Methods/Functions"
   ]
  },
  {
   "cell_type": "markdown",
   "metadata": {},
   "source": []
  },
  {
   "cell_type": "markdown",
   "metadata": {},
   "source": [
    "Packages contain modules and other packages.\n",
    "\n",
    "function = {{function}, {literal}, {local variables}}\n",
    "\n",
    "\n",
    "Funtions are collections of instructions and. Methods are collections of \n",
    "\n",
    "\n",
    "Packages are collections of modules and (possiblely) other packages. Modules are collections of classes and (possiblely) other modules. Classes are collections of variables, methods and (possiblely) other classes. Methods are collections of instructions and variables."
   ]
  }
 ],
 "metadata": {
  "kernelspec": {
   "display_name": "Python 3",
   "language": "python",
   "name": "python3"
  },
  "language_info": {
   "codemirror_mode": {
    "name": "ipython",
    "version": 3
   },
   "file_extension": ".py",
   "mimetype": "text/x-python",
   "name": "python",
   "nbconvert_exporter": "python",
   "pygments_lexer": "ipython3",
   "version": "3.5.1rc1"
  }
 },
 "nbformat": 4,
 "nbformat_minor": 1
}
