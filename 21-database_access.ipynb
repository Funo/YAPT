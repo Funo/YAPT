{
 "cells": [
  {
   "cell_type": "code",
   "execution_count": null,
   "metadata": {
    "collapsed": true
   },
   "outputs": [],
   "source": [
    "# MySQL"
   ]
  },
  {
   "cell_type": "code",
   "execution_count": null,
   "metadata": {
    "collapsed": true
   },
   "outputs": [],
   "source": [
    "import pymysql\n",
    "\n",
    "# Establecemos la conexion con la base de datos\n",
    "bd = pymysql.connect(\"localhost\",\"root”,\"gebd”,\"RRHH\" )\n",
    " \n",
    "# Preparamos el cursor que nos va a ayudar a realizar las operaciones con la base de datos\n",
    "cursor = bd.cursor()\n",
    " \n",
    "# Ejecutamos un query SQL usando el metodo execute() que nos proporciona el cursor\n",
    "cursor.execute(\"SELECT * FROM Empleado\")\n",
    " \n",
    "resultado = cursor.fetchall()\n",
    " \n",
    "# Extraemos una sola fila usando el metodo fetchone()\n",
    "for fila in resultado:\n",
    "    print \"%s %s %s\" % (fila[0], fila[1], fila[2])\n",
    " \n",
    "# Nos desconectamos de la base de datos\n",
    "bd.close()"
   ]
  }
 ],
 "metadata": {
  "kernelspec": {
   "display_name": "Python 3",
   "language": "python",
   "name": "python3"
  },
  "language_info": {
   "codemirror_mode": {
    "name": "ipython",
    "version": 3
   },
   "file_extension": ".py",
   "mimetype": "text/x-python",
   "name": "python",
   "nbconvert_exporter": "python",
   "pygments_lexer": "ipython3",
   "version": "3.5.2"
  }
 },
 "nbformat": 4,
 "nbformat_minor": 1
}
