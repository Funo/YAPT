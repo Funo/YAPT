{
 "cells": [
  {
   "cell_type": "markdown",
   "metadata": {},
   "source": [
    "# [Concurrency](https://en.wikipedia.org/wiki/Concurrency_(computer_science)\n",
    "It is the possibility of running code in parallel with other codes."
   ]
  },
  {
   "cell_type": "markdown",
   "metadata": {},
   "source": [
    "## Threads"
   ]
  },
  {
   "cell_type": "code",
   "execution_count": 17,
   "metadata": {
    "collapsed": false
   },
   "outputs": [
    {
     "name": "stdout",
     "output_type": "stream",
     "text": [
      ".O(Both threads started)\n",
      "O.OO.O.OO.OO.O.OO.OO.O.OOOOO\n",
      "Both threads finished\n"
     ]
    }
   ],
   "source": [
    "import threading\n",
    "import time\n",
    "import sys\n",
    "\n",
    "def task_1():\n",
    "    for i in range(10):\n",
    "        print('.', end='')\n",
    "        sys.stdout.flush()\n",
    "        time.sleep(1)\n",
    "        \n",
    "def task_2():\n",
    "    for i in range(20):\n",
    "        print('O', end='')\n",
    "        sys.stdout.flush()\n",
    "        time.sleep(0.6)\n",
    "        \n",
    "thread_1 = threading.Thread(target=task_1)\n",
    "thread_2 = threading.Thread(target=task_2)\n",
    "\n",
    "thread_1.start()\n",
    "thread_2.start()\n",
    "print(\"(Both threads started)\")\n",
    "\n",
    "thread_1.join()\n",
    "thread_2.join()\n",
    "print(\"\\nBoth threads finished\")"
   ]
  },
  {
   "cell_type": "markdown",
   "metadata": {},
   "source": [
    "## Processes"
   ]
  },
  {
   "cell_type": "code",
   "execution_count": 18,
   "metadata": {
    "collapsed": false
   },
   "outputs": [
    {
     "name": "stdout",
     "output_type": "stream",
     "text": [
      "O.(Both processes started)\n",
      "O.OO.OO.O.OO.O.OO.OO.O.OOOOO\n",
      "Both processes finished\n"
     ]
    }
   ],
   "source": [
    "import multiprocessing\n",
    "import time\n",
    "import sys\n",
    "\n",
    "def task_1():\n",
    "    for i in range(10):\n",
    "        print('.', end='')\n",
    "        sys.stdout.flush()\n",
    "        time.sleep(1)\n",
    "        \n",
    "def task_2():\n",
    "    for i in range(20):\n",
    "        print('O', end='')\n",
    "        sys.stdout.flush()\n",
    "        time.sleep(0.6)\n",
    "        \n",
    "process_1 = multiprocessing.Process(target=task_1)\n",
    "process_2 = multiprocessing.Process(target=task_2)\n",
    "\n",
    "process_1.start()\n",
    "process_2.start()\n",
    "print(\"(Both processes started)\")\n",
    "\n",
    "process_1.join()\n",
    "process_2.join()\n",
    "print(\"\\nBoth processes finished\")"
   ]
  },
  {
   "cell_type": "markdown",
   "metadata": {},
   "source": [
    "## Using critical sections\n",
    "A critical section is a region of code that can not run in parallel."
   ]
  },
  {
   "cell_type": "code",
   "execution_count": 2,
   "metadata": {
    "collapsed": false
   },
   "outputs": [
    {
     "name": "stdout",
     "output_type": "stream",
     "text": [
      ".O(Both threads started)\n",
      "O.OO.O.OO.OO.O.OO.OO.O.OOOOO\n",
      "Both threads finished\n",
      "counter = -10\n"
     ]
    }
   ],
   "source": [
    "import threading\n",
    "import time\n",
    "import sys\n",
    "\n",
    "lock = threading.Lock()\n",
    "counter = 0\n",
    "\n",
    "def task_1():\n",
    "    global counter\n",
    "    for i in range(10):\n",
    "        print('.', end='')\n",
    "        sys.stdout.flush()\n",
    "        with lock:\n",
    "            counter += 1\n",
    "        time.sleep(1)\n",
    "        \n",
    "def task_2():\n",
    "    global counter\n",
    "    for i in range(20):\n",
    "        print('O', end='')\n",
    "        sys.stdout.flush()\n",
    "        with lock:\n",
    "            counter -= 1\n",
    "        time.sleep(0.6)\n",
    "        \n",
    "thread_1 = threading.Thread(target=task_1)\n",
    "thread_2 = threading.Thread(target=task_2)\n",
    "\n",
    "thread_1.start()\n",
    "thread_2.start()\n",
    "print(\"(Both threads started)\")\n",
    "\n",
    "thread_1.join()\n",
    "thread_2.join()\n",
    "print(\"\\nBoth threads finished\")\n",
    "\n",
    "print('counter =', counter)"
   ]
  },
  {
   "cell_type": "code",
   "execution_count": null,
   "metadata": {
    "collapsed": true
   },
   "outputs": [],
   "source": [
    "https://www.youtube.com/watch?v=Bv25Dwe84g0"
   ]
  },
  {
   "cell_type": "markdown",
   "metadata": {},
   "source": [
    "## Coroutines (systolic computation)"
   ]
  },
  {
   "cell_type": "code",
   "execution_count": null,
   "metadata": {
    "collapsed": true
   },
   "outputs": [],
   "source": [
    "def task_1():\n",
    "    for i in range(10):\n",
    "        received = yield\n",
    "        \n",
    "def task_2():\n",
    "    for i in range(20):\n",
    "        received = yield"
   ]
  }
 ],
 "metadata": {
  "kernelspec": {
   "display_name": "Python 3",
   "language": "python",
   "name": "python3"
  },
  "language_info": {
   "codemirror_mode": {
    "name": "ipython",
    "version": 3
   },
   "file_extension": ".py",
   "mimetype": "text/x-python",
   "name": "python",
   "nbconvert_exporter": "python",
   "pygments_lexer": "ipython3",
   "version": "3.5.2"
  }
 },
 "nbformat": 4,
 "nbformat_minor": 1
}
