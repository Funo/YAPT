{
 "cells": [
  {
   "cell_type": "markdown",
   "metadata": {},
   "source": [
    "# [Concurrency](https://en.wikipedia.org/wiki/Concurrency_(computer_science)\n",
    "It is the possibility of running code in parallel with other codes."
   ]
  },
  {
   "cell_type": "markdown",
   "metadata": {},
   "source": [
    "## Threads\n",
    "Parallel execution of code which can share objects easely. Supported by GIL. "
   ]
  },
  {
   "cell_type": "code",
   "execution_count": null,
   "metadata": {
    "collapsed": false
   },
   "outputs": [],
   "source": [
    "import threading\n",
    "import time\n",
    "import sys\n",
    "\n",
    "a = ''\n",
    "\n",
    "def task_1():\n",
    "    global a\n",
    "    for i in range(10):\n",
    "        print('1{}'.format(a), end='')\n",
    "        sys.stdout.flush()\n",
    "        a = '.'\n",
    "        time.sleep(1)\n",
    "        \n",
    "def task_2():\n",
    "    global a\n",
    "    for i in range(20):\n",
    "        print('2{}'.format(a), end='')\n",
    "        sys.stdout.flush()\n",
    "        a = '-'\n",
    "        time.sleep(0.6)\n",
    "        \n",
    "thread_1 = threading.Thread(target=task_1)\n",
    "thread_2 = threading.Thread(target=task_2)\n",
    "\n",
    "thread_1.start()\n",
    "thread_2.start()\n",
    "print(\"(Both threads have started)\")\n",
    "\n",
    "thread_1.join()\n",
    "thread_2.join()\n",
    "print(\"\\nBoth threads have finished\")"
   ]
  },
  {
   "cell_type": "markdown",
   "metadata": {},
   "source": [
    "## Processes\n",
    "Parallel execution of code that have a larger CPU overhead when sharing objects. Supported by the OS."
   ]
  },
  {
   "cell_type": "code",
   "execution_count": null,
   "metadata": {
    "collapsed": false
   },
   "outputs": [],
   "source": [
    "import multiprocessing\n",
    "import time\n",
    "import sys\n",
    "\n",
    "a = ''\n",
    "\n",
    "def task_1():\n",
    "    global a\n",
    "    for i in range(10):\n",
    "        print('1{}'.format(a), end='')\n",
    "        sys.stdout.flush()\n",
    "        a = '.'\n",
    "        time.sleep(1)\n",
    "        \n",
    "def task_2():\n",
    "    global a\n",
    "    for i in range(20):\n",
    "        print('2{}'.format(a), end='')\n",
    "        sys.stdout.flush()\n",
    "        a = '-'\n",
    "        time.sleep(0.6)\n",
    "        \n",
    "process_1 = multiprocessing.Process(target=task_1)\n",
    "process_2 = multiprocessing.Process(target=task_2)\n",
    "\n",
    "process_1.start()\n",
    "process_2.start()\n",
    "print(\"(Both processes have started)\")\n",
    "\n",
    "process_1.join()\n",
    "process_2.join()\n",
    "print(\"\\nBoth processes have finished\")"
   ]
  },
  {
   "cell_type": "markdown",
   "metadata": {},
   "source": [
    "## Using critical sections\n",
    "A critical section is a region of code that should not run in parallel."
   ]
  },
  {
   "cell_type": "code",
   "execution_count": null,
   "metadata": {
    "collapsed": false
   },
   "outputs": [],
   "source": [
    "# Two threads that have a critical section executed in parallel\n",
    "import threading\n",
    "import time\n",
    "import sys\n",
    "\n",
    "counter = 10\n",
    "\n",
    "def task_1():\n",
    "    global counter\n",
    "    for i in range(1000000):\n",
    "        counter += 1\n",
    "        \n",
    "def task_2():\n",
    "    global counter\n",
    "    for i in range(1000001):\n",
    "        counter -= 1\n",
    "        \n",
    "thread_1 = threading.Thread(target=task_1)\n",
    "thread_2 = threading.Thread(target=task_2)\n",
    "\n",
    "thread_1.start()\n",
    "thread_2.start()\n",
    "print(\"(Both threads started)\")\n",
    "\n",
    "thread_1.join()\n",
    "thread_2.join()\n",
    "print(\"\\nBoth threads finished\")\n",
    "\n",
    "print('counter =', counter)"
   ]
  },
  {
   "cell_type": "code",
   "execution_count": null,
   "metadata": {
    "collapsed": false
   },
   "outputs": [],
   "source": [
    "# Two threads that have a critical section executed sequentially\n",
    "import threading\n",
    "import time\n",
    "import sys\n",
    "\n",
    "lock = threading.Lock()\n",
    "counter = 10\n",
    "\n",
    "def task_1():\n",
    "    global counter\n",
    "    for i in range(1000000):\n",
    "        with lock:\n",
    "            counter += 1\n",
    "        \n",
    "def task_2():\n",
    "    global counter\n",
    "    for i in range(1000001):\n",
    "        with lock:\n",
    "            counter -= 1\n",
    "        \n",
    "thread_1 = threading.Thread(target=task_1)\n",
    "thread_2 = threading.Thread(target=task_2)\n",
    "\n",
    "thread_1.start()\n",
    "thread_2.start()\n",
    "print(\"(Both threads started)\")\n",
    "\n",
    "thread_1.join()\n",
    "thread_2.join()\n",
    "print(\"\\nBoth threads finished\")\n",
    "\n",
    "print('counter =', counter)"
   ]
  },
  {
   "cell_type": "markdown",
   "metadata": {},
   "source": [
    "## Synchronizing parallel tasks"
   ]
  },
  {
   "cell_type": "markdown",
   "metadata": {},
   "source": [
    "Using a queue."
   ]
  },
  {
   "cell_type": "code",
   "execution_count": 19,
   "metadata": {
    "collapsed": false
   },
   "outputs": [
    {
     "name": "stdout",
     "output_type": "stream",
     "text": [
      "Produced 1 (queue length = 1)10 Consumed 1 (queue length = 0)\n",
      "\n",
      "Produced 7 (queue length = 1)10 Consumed 7 (queue length = 0)\n",
      "\n",
      "Produced 10 (queue length = 1)Consumed 10 (queue length = 0)\n",
      "\n",
      "Produced 10 (queue length = 1)10 Consumed 10 (queue length = 0)\n",
      "\n",
      "Produced 1 (queue length = 1)\n",
      "10 Consumed 1 (queue length = 0)\n",
      "Produced 7 (queue length = 1)\n",
      "Consumed 7 (queue length = 0)\n",
      "Produced 6 (queue length = 1)\n",
      "10 Consumed 6 (queue length = 0)\n",
      "Produced 7 (queue length = 1)\n",
      "Consumed 7 (queue length = 0)\n",
      "Produced 3 (queue length = 1)\n",
      "10 Consumed 3 (queue length = 0)\n",
      "Produced 5 (queue length = 1)\n",
      "Consumed 5 (queue length = 0)\n"
     ]
    }
   ],
   "source": [
    "import threading\n",
    "import time\n",
    "import random\n",
    "import queue\n",
    "\n",
    "queue_length = 10\n",
    "q = queue.Queue(queue_length)\n",
    "\n",
    "class Producer(threading.Thread):\n",
    "    def __init__(self, iters=10):\n",
    "        super(Producer,self).__init__()\n",
    "        self.iters = iters\n",
    "\n",
    "    def run(self):\n",
    "        i = 0\n",
    "        while i < self.iters:\n",
    "            if not q.full():\n",
    "                item = random.randint(1,10)\n",
    "                q.put(item)\n",
    "                print('Produced {} (queue length = {})'.format(item,q.qsize()))\n",
    "                i += 1\n",
    "                time.sleep(random.random())\n",
    "        return\n",
    "\n",
    "class Consumer(threading.Thread):\n",
    "    def __init__(self, iters=10):\n",
    "        super(Consumer,self).__init__()\n",
    "        self.iters = iters\n",
    "\n",
    "    def run(self):\n",
    "        i = 0\n",
    "        while i < self.iters:\n",
    "            if not q.empty():\n",
    "                item = q.get()\n",
    "                print('Consumed {} (queue length = {})'.format(item,q.qsize()))\n",
    "                i += 1\n",
    "                time.sleep(random.random())\n",
    "        return\n",
    "\n",
    "Producer().start()\n",
    "Consumer().start()"
   ]
  },
  {
   "cell_type": "markdown",
   "metadata": {},
   "source": [
    "Using a socket."
   ]
  },
  {
   "cell_type": "markdown",
   "metadata": {},
   "source": [
    "## Coroutines (systolic computation)"
   ]
  },
  {
   "cell_type": "code",
   "execution_count": null,
   "metadata": {
    "collapsed": true
   },
   "outputs": [],
   "source": [
    "def task_1():\n",
    "    for i in range(10):\n",
    "        received = yield\n",
    "        \n",
    "def task_2():\n",
    "    for i in range(20):\n",
    "        received = yield"
   ]
  },
  {
   "cell_type": "code",
   "execution_count": null,
   "metadata": {
    "collapsed": true
   },
   "outputs": [],
   "source": [
    "https://www.youtube.com/watch?v=Bv25Dwe84g0"
   ]
  }
 ],
 "metadata": {
  "kernelspec": {
   "display_name": "Python 3",
   "language": "python",
   "name": "python3"
  },
  "language_info": {
   "codemirror_mode": {
    "name": "ipython",
    "version": 3
   },
   "file_extension": ".py",
   "mimetype": "text/x-python",
   "name": "python",
   "nbconvert_exporter": "python",
   "pygments_lexer": "ipython3",
   "version": "3.5.2"
  }
 },
 "nbformat": 4,
 "nbformat_minor": 1
}
