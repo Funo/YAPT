{
 "cells": [
  {
   "cell_type": "markdown",
   "metadata": {},
   "source": [
    "# Optimizing\n",
    "\n",
    "Running faster your code."
   ]
  },
  {
   "cell_type": "markdown",
   "metadata": {},
   "source": [
    "## Measuring times"
   ]
  },
  {
   "cell_type": "code",
   "execution_count": 12,
   "metadata": {},
   "outputs": [
    {
     "name": "stdout",
     "output_type": "stream",
     "text": [
      "The slowest run took 26881.47 times longer than the fastest. This could mean that an intermediate result is being cached.\n",
      "100000 loops, best of 3: 2.64 µs per loop\n"
     ]
    }
   ],
   "source": [
    "import numpy as np\n",
    "a = np.arange(1000)\n",
    "%timeit a**2"
   ]
  },
  {
   "cell_type": "markdown",
   "metadata": {},
   "source": [
    "## Profiling"
   ]
  },
  {
   "cell_type": "code",
   "execution_count": 19,
   "metadata": {},
   "outputs": [
    {
     "data": {
      "text/plain": [
       "'3.1415926535897931159979634685441851615905761718750000000000000000000000000000000000000000000000000000'"
      ]
     },
     "execution_count": 19,
     "metadata": {},
     "output_type": "execute_result"
    }
   ],
   "source": [
    "'{:.100f}'.format(pi)"
   ]
  },
  {
   "cell_type": "code",
   "execution_count": 2,
   "metadata": {},
   "outputs": [
    {
     "name": "stdout",
     "output_type": "stream",
     "text": [
      "1000 loops, best of 3: 283 µs per loop\n"
     ]
    }
   ],
   "source": [
    "%timeit map(lambda x: x^2, range(1000))"
   ]
  },
  {
   "cell_type": "code",
   "execution_count": 1,
   "metadata": {},
   "outputs": [
    {
     "name": "stdout",
     "output_type": "stream",
     "text": [
      "10000 loops, best of 3: 284 usec per loop\r\n"
     ]
    }
   ],
   "source": [
    "!python -m timeit -n 10000 'map(lambda x: x^2, range(1000))'"
   ]
  },
  {
   "cell_type": "markdown",
   "metadata": {
    "collapsed": true
   },
   "source": [
    "## Delegating in C\n",
    "When you want to speed-up your code or simply when you need to reuse C code, it is possible to use from Python. There are several alternatives:\n",
    "\n",
    "1. [Cython](http://cython.org/): A superset of Python to allow you call C functions and load Python variables with C ones. \n",
    "2. [SWIG (Simplified Wrapper Interface Generator)](http://www.swig.org/): A software development tool to connect C/C++ programs with other languages (included Python).\n",
    "3. [Ctypes](http://python.net/crew/theller/ctypes/): A Python package that can be used to call shared libraries (`.ddl`/`.so`/`.dylib`) from Python.\n",
    "4. [Python-C-API](https://docs.python.org/3.6/c-api/index.html): A low-level interface between (compiled) C code and Python.\n",
    "\n",
    "We will show how to use Python-C-API because is the most flexible and efficient alternative. However, it is also the hardest to code."
   ]
  },
  {
   "cell_type": "markdown",
   "metadata": {},
   "source": [
    "### The C code to reuse in Python"
   ]
  },
  {
   "cell_type": "code",
   "execution_count": 2,
   "metadata": {},
   "outputs": [
    {
     "name": "stdout",
     "output_type": "stream",
     "text": [
      "long int sum_array(double* a, int N) {\r\n",
      "  int i;\r\n",
      "  double sum = 0;\r\n",
      "  for(i=0; i<N; i++) {\r\n",
      "    sum += *a+i;\r\n",
      "  }\r\n",
      "  return sum;\r\n",
      "}\r\n"
     ]
    }
   ],
   "source": [
    "!cat sum_array_lib.c"
   ]
  },
  {
   "cell_type": "code",
   "execution_count": 4,
   "metadata": {},
   "outputs": [
    {
     "name": "stdout",
     "output_type": "stream",
     "text": [
      "#include <stdio.h>\r\n",
      "#include <time.h>\r\n",
      "#include \"sum_array_lib.c\"\r\n",
      "\r\n",
      "#define N 100000\r\n",
      "\r\n",
      "int main() {\r\n",
      "  double a[N];\r\n",
      "  int i;\r\n",
      "  clock_t start, end;\r\n",
      "  double cpu_time;\r\n",
      "  for(i=0; i<N; i++) {\r\n",
      "    a[i] = i;\r\n",
      "  }\r\n",
      "  start = clock();\r\n",
      "  double sum = sum_array(a,N);\r\n",
      "  end = clock();\r\n",
      "  printf(\"%ld \", sum);\r\n",
      "  cpu_time = ((double) (end - start)) / CLOCKS_PER_SEC;\r\n",
      "  cpu_time *= 1000000;\r\n",
      "  printf(\"%f usegs\\n\", cpu_time);\r\n",
      "}\r\n"
     ]
    }
   ],
   "source": [
    "!cat sum_array.c"
   ]
  },
  {
   "cell_type": "code",
   "execution_count": 10,
   "metadata": {},
   "outputs": [
    {
     "name": "stdout",
     "output_type": "stream",
     "text": [
      "4999950000.000000 165.000000 usegs\r\n"
     ]
    }
   ],
   "source": [
    "!gcc -O3 sum_array.c -o sum_array\n",
    "!./sum_array"
   ]
  },
  {
   "cell_type": "markdown",
   "metadata": {},
   "source": [
    "### The module"
   ]
  },
  {
   "cell_type": "code",
   "execution_count": 11,
   "metadata": {},
   "outputs": [
    {
     "name": "stdout",
     "output_type": "stream",
     "text": [
      "#include <stdio.h>\r\n",
      "#include <stdlib.h>\r\n",
      "#include <time.h>\r\n",
      "#include <Python.h>            /* Compulsory in every module */\r\n",
      "#include <numpy/arrayobject.h> /* To interact with numpy arrays */\r\n",
      "#include \"sum_array_lib.c\"\r\n",
      "\r\n",
      "static PyObject* sumArray(PyObject* self, PyObject* args) {\r\n",
      "  int N;\r\n",
      "  long int sum;\r\n",
      "  //int* a;\r\n",
      "  PyArrayObject *in_array;\r\n",
      "  \r\n",
      "  clock_t start, end;\r\n",
      "  double cpu_time;\r\n",
      "\r\n",
      "  /*  parse the input */\r\n",
      "  //if (!PyArg_ParseTuple(args, \"i\", &N))\r\n",
      "  if (!PyArg_ParseTuple(args, \"O!\", &PyArray_Type, &in_array))\r\n",
      "    return NULL;\r\n",
      "  /* if the above function returns -1, an appropriate Python exception will\r\n",
      "   * have been set, and the function simply returns NULL\r\n",
      "   */\r\n",
      "\r\n",
      "  N = PyArray_DIM(in_array, 0);\r\n",
      "  printf(\"array size %d\\n\", N);\r\n",
      "\r\n",
      "  npy_double* data  = (npy_double*)PyArray_DATA(in_array);\r\n",
      "  //a = (int*)malloc(N*sizeof(int));\r\n",
      "  //if (!a) return NULL;\r\n",
      "  \r\n",
      "  /*for(i=0; i<N; i++) {\r\n",
      "    data[i] = i;\r\n",
      "    }*/\r\n",
      "\r\n",
      "  start = clock();\r\n",
      "  sum = sum_array(data, N);\r\n",
      "  end = clock();\r\n",
      "  cpu_time = ((double) (end - start)) / CLOCKS_PER_SEC;\r\n",
      "  cpu_time *= 1000000;\r\n",
      "  printf(\"%f usegs\\n\", cpu_time);\r\n",
      "  \r\n",
      "  /*  construct the output (https://docs.python.org/3/c-api/arg.html) */\r\n",
      "  return Py_BuildValue(\"d\", sum);\r\n",
      "}\r\n",
      "\r\n",
      "/*  define functions in module */\r\n",
      "static PyMethodDef module_methods[] = {\r\n",
      "  {\"sumArray\", sumArray, METH_VARARGS, \"Computes the sum of all elements of an array\"},\r\n",
      "  {NULL, NULL, 0, NULL}\r\n",
      "};\r\n",
      "\r\n",
      "/* module initialization */\r\n",
      "/* Python version 3*/\r\n",
      "static struct PyModuleDef cModPyDem = {\r\n",
      "    PyModuleDef_HEAD_INIT,\r\n",
      "    \"sumArray\", \"Computes the sum of all elements of an array\",\r\n",
      "    -1,\r\n",
      "    module_methods\r\n",
      "};\r\n",
      "\r\n",
      "PyMODINIT_FUNC\r\n",
      "PyInit_sum_array_module(void) {\r\n",
      "  import_array();\r\n",
      "  return PyModule_Create(&cModPyDem);\r\n",
      "}\r\n"
     ]
    }
   ],
   "source": [
    "!cat sum_array_module.c"
   ]
  },
  {
   "cell_type": "markdown",
   "metadata": {},
   "source": [
    "### Module compilation"
   ]
  },
  {
   "cell_type": "code",
   "execution_count": 12,
   "metadata": {},
   "outputs": [
    {
     "name": "stdout",
     "output_type": "stream",
     "text": [
      "from distutils.core import setup, Extension\r\n",
      "import numpy.distutils.misc_util\r\n",
      "\r\n",
      "# define the extension module\r\n",
      "sum_array_module = Extension(\r\n",
      "    'sum_array_module',\r\n",
      "    sources=['sum_array_module.c'],\r\n",
      "    include_dirs=numpy.distutils.misc_util.get_numpy_include_dirs()\r\n",
      ")\r\n",
      "\r\n",
      "# run the setup\r\n",
      "setup(\r\n",
      "    ext_modules=[sum_array_module],\r\n",
      ")\r\n"
     ]
    }
   ],
   "source": [
    "!cat setup.py"
   ]
  },
  {
   "cell_type": "code",
   "execution_count": 16,
   "metadata": {},
   "outputs": [
    {
     "name": "stdout",
     "output_type": "stream",
     "text": [
      "\u001b[39mrunning build_ext\u001b[0m\n",
      "\u001b[39mbuilding 'sum_array_module' extension\u001b[0m\n",
      "\u001b[39mC compiler: clang -fno-strict-aliasing -fno-common -dynamic -g -O2 -DNDEBUG -g -fwrapv -O3 -Wall -Wstrict-prototypes\n",
      "\u001b[0m\n",
      "\u001b[39mcompile options: '-I/usr/local/lib/python2.7/site-packages/numpy/core/include -I/usr/local/include -I/usr/local/opt/openssl/include -I/usr/local/opt/sqlite/include -I/usr/local/Cellar/python/2.7.13/Frameworks/Python.framework/Versions/2.7/include/python2.7 -c'\u001b[0m\n",
      "\u001b[39mclang: sum_array_module.c\u001b[0m\n",
      "In file included from sum_array_module.c:5:\n",
      "In file included from /usr/local/lib/python2.7/site-packages/numpy/core/include/numpy/arrayobject.h:4:\n",
      "In file included from /usr/local/lib/python2.7/site-packages/numpy/core/include/numpy/ndarrayobject.h:18:\n",
      "In file included from /usr/local/lib/python2.7/site-packages/numpy/core/include/numpy/ndarraytypes.h:1809:\n",
      "/usr/local/lib/python2.7/site-packages/numpy/core/include/numpy/npy_1_7_deprecated_api.h:15:2: warning: \"Using deprecated NumPy API, disable it by \"          \"#defining NPY_NO_DEPRECATED_API NPY_1_7_API_VERSION\" [-W#warnings]\n",
      "#warning \"Using deprecated NumPy API, disable it by \" \\\n",
      " ^\n",
      "sum_array_module.c:56:5: error: use of undeclared identifier 'PyModuleDef_HEAD_INIT'\n",
      "    PyModuleDef_HEAD_INIT,\n",
      "    ^\n",
      "sum_array_module.c:55:27: error: variable has incomplete type 'struct PyModuleDef'\n",
      "static struct PyModuleDef cModPyDem = {\n",
      "                          ^\n",
      "sum_array_module.c:55:15: note: forward declaration of 'struct PyModuleDef'\n",
      "static struct PyModuleDef cModPyDem = {\n",
      "              ^\n",
      "sum_array_module.c:65:10: warning: implicit declaration of function 'PyModule_Create' is invalid in C99 [-Wimplicit-function-declaration]\n",
      "  return PyModule_Create(&cModPyDem);\n",
      "         ^\n",
      "sum_array_module.c:65:10: warning: this function declaration is not a prototype [-Wstrict-prototypes]\n",
      "3 warnings and 2 errors generated.\n",
      "In file included from sum_array_module.c:5:\n",
      "In file included from /usr/local/lib/python2.7/site-packages/numpy/core/include/numpy/arrayobject.h:4:\n",
      "In file included from /usr/local/lib/python2.7/site-packages/numpy/core/include/numpy/ndarrayobject.h:18:\n",
      "In file included from /usr/local/lib/python2.7/site-packages/numpy/core/include/numpy/ndarraytypes.h:1809:\n",
      "/usr/local/lib/python2.7/site-packages/numpy/core/include/numpy/npy_1_7_deprecated_api.h:15:2: warning: \"Using deprecated NumPy API, disable it by \"          \"#defining NPY_NO_DEPRECATED_API NPY_1_7_API_VERSION\" [-W#warnings]\n",
      "#warning \"Using deprecated NumPy API, disable it by \" \\\n",
      " ^\n",
      "sum_array_module.c:56:5: error: use of undeclared identifier 'PyModuleDef_HEAD_INIT'\n",
      "    PyModuleDef_HEAD_INIT,\n",
      "    ^\n",
      "sum_array_module.c:55:27: error: variable has incomplete type 'struct PyModuleDef'\n",
      "static struct PyModuleDef cModPyDem = {\n",
      "                          ^\n",
      "sum_array_module.c:55:15: note: forward declaration of 'struct PyModuleDef'\n",
      "static struct PyModuleDef cModPyDem = {\n",
      "              ^\n",
      "sum_array_module.c:65:10: warning: implicit declaration of function 'PyModule_Create' is invalid in C99 [-Wimplicit-function-declaration]\n",
      "  return PyModule_Create(&cModPyDem);\n",
      "         ^\n",
      "sum_array_module.c:65:10: warning: this function declaration is not a prototype [-Wstrict-prototypes]\n",
      "3 warnings and 2 errors generated.\n",
      "error: Command \"clang -fno-strict-aliasing -fno-common -dynamic -g -O2 -DNDEBUG -g -fwrapv -O3 -Wall -Wstrict-prototypes -I/usr/local/lib/python2.7/site-packages/numpy/core/include -I/usr/local/include -I/usr/local/opt/openssl/include -I/usr/local/opt/sqlite/include -I/usr/local/Cellar/python/2.7.13/Frameworks/Python.framework/Versions/2.7/include/python2.7 -c sum_array_module.c -o build/temp.macosx-10.12-x86_64-2.7/sum_array_module.o\" failed with exit status 1\n"
     ]
    }
   ],
   "source": [
    "!python setup.py build_ext --inplace"
   ]
  },
  {
   "cell_type": "code",
   "execution_count": 3,
   "metadata": {},
   "outputs": [
    {
     "name": "stdout",
     "output_type": "stream",
     "text": [
      "204 µs ± 4.38 µs per loop (mean ± std. dev. of 7 runs, 10000 loops each)\n"
     ]
    }
   ],
   "source": [
    "import sum_array_module\n",
    "import numpy as np\n",
    "a = np.arange(100000)\n",
    "%timeit sum_array_module.sumArray(a)"
   ]
  },
  {
   "cell_type": "code",
   "execution_count": null,
   "metadata": {
    "collapsed": true
   },
   "outputs": [],
   "source": []
  }
 ],
 "metadata": {
  "kernelspec": {
   "display_name": "Python 3",
   "language": "python",
   "name": "python3"
  },
  "language_info": {
   "codemirror_mode": {
    "name": "ipython",
    "version": 3
   },
   "file_extension": ".py",
   "mimetype": "text/x-python",
   "name": "python",
   "nbconvert_exporter": "python",
   "pygments_lexer": "ipython3",
   "version": "3.6.1"
  }
 },
 "nbformat": 4,
 "nbformat_minor": 1
}
