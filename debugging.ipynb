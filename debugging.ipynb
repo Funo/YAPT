{
 "cells": [
  {
   "cell_type": "markdown",
   "metadata": {},
   "source": [
    "# Dubugging Python"
   ]
  },
  {
   "cell_type": "markdown",
   "metadata": {},
   "source": [
    "## Live and \"Post-Mortem\" Debugging"
   ]
  },
  {
   "cell_type": "markdown",
   "metadata": {},
   "source": [
    "```\n",
    "python -m pdb debug_me.py\n",
    "```"
   ]
  },
  {
   "cell_type": "markdown",
   "metadata": {},
   "source": [
    "## `pdb` commands"
   ]
  },
  {
   "cell_type": "code",
   "execution_count": null,
   "metadata": {
    "collapsed": true
   },
   "outputs": [],
   "source": [
    "Press `h` for help. Commands:\n",
    "1. `[l]ist {<first line> {,<last line>}}`: lists the related portion of code.\n",
    "2. `[w]here`: shows the execution stack.\n",
    "3. `[b]reak {{{file:}<line> | <function>} {, <condition>}}`: without argument, shows the breakpoints; with argument, sets a (if specified, conditional) breakpoint.\n",
    "4. `tbreak {{{file:}<line> | <function>} {, <condition>}}`: define a temporal breakpoint (only survives one hit).\n",
    "5. `disable <breakpoint number> {<breakpoint number> ...}`: disable a breakpoint.\n",
    "6. `enable <breakpoint number> {<breakpoint number> ...}`: enables a breakpoint.\n",
    "7. `[cl]ear {<break point number> {<break point number> ...}}`: deletes a breakpoint.\n",
    "8. `condition <breakpoint number> <condition>`: defines a condition for a breakpoint.\n",
    "9. `ignore <breakpoint number> <count>`: ignores a breakpoint for a number of hits.\n",
    "3. `[[c]ont]inue`: continues the execution.\n",
    "4. `[n]ext`: runs the following instruction (don't enter functions).\n",
    "5. `[s]tep`: runs the following instruction (enter functions).\n",
    "6. `[unt]il`: continues until execution reaches a line in the same function with a line number higher than the current value.\n",
    "5. `[u]p`: moves the current frame one level up in the stack trace (to an older frame).\n",
    "5. `[d]own`: moves the current frame one level down in the stack trace (to a newer frame).\n",
    "8. `[run] {args}`: (re)run the script.\n",
    "6. `[p]rint (<object>)`: prints an object.\n",
    "7. `[p]rety [p]rint (<object>)`: prints an object.\n",
    "8. `[a]rgs`: prints the arguments of the current funcion.\n",
    "10. `commands <breakpoint number> ... end`: define a set of debugging commands to be run each time a breakpoint is reached.\n",
    "1. `alias {<name> {<command> {<parameter> <parameter> ...}}}`: show/define an alias for a `pdb` command.\n",
    "8. `!`: run a Python expression."
   ]
  },
  {
   "cell_type": "markdown",
   "metadata": {},
   "source": [
    "## Example:"
   ]
  },
  {
   "cell_type": "markdown",
   "metadata": {
    "collapsed": true
   },
   "source": [
    "```\n",
    "python3 -m pdb debug_me.py\n",
    "> /Users/vruiz/python-tutorial/debug_me.py(6)<module>()\n",
    "-> def call_me():\n",
    "(Pdb) c\n",
    "Debug me with \"python -i debug_me.py\"\n",
    "After the run-time error, you should have access to the \"a\" variable\n",
    "Traceback (most recent call last):\n",
    "  File \"/usr/local/Cellar/python3/3.5.2_3/Frameworks/Python.framework/Versions/3.5/lib/python3.5/pdb.py\", line 1661, in main\n",
    "    pdb._runscript(mainpyfile)\n",
    "  File \"/usr/local/Cellar/python3/3.5.2_3/Frameworks/Python.framework/Versions/3.5/lib/python3.5/pdb.py\", line 1542, in _runscript\n",
    "    self.run(statement)\n",
    "  File \"/usr/local/Cellar/python3/3.5.2_3/Frameworks/Python.framework/Versions/3.5/lib/python3.5/bdb.py\", line 431, in run\n",
    "    exec(cmd, globals, locals)\n",
    "  File \"<string>\", line 1, in <module>\n",
    "  File \"/Users/vruiz/python-tutorial/debug_me.py\", line 6, in <module>\n",
    "    def call_me():\n",
    "  File \"/Users/vruiz/python-tutorial/debug_me.py\", line 11, in call_me\n",
    "    d=1/c\n",
    "ZeroDivisionError: division by zero\n",
    "Uncaught exception. Entering post mortem debugging\n",
    "Running 'cont' or 'step' will restart the program\n",
    "> /Users/vruiz/python-tutorial/debug_me.py(11)call_me()\n",
    "-> d=1/c\n",
    "(Pdb) l\n",
    "  6  \tdef call_me():\n",
    "  7  \t    print(\"Debug me with \\\"python -i debug_me.py\\\"\")\n",
    "  8  \t    print(\"After the run-time error, you should have access to the \\\"a\\\" variable\")\n",
    "  9  \t    a=1\n",
    " 10  \t    c=0\n",
    " 11  ->\t    d=1/c\n",
    " 12  \t    print(\"This code is never reached\")\n",
    " 13  \t    a=2\n",
    " 14  \t\n",
    " 15  \tb=1\n",
    " 16  \t\n",
    "(Pdb) p c\n",
    "0\n",
    "(Pdb) quit\n",
    "Post mortem debugger finished. The debug_me.py will be restarted\n",
    "> /Users/vruiz/python-tutorial/debug_me.py(6)<module>()\n",
    "-> def call_me():\n",
    "(Pdb) quit\n",
    "```"
   ]
  },
  {
   "cell_type": "code",
   "execution_count": null,
   "metadata": {
    "collapsed": true
   },
   "outputs": [],
   "source": []
  }
 ],
 "metadata": {
  "kernelspec": {
   "display_name": "Python 3",
   "language": "python",
   "name": "python3"
  },
  "language_info": {
   "codemirror_mode": {
    "name": "ipython",
    "version": 3
   },
   "file_extension": ".py",
   "mimetype": "text/x-python",
   "name": "python",
   "nbconvert_exporter": "python",
   "pygments_lexer": "ipython3",
   "version": "3.5.2"
  }
 },
 "nbformat": 4,
 "nbformat_minor": 1
}
