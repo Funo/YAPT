{
 "cells": [
  {
   "cell_type": "markdown",
   "metadata": {},
   "source": [
    "# Optimizing\n",
    "\n",
    "Running faster code."
   ]
  },
  {
   "cell_type": "markdown",
   "metadata": {},
   "source": [
    "## Vectorize"
   ]
  },
  {
   "cell_type": "markdown",
   "metadata": {},
   "source": [
    "[Discrete signal energy](https://en.wikipedia.org/wiki/Energy_(signal_processing):\n",
    "\n",
    "$$ E_{s} \\ \\ = \\ \\ \\langle x(n), x(n)\\rangle \\ \\  =  \\sum_{n=-\\infty}^{\\infty}{|x(n)|^2}$$"
   ]
  },
  {
   "cell_type": "markdown",
   "metadata": {},
   "source": [
    "[Discrete signal energy](https://en.wikipedia.org/wiki/Energy_(signal_processing):\n",
    "$$ E_{s} \\ \\ = \\ \\ \\langle x(n), x(n)\\rangle \\ \\  =  \\sum_{n=-\\infty}^{\\infty}{|x(n)|^2}$$\n",
    "can be computed as a particular case of the [dot product](https://en.wikipedia.org/wiki/Dot_product):\n",
    "$$ \\langle x(n), y(n)\\rangle \\ \\  =  \\sum_{n=-\\infty}^{\\infty}{x(n)y(n)}$$\n",
    "where both signals are the same."
   ]
  },
  {
   "cell_type": "code",
   "execution_count": null,
   "metadata": {},
   "outputs": [],
   "source": [
    "import numpy as np\n",
    "\n",
    "def non_vectorized_dot_product(x, y):\n",
    "    \"\"\"Return the sum of x[i] * y[j] for all pairs of indices i, j.\n",
    "\n",
    "    Example:\n",
    "    \n",
    "        >>> my_dot_product(np.arange(20), np.arange(20))\n",
    "    \n",
    "    \"\"\"\n",
    "    result = 0\n",
    "    for i in range(len(x)):\n",
    "        result += x[i] * y[i]\n",
    "    return result\n",
    "\n",
    "signal = np.random.random(1000)"
   ]
  },
  {
   "cell_type": "code",
   "execution_count": null,
   "metadata": {},
   "outputs": [],
   "source": [
    "%timeit my_dot_product(signal, signal)"
   ]
  },
  {
   "cell_type": "code",
   "execution_count": null,
   "metadata": {},
   "outputs": [],
   "source": [
    "my_dot_product(signal, signal)"
   ]
  },
  {
   "cell_type": "code",
   "execution_count": null,
   "metadata": {},
   "outputs": [],
   "source": [
    "%timeit np.sum(signal*signal)"
   ]
  },
  {
   "cell_type": "code",
   "execution_count": null,
   "metadata": {},
   "outputs": [],
   "source": [
    "np.sum(signal*signal)"
   ]
  },
  {
   "cell_type": "markdown",
   "metadata": {},
   "source": [
    "Another example:"
   ]
  },
  {
   "cell_type": "code",
   "execution_count": null,
   "metadata": {},
   "outputs": [],
   "source": [
    "# https://softwareengineering.stackexchange.com/questions/254475/how-do-i-move-away-from-the-for-loop-school-of-thought\n",
    "def cleanup(x, missing=-1, value=0):\n",
    "    \"\"\"Return an array that's the same as x, except that where x ==\n",
    "    missing, it has value instead.\n",
    "\n",
    "    >>> cleanup(np.arange(-3, 3), value=10)\n",
    "    ... # doctest: +NORMALIZE_WHITESPACE\n",
    "    array([-3, -2, 10, 0, 1, 2])\n",
    "\n",
    "    \"\"\"\n",
    "    result = []\n",
    "    for i in range(len(x)):\n",
    "        if x[i] == missing:\n",
    "            result.append(value)\n",
    "        else:\n",
    "            result.append(x[i])\n",
    "    return np.array(result)\n",
    "\n",
    "array = np.arange(-8,8)\n",
    "print(array)\n",
    "print(cleanup(array, value=10, missing=0))"
   ]
  },
  {
   "cell_type": "code",
   "execution_count": null,
   "metadata": {},
   "outputs": [],
   "source": [
    "array = np.arange(-1000,1000)\n",
    "%timeit cleanup(array, value=10, missing=0)\n",
    "print(array[995:1006])\n",
    "print(cleanup(array, value=10, missing=0)[995:1006])"
   ]
  },
  {
   "cell_type": "code",
   "execution_count": null,
   "metadata": {},
   "outputs": [],
   "source": [
    "# https://docs.scipy.org/doc/numpy-1.13.0/reference/generated/numpy.where.html\n",
    "# See \"notes\".\n",
    "value = [10]*2000\n",
    "%timeit [xv if c else yv for (c,xv,yv) in zip(array == 0, value, array)]\n",
    "print([xv if c else yv for (c,xv,yv) in zip(array == 0, value, array)][995:1006])"
   ]
  },
  {
   "cell_type": "code",
   "execution_count": null,
   "metadata": {},
   "outputs": [],
   "source": [
    "# https://docs.scipy.org/doc/numpy-1.13.0/reference/generated/numpy.where.html\n",
    "%timeit np.where(array == 0, 10, array)\n",
    "print(np.where(array == 0, 10, array)[995:1006])"
   ]
  },
  {
   "cell_type": "markdown",
   "metadata": {},
   "source": [
    "## Use in-place operations"
   ]
  },
  {
   "cell_type": "code",
   "execution_count": null,
   "metadata": {},
   "outputs": [],
   "source": [
    "a = np.random.random(500000)\n",
    "print(a[0:10])\n",
    "b = np.copy(a)\n",
    "%timeit global a; a = 10*a\n",
    "a = 10*a\n",
    "print(a[0:10])"
   ]
  },
  {
   "cell_type": "code",
   "execution_count": null,
   "metadata": {},
   "outputs": [],
   "source": [
    "a = np.copy(b)\n",
    "print(a[0:10])\n",
    "%timeit global a ; a *= 10\n",
    "a *= 10\n",
    "print(a[0:10])"
   ]
  },
  {
   "cell_type": "markdown",
   "metadata": {},
   "source": [
    "## Maximize locality in memory acess"
   ]
  },
  {
   "cell_type": "code",
   "execution_count": null,
   "metadata": {},
   "outputs": [],
   "source": [
    "a = np.random.rand(100,50)\n",
    "b = np.copy(a)"
   ]
  },
  {
   "cell_type": "code",
   "execution_count": null,
   "metadata": {},
   "outputs": [],
   "source": [
    "def mult(x, val):\n",
    "    for i in range(x.shape[0]):\n",
    "        for j in range(x.shape[1]):\n",
    "            x[i][j] /= val\n",
    "%timeit -n 1 -r 1 mult(a, 10)"
   ]
  },
  {
   "cell_type": "code",
   "execution_count": null,
   "metadata": {},
   "outputs": [],
   "source": [
    "a = np.copy(b)\n",
    "\n",
    "def mult2(x, val):\n",
    "    for j in range(x.shape[1]):\n",
    "        for i in range(x.shape[0]):\n",
    "            x[i][j] /= val\n",
    "            \n",
    "%timeit -n 1 -r 1 mult2(a, 10)"
   ]
  },
  {
   "cell_type": "code",
   "execution_count": null,
   "metadata": {},
   "outputs": [],
   "source": [
    "# http://www.scipy-lectures.org/advanced/optimizing/\n",
    "# https://docs.scipy.org/doc/numpy-1.13.0/reference/generated/numpy.sum.html"
   ]
  },
  {
   "cell_type": "code",
   "execution_count": null,
   "metadata": {},
   "outputs": [],
   "source": [
    "c = np.zeros((500, 1000), order='C')"
   ]
  },
  {
   "cell_type": "code",
   "execution_count": null,
   "metadata": {},
   "outputs": [],
   "source": [
    "%timeit c.sum(axis=0)\n",
    "c.sum(axis=0).shape"
   ]
  },
  {
   "cell_type": "code",
   "execution_count": null,
   "metadata": {},
   "outputs": [],
   "source": [
    "%timeit c.sum(axis=1)\n",
    "c.sum(axis=1).shape"
   ]
  },
  {
   "cell_type": "markdown",
   "metadata": {
    "collapsed": true
   },
   "source": [
    "## Delegating in C\n",
    "When you want to speed-up your code or simply when you need to reuse C code, it is possible to use from Python. There are several alternatives:\n",
    "\n",
    "1. [Cython](http://cython.org/): A superset of Python to allow you call C functions and load Python variables with C ones. \n",
    "2. [SWIG (Simplified Wrapper Interface Generator)](http://www.swig.org/): A software development tool to connect C/C++ programs with other languages (included Python).\n",
    "3. [Ctypes](http://python.net/crew/theller/ctypes/): A Python package that can be used to call shared libraries (`.ddl`/`.so`/`.dylib`) from Python.\n",
    "4. [Python-C-API](https://docs.python.org/3.6/c-api/index.html): A low-level interface between (compiled) C code and Python.\n",
    "\n",
    "We will show how to use Python-C-API because is the most flexible and efficient alternative. However, it is also the hardest to code."
   ]
  },
  {
   "cell_type": "markdown",
   "metadata": {},
   "source": [
    "### The C code to reuse in Python"
   ]
  },
  {
   "cell_type": "code",
   "execution_count": null,
   "metadata": {},
   "outputs": [],
   "source": [
    "!cat sum_array_lib.c"
   ]
  },
  {
   "cell_type": "code",
   "execution_count": null,
   "metadata": {},
   "outputs": [],
   "source": [
    "!cat sum_array.c"
   ]
  },
  {
   "cell_type": "code",
   "execution_count": null,
   "metadata": {},
   "outputs": [],
   "source": [
    "!gcc -O3 sum_array.c -o sum_array\n",
    "!./sum_array"
   ]
  },
  {
   "cell_type": "markdown",
   "metadata": {},
   "source": [
    "### The module"
   ]
  },
  {
   "cell_type": "code",
   "execution_count": null,
   "metadata": {},
   "outputs": [],
   "source": [
    "!cat sum_array_module.c"
   ]
  },
  {
   "cell_type": "markdown",
   "metadata": {},
   "source": [
    "### Module compilation"
   ]
  },
  {
   "cell_type": "code",
   "execution_count": null,
   "metadata": {},
   "outputs": [],
   "source": [
    "!cat setup.py"
   ]
  },
  {
   "cell_type": "code",
   "execution_count": null,
   "metadata": {},
   "outputs": [],
   "source": [
    "!python setup.py build_ext --inplace"
   ]
  },
  {
   "cell_type": "code",
   "execution_count": null,
   "metadata": {},
   "outputs": [],
   "source": [
    "import sum_array_module\n",
    "import numpy as np\n",
    "a = np.arange(100000)\n",
    "%timeit sum_array_module.sumArray(a)"
   ]
  },
  {
   "cell_type": "markdown",
   "metadata": {},
   "source": [
    "However, remember: vectorize when possible!"
   ]
  },
  {
   "cell_type": "code",
   "execution_count": null,
   "metadata": {},
   "outputs": [],
   "source": [
    "%timeit np.sum(a)"
   ]
  }
 ],
 "metadata": {
  "kernelspec": {
   "display_name": "Python 3",
   "language": "python",
   "name": "python3"
  },
  "language_info": {
   "codemirror_mode": {
    "name": "ipython",
    "version": 3
   },
   "file_extension": ".py",
   "mimetype": "text/x-python",
   "name": "python",
   "nbconvert_exporter": "python",
   "pygments_lexer": "ipython3",
   "version": "3.6.1"
  }
 },
 "nbformat": 4,
 "nbformat_minor": 1
}
