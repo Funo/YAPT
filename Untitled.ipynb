{
 "cells": [
  {
   "cell_type": "markdown",
   "metadata": {},
   "source": [
    "# Virtual environments"
   ]
  },
  {
   "cell_type": "markdown",
   "metadata": {},
   "source": [
    "Python is evolving continuously. For this reason, your code can works today and stop working tomorrow if something in the Python environment (the Python interpreter and the packages) changes. Python virtual environments creates different configurations and helps you to switch between them."
   ]
  },
  {
   "cell_type": "markdown",
   "metadata": {},
   "source": [
    "## First choice: the Python version"
   ]
  },
  {
   "cell_type": "markdown",
   "metadata": {},
   "source": [
    "Several Python versions can be installed in your system. To select one of them, define the environment variable (this is an example):\n",
    "```\n",
    "export VIRTUALENVWRAPPER_PYTHON=/usr/bin/python3\n",
    "```\n",
    "with the path to the executable of the interpreter you prefer.\n",
    "Next, install:\n",
    "1. `virtualenv`:\n",
    "```\n",
    "pip install virtualenv\n",
    "```\n",
    "2. `virtualenvwrapper`:\n",
    "    1. Windows:\n",
    "```\n",
    "pip install virtualenvwrapper-win\n",
    "```\n",
    "    2. Other operating systems:\n",
    "```\n",
    "pip install virtualenvwrapper\n",
    "export WORKON_HOME=~/Envs\n",
    "source /usr/local/bin/virtualenvwrapper.sh\n",
    "```\n",
    "    A good idea is to store these commands in a file that is read for the shell when it is executed (in the case of using Bash, `.bashrc` which is run by \"non-login shells\" or `.bash_profile` that is run by \"login shells\")."
   ]
  },
  {
   "cell_type": "code",
   "execution_count": null,
   "metadata": {
    "collapsed": true
   },
   "outputs": [],
   "source": []
  }
 ],
 "metadata": {
  "kernelspec": {
   "display_name": "Python 3",
   "language": "python",
   "name": "python3"
  },
  "language_info": {
   "codemirror_mode": {
    "name": "ipython",
    "version": 3
   },
   "file_extension": ".py",
   "mimetype": "text/x-python",
   "name": "python",
   "nbconvert_exporter": "python",
   "pygments_lexer": "ipython3",
   "version": "3.5.2"
  }
 },
 "nbformat": 4,
 "nbformat_minor": 1
}
