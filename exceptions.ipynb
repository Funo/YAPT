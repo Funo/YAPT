{
 "cells": [
  {
   "cell_type": "markdown",
   "metadata": {},
   "source": [
    "# Exceptions\n",
    "An exception is an event, which occurs during the execution of a program that disrupts the normal flow of the program's instructions. When a Python script raises an exception, it must either handle the exception immediately otherwise it terminates and quits."
   ]
  },
  {
   "cell_type": "markdown",
   "metadata": {},
   "source": [
    "## Handling (solving) exceptions"
   ]
  },
  {
   "cell_type": "markdown",
   "metadata": {},
   "source": [
    "Exceptions are used for handle errors or inusual situations. "
   ]
  },
  {
   "cell_type": "code",
   "execution_count": 1,
   "metadata": {
    "collapsed": false
   },
   "outputs": [
    {
     "name": "stdout",
     "output_type": "stream",
     "text": [
      "Please, enter something: s\n",
      "You entered \"s\".\n"
     ]
    }
   ],
   "source": [
    "# Note: You must interrupt the kernet in order to simulate <ctrl>+c.\n",
    "try:\n",
    "    text = input('Please, enter something: ')\n",
    "except:\n",
    "    print('Sorry, something wrong happened :-(')\n",
    "    \n",
    "# This command never should be executed if you didn't provide an input\n",
    "print('You entered \"{}\".'.format(text))"
   ]
  },
  {
   "cell_type": "code",
   "execution_count": 1,
   "metadata": {
    "collapsed": false
   },
   "outputs": [
    {
     "name": "stdout",
     "output_type": "stream",
     "text": [
      "Please, enter something: sdf\n",
      "You entered \"sdf\".\n"
     ]
    }
   ],
   "source": [
    "try:\n",
    "    text = input('Please, enter something: ')\n",
    "except:\n",
    "    print('Sorry, something wrong happened :-(')\n",
    "else:\n",
    "    # Now this statement is executed only if you provided an input\n",
    "    print('You entered \"{}\".'.format(text))"
   ]
  },
  {
   "cell_type": "code",
   "execution_count": 12,
   "metadata": {
    "collapsed": false
   },
   "outputs": [
    {
     "name": "stdout",
     "output_type": "stream",
     "text": [
      "Please, enter something: d\n",
      "You entered \"d\".\n",
      "Thanks for your interaction!\n"
     ]
    }
   ],
   "source": [
    "try:\n",
    "    text = input('Please, enter something: ')\n",
    "except:\n",
    "    print('Sorry, something wrong happened :-(')\n",
    "else:\n",
    "    print('You entered \"{}\".'.format(text))\n",
    "finally:\n",
    "    # This will always executed, with exception or not.\n",
    "    print('Thanks for your interaction!')"
   ]
  },
  {
   "cell_type": "code",
   "execution_count": 13,
   "metadata": {
    "collapsed": false
   },
   "outputs": [
    {
     "name": "stdout",
     "output_type": "stream",
     "text": [
      "Sorry, you cancelled the input (<ctrl>+c) :-(\n",
      "Thanks for your interaction!\n"
     ]
    }
   ],
   "source": [
    "try:\n",
    "    text = input('Please, enter something: ')\n",
    "except EOFError: # Exception specific for input()\n",
    "    print('Sorry, you didn\\'t enter anything (<ctrl>+d) :-(')\n",
    "except KeyboardInterrupt: # Exception raised when a program is interrupted\n",
    "    print('Sorry, you cancelled the input (<ctrl>+c) :-(')\n",
    "else:\n",
    "    print('You entered \"{}\".'.format(text))\n",
    "finally:\n",
    "    print('Thanks for your interaction!')"
   ]
  },
  {
   "cell_type": "markdown",
   "metadata": {},
   "source": [
    "## Raising exceptions\n",
    "Sometimes we don't want of know how to manage an exception in the current function (or method). In this case, the exception can be *propagated* towards a higher-level function and solve it there."
   ]
  },
  {
   "cell_type": "code",
   "execution_count": 21,
   "metadata": {
    "collapsed": false
   },
   "outputs": [
    {
     "name": "stdout",
     "output_type": "stream",
     "text": [
      "Please, enter something: g\n",
      "Thanks for your interaction!\n"
     ]
    },
    {
     "ename": "AttributeError",
     "evalue": "'IncorrectTypeException' object has no attribute 'text'",
     "output_type": "error",
     "traceback": [
      "\u001b[0;31m---------------------------------------------------------------------------\u001b[0m",
      "\u001b[0;31mIncorrectTypeException\u001b[0m                    Traceback (most recent call last)",
      "\u001b[0;32m<ipython-input-21-6b43b6efea8d>\u001b[0m in \u001b[0;36m<module>\u001b[0;34m()\u001b[0m\n\u001b[1;32m     10\u001b[0m     \u001b[0;32mif\u001b[0m \u001b[0mtype\u001b[0m\u001b[0;34m(\u001b[0m\u001b[0mtext\u001b[0m\u001b[0;34m)\u001b[0m \u001b[0;32mis\u001b[0m \u001b[0;32mnot\u001b[0m \u001b[0mint\u001b[0m\u001b[0;34m:\u001b[0m\u001b[0;34m\u001b[0m\u001b[0m\n\u001b[0;32m---> 11\u001b[0;31m         \u001b[0;32mraise\u001b[0m \u001b[0mIncorrectTypeException\u001b[0m\u001b[0;34m(\u001b[0m\u001b[0mtext\u001b[0m\u001b[0;34m)\u001b[0m\u001b[0;34m\u001b[0m\u001b[0m\n\u001b[0m\u001b[1;32m     12\u001b[0m \u001b[0;32mexcept\u001b[0m \u001b[0mEOFError\u001b[0m\u001b[0;34m:\u001b[0m\u001b[0;34m\u001b[0m\u001b[0m\n",
      "\u001b[0;31mIncorrectTypeException\u001b[0m: g",
      "\nDuring handling of the above exception, another exception occurred:\n",
      "\u001b[0;31mAttributeError\u001b[0m                            Traceback (most recent call last)",
      "\u001b[0;32m<ipython-input-21-6b43b6efea8d>\u001b[0m in \u001b[0;36m<module>\u001b[0;34m()\u001b[0m\n\u001b[1;32m     15\u001b[0m     \u001b[0mprint\u001b[0m\u001b[0;34m(\u001b[0m\u001b[0;34m'Sorry, you cancelled the input (<ctrl>+c) :-('\u001b[0m\u001b[0;34m)\u001b[0m\u001b[0;34m\u001b[0m\u001b[0m\n\u001b[1;32m     16\u001b[0m \u001b[0;32mexcept\u001b[0m \u001b[0mIncorrectTypeException\u001b[0m \u001b[0;32mas\u001b[0m \u001b[0me\u001b[0m\u001b[0;34m:\u001b[0m\u001b[0;34m\u001b[0m\u001b[0m\n\u001b[0;32m---> 17\u001b[0;31m     \u001b[0mprint\u001b[0m\u001b[0;34m(\u001b[0m\u001b[0;34m'Sorry, you entered: {}, but a single integer must be provided :-('\u001b[0m\u001b[0;34m.\u001b[0m\u001b[0mformat\u001b[0m\u001b[0;34m(\u001b[0m\u001b[0mtype\u001b[0m\u001b[0;34m(\u001b[0m\u001b[0me\u001b[0m\u001b[0;34m.\u001b[0m\u001b[0mtext\u001b[0m\u001b[0;34m)\u001b[0m\u001b[0;34m)\u001b[0m\u001b[0;34m)\u001b[0m\u001b[0;34m\u001b[0m\u001b[0m\n\u001b[0m\u001b[1;32m     18\u001b[0m \u001b[0;32melse\u001b[0m\u001b[0;34m:\u001b[0m\u001b[0;34m\u001b[0m\u001b[0m\n\u001b[1;32m     19\u001b[0m     \u001b[0mprint\u001b[0m\u001b[0;34m(\u001b[0m\u001b[0;34m'You entered \"{}\".'\u001b[0m\u001b[0;34m.\u001b[0m\u001b[0mformat\u001b[0m\u001b[0;34m(\u001b[0m\u001b[0mtext\u001b[0m\u001b[0;34m)\u001b[0m\u001b[0;34m)\u001b[0m\u001b[0;34m\u001b[0m\u001b[0m\n",
      "\u001b[0;31mAttributeError\u001b[0m: 'IncorrectTypeException' object has no attribute 'text'"
     ]
    }
   ],
   "source": [
    "class IncorrectTypeException(Exception):\n",
    "    '''Check if the provided input is an integer.'''\n",
    "    \n",
    "    def __ini__(self, text:str):\n",
    "        Exception.__init__(self)\n",
    "        self.text = text\n",
    "        \n",
    "try:\n",
    "    text = input('Please, enter an integer: ')\n",
    "    if type(text) is not int:\n",
    "        raise IncorrectTypeException(text)\n",
    "except EOFError:\n",
    "    print('Sorry, you didn\\'t enter anything (<ctrl>+d) :-(')\n",
    "except KeyboardInterrupt:\n",
    "    print('Sorry, you cancelled the input (<ctrl>+c) :-(')\n",
    "except IncorrectTypeException as e:\n",
    "    print('Sorry, you entered: {}, but a single integer \\\n",
    "must be provided :-('.format(text))\n",
    "else:\n",
    "    print('You entered \"{}\".'.format(text))\n",
    "finally:\n",
    "    print('Thanks for your interaction!')"
   ]
  },
  {
   "cell_type": "code",
   "execution_count": null,
   "metadata": {
    "collapsed": true
   },
   "outputs": [],
   "source": []
  }
 ],
 "metadata": {
  "kernelspec": {
   "display_name": "Python 3",
   "language": "python",
   "name": "python3"
  },
  "language_info": {
   "codemirror_mode": {
    "name": "ipython",
    "version": 3
   },
   "file_extension": ".py",
   "mimetype": "text/x-python",
   "name": "python",
   "nbconvert_exporter": "python",
   "pygments_lexer": "ipython3",
   "version": "3.5.2"
  }
 },
 "nbformat": 4,
 "nbformat_minor": 1
}
