{
 "cells": [
  {
   "cell_type": "markdown",
   "metadata": {},
   "source": [
    "# Modules"
   ]
  },
  {
   "cell_type": "markdown",
   "metadata": {},
   "source": [
    "## Running modules"
   ]
  },
  {
   "cell_type": "markdown",
   "metadata": {},
   "source": [
    "Modules are python programs (in fact, by definition the Python interpreter run modules, not programs) which must be `.py` files."
   ]
  },
  {
   "cell_type": "markdown",
   "metadata": {},
   "source": [
    "Modules can be executed in two different ways:"
   ]
  },
  {
   "cell_type": "markdown",
   "metadata": {},
   "source": [
    "1. Interactively with `import`:\n",
    "```\n",
    "$ cat hello_world.py \n",
    "print(\"Hello world!\")\n",
    "$ python\n",
    ">>> import hello_world\n",
    "Hello world!\n",
    "```\n",
    "2. Non-interactively:\n",
    "```\n",
    "$ python hello_world.py\n",
    "Hello world!\n",
    "```"
   ]
  },
  {
   "cell_type": "markdown",
   "metadata": {},
   "source": [
    "## Module's contents access"
   ]
  },
  {
   "cell_type": "markdown",
   "metadata": {},
   "source": [
    "Module's objects can be accessed using the dotted notation:"
   ]
  },
  {
   "cell_type": "markdown",
   "metadata": {},
   "source": [
    "```\n",
    "$ cat module.py \n",
    "a = 1\n",
    "\n",
    "$ python\n",
    ">>> import module\n",
    ">>> print(module.a)\n",
    "1\n",
    "```"
   ]
  },
  {
   "cell_type": "markdown",
   "metadata": {},
   "source": [
    "## Module localization"
   ]
  },
  {
   "cell_type": "markdown",
   "metadata": {},
   "source": [
    "Modules can be placed in any directory of the file system. However, it is easier to use one of the \"paths\" listed in `sys.path`:"
   ]
  },
  {
   "cell_type": "markdown",
   "metadata": {},
   "source": [
    "```\n",
    "$ python\n",
    ">>> import sys\n",
    ">>> print(sys.path)\n",
    "['', ..., '/usr/local/lib/python3.5/site-packages']\n",
    "```"
   ]
  },
  {
   "cell_type": "markdown",
   "metadata": {},
   "source": [
    "## Module name"
   ]
  },
  {
   "cell_type": "markdown",
   "metadata": {},
   "source": [
    "```\n",
    "$ cat module_name.py \n",
    "print(__name__)\n",
    "\n",
    "$ python module_name.py \n",
    "__main__\n",
    "\n",
    "$ python\n",
    ">>> import module_name\n",
    "module_name\n",
    "```"
   ]
  },
  {
   "cell_type": "markdown",
   "metadata": {},
   "source": [
    "## When we don't want to run a module when importing it ..."
   ]
  },
  {
   "cell_type": "markdown",
   "metadata": {},
   "source": [
    "```\n",
    "$ cat using__main__.py\n",
    "def print_something():\n",
    "    print(\":-)\")\n",
    "    \n",
    "if __name__ == '__main__':\n",
    "    print_something()\n",
    "\n",
    "$ python3\n",
    ">>> import using__main__\n",
    ">>> using__main__.print_something()\n",
    ":-)\n",
    "\n",
    "$ python using__main__.py\n",
    ":-)\n",
    "```"
   ]
  },
  {
   "cell_type": "code",
   "execution_count": null,
   "metadata": {
    "collapsed": true
   },
   "outputs": [],
   "source": []
  }
 ],
 "metadata": {
  "kernelspec": {
   "display_name": "Python 3",
   "language": "python",
   "name": "python3"
  },
  "language_info": {
   "codemirror_mode": {
    "name": "ipython",
    "version": 3
   },
   "file_extension": ".py",
   "mimetype": "text/x-python",
   "name": "python",
   "nbconvert_exporter": "python",
   "pygments_lexer": "ipython3",
   "version": "3.5.1rc1"
  }
 },
 "nbformat": 4,
 "nbformat_minor": 1
}
