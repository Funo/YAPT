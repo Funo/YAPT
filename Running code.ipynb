{
 "cells": [
  {
   "cell_type": "markdown",
   "metadata": {},
   "source": [
    "# Running code"
   ]
  },
  {
   "cell_type": "markdown",
   "metadata": {},
   "source": [
    "Python is a interpreted programming language. When we run a Python program, we are executing the translation to byte code of each command of our script over the Python Virtual Machine (PVM). The `.pyc` files that appear after running for the first time a script contains the byte code of such scripts. This is used by Python to speed up their future executions."
   ]
  },
  {
   "cell_type": "markdown",
   "metadata": {},
   "source": [
    "## The interactive Python shell"
   ]
  },
  {
   "cell_type": "markdown",
   "metadata": {},
   "source": [
    "The Python interpreter can be invoked of two ways: interactively or normally. The interactive version is commonly used to develop small scripts or getting some help. The most enjoyable way to do that is to run the interactive Python shell:\n",
    "```\n",
    "ipython\n",
    "```\n",
    "You will be able to peform dynamic object introspection, command completion, access to the system shell, ..."
   ]
  },
  {
   "cell_type": "markdown",
   "metadata": {},
   "source": [
    "One of the most useful comands that can be used in the interactive mode is the `help()` function which provides information about Python commands. Example:\n",
    "```\n",
    "help(print)\n",
    "```"
   ]
  },
  {
   "cell_type": "markdown",
   "metadata": {},
   "source": [
    "## Executing modules"
   ]
  },
  {
   "cell_type": "markdown",
   "metadata": {},
   "source": [
    "Modules are usually stored in files. But not always:\n",
    "\n",
    "```python -c 'print('Hello world!')'```"
   ]
  },
  {
   "cell_type": "markdown",
   "metadata": {},
   "source": [
    "Otherwise, there are two basic options:\n",
    "1. Explicitally calling the interpreter from the command line:\n",
    "```\n",
    "python script.py\n",
    "```\n",
    "2. Defining the Python shell in the first line of the script as:\n",
    "```\n",
    "#!/usr/bin/env python\n",
    "```\n"
   ]
  },
  {
   "cell_type": "code",
   "execution_count": null,
   "metadata": {
    "collapsed": true
   },
   "outputs": [],
   "source": []
  }
 ],
 "metadata": {
  "kernelspec": {
   "display_name": "Python 3",
   "language": "python",
   "name": "python3"
  },
  "language_info": {
   "codemirror_mode": {
    "name": "ipython",
    "version": 3
   },
   "file_extension": ".py",
   "mimetype": "text/x-python",
   "name": "python",
   "nbconvert_exporter": "python",
   "pygments_lexer": "ipython3",
   "version": "3.6.0"
  }
 },
 "nbformat": 4,
 "nbformat_minor": 1
}
